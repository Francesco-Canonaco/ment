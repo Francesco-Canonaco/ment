{
 "cells": [
  {
   "cell_type": "code",
   "execution_count": 1,
   "id": "2280ab5a",
   "metadata": {},
   "outputs": [],
   "source": [
    "import numpy as np\n",
    "import pandas as pd\n",
    "import graphviz\n",
    "import lingam\n",
    "from lingam.utils import print_causal_directions, print_dagc, make_dot\n",
    "from utilities import generate_connection_matrix, sample_uniform_noise, generate_dataset, sample_from_disjoint_interval"
   ]
  },
  {
   "cell_type": "code",
   "execution_count": 2,
   "id": "af959df6",
   "metadata": {},
   "outputs": [],
   "source": [
    "import random\n",
    "\n",
    "def perturb_adjacency_matrix(matrix, n=1, mode='both'):\n",
    "    \"\"\"\n",
    "    Perturbs a weighted adjacency matrix by adding/removing edges,\n",
    "    preserving causal order (i.e., j < i for edge j → i).\n",
    "\n",
    "    Parameters:\n",
    "    - matrix: np.ndarray, square weighted adjacency matrix\n",
    "    - n: number of edges to add/remove\n",
    "    - mode: 'add', 'remove', or 'both'\n",
    "    - weight_range: tuple, range of weights to assign when adding edges\n",
    "\n",
    "    Returns:\n",
    "    - new_matrix: np.ndarray, perturbed matrix\n",
    "    \"\"\"\n",
    "\n",
    "    new_matrix = matrix.copy()\n",
    "    num_nodes = new_matrix.shape[0]\n",
    "    \n",
    "    # Collect removable and addable edges\n",
    "    removable_edges = [(i, j) for i in range(num_nodes) for j in range(i) if new_matrix[i, j] != 0]\n",
    "    addable_edges = [(i, j) for i in range(num_nodes) for j in range(i) if new_matrix[i, j] == 0]\n",
    "    \n",
    "    if mode in ['remove', 'both']:\n",
    "        to_remove = random.sample(removable_edges, min(n, len(removable_edges)))\n",
    "        for i, j in to_remove:\n",
    "            new_matrix[i, j] = 0.0\n",
    "\n",
    "    if mode in ['add', 'both']:\n",
    "        to_add = random.sample(addable_edges, min(n, len(addable_edges)))\n",
    "        for i, j in to_add:\n",
    "            weight = sample_from_disjoint_interval(1)[0]\n",
    "            new_matrix[i, j] = weight\n",
    "\n",
    "    return new_matrix"
   ]
  },
  {
   "cell_type": "code",
   "execution_count": 3,
   "id": "61fe9b49",
   "metadata": {},
   "outputs": [],
   "source": [
    "%load_ext autoreload\n",
    "%autoreload 2"
   ]
  },
  {
   "cell_type": "code",
   "execution_count": 52,
   "id": "99ea3595",
   "metadata": {},
   "outputs": [],
   "source": [
    "P = [5, 6, 7] # number of variables/features\n",
    "S = [0.5, 0.45, 0.55]#[0.2, 0.25, 0.3] # edge probabilities (control the sparsity)\n",
    "C = 2 #number of groups\n",
    "PERT = 0.15 #perturbation level"
   ]
  },
  {
   "cell_type": "code",
   "execution_count": null,
   "id": "21553974",
   "metadata": {},
   "outputs": [],
   "source": [
    "def simulate_multigroup_data(P, S, C, PERT, shared_permutation=True, seed=None):\n",
    "    rng = np.random.default_rng(seed)\n",
    "    p = rng.choice(P)\n",
    "    s = rng.choice(S)\n",
    "    B = generate_connection_matrix(p, s)\n",
    "    make_dot(B)\n",
    "    perm = None\n",
    "    datasets = []\n",
    "    matrices = []\n",
    "    sample_sizes = [rng.integers(int(10_000), int(15_000)) for _ in range(C)] #change 10_000 and 15_000 with 1.2*p and 2.5*p\n",
    "    \n",
    "    for c in range(C):\n",
    "        n_perturb = int(np.count_nonzero(B) * PERT)\n",
    "        Bc = perturb_adjacency_matrix(B, n_perturb, \"both\")\n",
    "        make_dot(Bc)\n",
    "        variances = rng.uniform(1, 3, size=p)\n",
    "        E = sample_uniform_noise(sample_sizes[c], p, variances)\n",
    "        X, _, perm = generate_dataset(E, Bc, sample_sizes[c], permutation=perm \n",
    "        if shared_permutation else None)\n",
    "        datasets.append(X)\n",
    "        matrices.append(Bc)\n",
    "    \n",
    "    return datasets, matrices, perm"
   ]
  },
  {
   "cell_type": "code",
   "execution_count": 75,
   "id": "62a840f2",
   "metadata": {},
   "outputs": [],
   "source": [
    "from sklearn.metrics import mean_squared_error\n",
    "def average_squared_error(true_B, est_B):\n",
    "    # Flatten matrices and compute MSE\n",
    "    return mean_squared_error(true_B.flatten(), est_B.flatten())\n"
   ]
  },
  {
   "cell_type": "code",
   "execution_count": 63,
   "id": "975c2348",
   "metadata": {},
   "outputs": [],
   "source": [
    "X, Bs_true, perms = simulate_multigroup_data(P,S,C, PERT)"
   ]
  },
  {
   "cell_type": "code",
   "execution_count": 72,
   "id": "79619a09",
   "metadata": {},
   "outputs": [
    {
     "data": {
      "text/plain": [
       "array([[ True,  True,  True,  True,  True,  True],\n",
       "       [ True,  True,  True,  True,  True,  True],\n",
       "       [False,  True,  True,  True,  True,  True],\n",
       "       [ True,  True,  True,  True,  True,  True],\n",
       "       [ True,  True,  True,  True,  True,  True],\n",
       "       [ True, False,  True, False,  True,  True]])"
      ]
     },
     "execution_count": 72,
     "metadata": {},
     "output_type": "execute_result"
    }
   ],
   "source": [
    "Bs_true[0] == Bs_true[1]"
   ]
  },
  {
   "cell_type": "code",
   "execution_count": 64,
   "id": "5a3000ca",
   "metadata": {},
   "outputs": [
    {
     "data": {
      "image/svg+xml": [
       "<?xml version=\"1.0\" encoding=\"UTF-8\" standalone=\"no\"?>\n",
       "<!DOCTYPE svg PUBLIC \"-//W3C//DTD SVG 1.1//EN\"\n",
       " \"http://www.w3.org/Graphics/SVG/1.1/DTD/svg11.dtd\">\n",
       "<!-- Generated by graphviz version 12.2.1 (20241206.2353)\n",
       " -->\n",
       "<!-- Pages: 1 -->\n",
       "<svg width=\"322pt\" height=\"398pt\"\n",
       " viewBox=\"0.00 0.00 321.71 398.00\" xmlns=\"http://www.w3.org/2000/svg\" xmlns:xlink=\"http://www.w3.org/1999/xlink\">\n",
       "<g id=\"graph0\" class=\"graph\" transform=\"scale(1 1) rotate(0) translate(4 394)\">\n",
       "<polygon fill=\"white\" stroke=\"none\" points=\"-4,4 -4,-394 317.71,-394 317.71,4 -4,4\"/>\n",
       "<!-- x0 -->\n",
       "<g id=\"node1\" class=\"node\">\n",
       "<title>x0</title>\n",
       "<ellipse fill=\"none\" stroke=\"black\" cx=\"227\" cy=\"-372\" rx=\"27\" ry=\"18\"/>\n",
       "<text text-anchor=\"middle\" x=\"227\" y=\"-366.95\" font-family=\"Times,serif\" font-size=\"14.00\">x0</text>\n",
       "</g>\n",
       "<!-- x1 -->\n",
       "<g id=\"node2\" class=\"node\">\n",
       "<title>x1</title>\n",
       "<ellipse fill=\"none\" stroke=\"black\" cx=\"173\" cy=\"-283.5\" rx=\"27\" ry=\"18\"/>\n",
       "<text text-anchor=\"middle\" x=\"173\" y=\"-278.45\" font-family=\"Times,serif\" font-size=\"14.00\">x1</text>\n",
       "</g>\n",
       "<!-- x0&#45;&gt;x1 -->\n",
       "<g id=\"edge1\" class=\"edge\">\n",
       "<title>x0&#45;&gt;x1</title>\n",
       "<path fill=\"none\" stroke=\"black\" d=\"M217.1,-355.13C209.23,-342.53 198.07,-324.66 188.95,-310.05\"/>\n",
       "<polygon fill=\"black\" stroke=\"black\" points=\"192.09,-308.47 183.83,-301.84 186.15,-312.18 192.09,-308.47\"/>\n",
       "<text text-anchor=\"middle\" x=\"219.09\" y=\"-322.7\" font-family=\"Times,serif\" font-size=\"14.00\">&#45;0.84</text>\n",
       "</g>\n",
       "<!-- x3 -->\n",
       "<g id=\"node4\" class=\"node\">\n",
       "<title>x3</title>\n",
       "<ellipse fill=\"none\" stroke=\"black\" cx=\"245\" cy=\"-195\" rx=\"27\" ry=\"18\"/>\n",
       "<text text-anchor=\"middle\" x=\"245\" y=\"-189.95\" font-family=\"Times,serif\" font-size=\"14.00\">x3</text>\n",
       "</g>\n",
       "<!-- x0&#45;&gt;x3 -->\n",
       "<g id=\"edge3\" class=\"edge\">\n",
       "<title>x0&#45;&gt;x3</title>\n",
       "<path fill=\"none\" stroke=\"black\" d=\"M232.04,-354.04C233.55,-348.36 235.05,-341.95 236,-336 242.07,-297.87 244.08,-253.27 244.72,-224.84\"/>\n",
       "<polygon fill=\"black\" stroke=\"black\" points=\"248.22,-224.93 244.9,-214.87 241.22,-224.81 248.22,-224.93\"/>\n",
       "<text text-anchor=\"middle\" x=\"255.07\" y=\"-278.45\" font-family=\"Times,serif\" font-size=\"14.00\">0.94</text>\n",
       "</g>\n",
       "<!-- x4 -->\n",
       "<g id=\"node5\" class=\"node\">\n",
       "<title>x4</title>\n",
       "<ellipse fill=\"none\" stroke=\"black\" cx=\"245\" cy=\"-106.5\" rx=\"27\" ry=\"18\"/>\n",
       "<text text-anchor=\"middle\" x=\"245\" y=\"-101.45\" font-family=\"Times,serif\" font-size=\"14.00\">x4</text>\n",
       "</g>\n",
       "<!-- x0&#45;&gt;x4 -->\n",
       "<g id=\"edge5\" class=\"edge\">\n",
       "<title>x0&#45;&gt;x4</title>\n",
       "<path fill=\"none\" stroke=\"black\" d=\"M239.72,-355.85C250.15,-342.48 264.24,-321.98 271,-301.5 288.41,-248.79 287.31,-232.15 281,-177 279.21,-161.36 279.86,-156.66 273,-142.5 271.12,-138.63 268.76,-134.8 266.19,-131.18\"/>\n",
       "<polygon fill=\"black\" stroke=\"black\" points=\"269,-129.09 260.09,-123.36 263.48,-133.39 269,-129.09\"/>\n",
       "<text text-anchor=\"middle\" x=\"299.46\" y=\"-234.2\" font-family=\"Times,serif\" font-size=\"14.00\">&#45;1.48</text>\n",
       "</g>\n",
       "<!-- x5 -->\n",
       "<g id=\"node6\" class=\"node\">\n",
       "<title>x5</title>\n",
       "<ellipse fill=\"none\" stroke=\"black\" cx=\"98\" cy=\"-18\" rx=\"27\" ry=\"18\"/>\n",
       "<text text-anchor=\"middle\" x=\"98\" y=\"-12.95\" font-family=\"Times,serif\" font-size=\"14.00\">x5</text>\n",
       "</g>\n",
       "<!-- x0&#45;&gt;x5 -->\n",
       "<g id=\"edge9\" class=\"edge\">\n",
       "<title>x0&#45;&gt;x5</title>\n",
       "<path fill=\"none\" stroke=\"black\" d=\"M200.96,-366.76C141.33,-356.33 0,-327.1 0,-284.5 0,-284.5 0,-284.5 0,-105.5 0,-70.29 36.01,-45.98 64.37,-32.3\"/>\n",
       "<polygon fill=\"black\" stroke=\"black\" points=\"65.74,-35.52 73.4,-28.2 62.84,-29.15 65.74,-35.52\"/>\n",
       "<text text-anchor=\"middle\" x=\"12\" y=\"-189.95\" font-family=\"Times,serif\" font-size=\"14.00\">0.51</text>\n",
       "</g>\n",
       "<!-- x2 -->\n",
       "<g id=\"node3\" class=\"node\">\n",
       "<title>x2</title>\n",
       "<ellipse fill=\"none\" stroke=\"black\" cx=\"113\" cy=\"-195\" rx=\"27\" ry=\"18\"/>\n",
       "<text text-anchor=\"middle\" x=\"113\" y=\"-189.95\" font-family=\"Times,serif\" font-size=\"14.00\">x2</text>\n",
       "</g>\n",
       "<!-- x1&#45;&gt;x2 -->\n",
       "<g id=\"edge2\" class=\"edge\">\n",
       "<title>x1&#45;&gt;x2</title>\n",
       "<path fill=\"none\" stroke=\"black\" d=\"M155.57,-269.2C148.51,-263.15 140.69,-255.56 135,-247.5 129.83,-240.18 125.53,-231.47 122.15,-223.3\"/>\n",
       "<polygon fill=\"black\" stroke=\"black\" points=\"125.48,-222.2 118.64,-214.11 118.94,-224.7 125.48,-222.2\"/>\n",
       "<text text-anchor=\"middle\" x=\"147\" y=\"-234.2\" font-family=\"Times,serif\" font-size=\"14.00\">1.08</text>\n",
       "</g>\n",
       "<!-- x1&#45;&gt;x3 -->\n",
       "<g id=\"edge4\" class=\"edge\">\n",
       "<title>x1&#45;&gt;x3</title>\n",
       "<path fill=\"none\" stroke=\"black\" d=\"M182.38,-266.51C188.87,-255.98 198.01,-242.15 207.5,-231 211.54,-226.25 216.17,-221.48 220.78,-217.06\"/>\n",
       "<polygon fill=\"black\" stroke=\"black\" points=\"222.82,-219.94 227.78,-210.58 218.06,-214.81 222.82,-219.94\"/>\n",
       "<text text-anchor=\"middle\" x=\"221.75\" y=\"-234.2\" font-family=\"Times,serif\" font-size=\"14.00\">&#45;0.52</text>\n",
       "</g>\n",
       "<!-- x1&#45;&gt;x4 -->\n",
       "<g id=\"edge6\" class=\"edge\">\n",
       "<title>x1&#45;&gt;x4</title>\n",
       "<path fill=\"none\" stroke=\"black\" d=\"M171.92,-265.26C171.24,-243.68 172.28,-206.04 185,-177 193.08,-158.55 207.79,-141.39 220.63,-128.73\"/>\n",
       "<polygon fill=\"black\" stroke=\"black\" points=\"222.74,-131.55 227.6,-122.14 217.93,-126.46 222.74,-131.55\"/>\n",
       "<text text-anchor=\"middle\" x=\"197\" y=\"-189.95\" font-family=\"Times,serif\" font-size=\"14.00\">1.19</text>\n",
       "</g>\n",
       "<!-- x1&#45;&gt;x5 -->\n",
       "<g id=\"edge10\" class=\"edge\">\n",
       "<title>x1&#45;&gt;x5</title>\n",
       "<path fill=\"none\" stroke=\"black\" d=\"M150.07,-273.56C126.7,-263.03 91.84,-243.08 77,-213 50.12,-158.53 71.2,-85.19 86.24,-46.14\"/>\n",
       "<polygon fill=\"black\" stroke=\"black\" points=\"89.42,-47.61 89.9,-37.03 82.92,-45 89.42,-47.61\"/>\n",
       "<text text-anchor=\"middle\" x=\"76.27\" y=\"-145.7\" font-family=\"Times,serif\" font-size=\"14.00\">1.12</text>\n",
       "</g>\n",
       "<!-- x2&#45;&gt;x4 -->\n",
       "<g id=\"edge7\" class=\"edge\">\n",
       "<title>x2&#45;&gt;x4</title>\n",
       "<path fill=\"none\" stroke=\"black\" d=\"M122.14,-178.07C129.36,-166.74 140.39,-151.93 153.5,-142.5 172.85,-128.59 181.77,-133.07 204,-124.5 206.64,-123.48 209.37,-122.41 212.11,-121.31\"/>\n",
       "<polygon fill=\"black\" stroke=\"black\" points=\"213.19,-124.65 221.12,-117.63 210.54,-118.17 213.19,-124.65\"/>\n",
       "<text text-anchor=\"middle\" x=\"167.75\" y=\"-145.7\" font-family=\"Times,serif\" font-size=\"14.00\">&#45;1.39</text>\n",
       "</g>\n",
       "<!-- x2&#45;&gt;x5 -->\n",
       "<g id=\"edge11\" class=\"edge\">\n",
       "<title>x2&#45;&gt;x5</title>\n",
       "<path fill=\"none\" stroke=\"black\" d=\"M111.51,-176.58C108.92,-146.44 103.6,-84.3 100.46,-47.7\"/>\n",
       "<polygon fill=\"black\" stroke=\"black\" points=\"103.96,-47.52 99.62,-37.86 96.98,-48.12 103.96,-47.52\"/>\n",
       "<text text-anchor=\"middle\" x=\"121.24\" y=\"-101.45\" font-family=\"Times,serif\" font-size=\"14.00\">&#45;1.20</text>\n",
       "</g>\n",
       "<!-- x3&#45;&gt;x4 -->\n",
       "<g id=\"edge8\" class=\"edge\">\n",
       "<title>x3&#45;&gt;x4</title>\n",
       "<path fill=\"none\" stroke=\"black\" d=\"M245,-176.91C245,-165.26 245,-149.55 245,-136.02\"/>\n",
       "<polygon fill=\"black\" stroke=\"black\" points=\"248.5,-136.36 245,-126.36 241.5,-136.36 248.5,-136.36\"/>\n",
       "<text text-anchor=\"middle\" x=\"257\" y=\"-145.7\" font-family=\"Times,serif\" font-size=\"14.00\">1.04</text>\n",
       "</g>\n",
       "<!-- x3&#45;&gt;x5 -->\n",
       "<g id=\"edge12\" class=\"edge\">\n",
       "<title>x3&#45;&gt;x5</title>\n",
       "<path fill=\"none\" stroke=\"black\" d=\"M230.79,-179.42C217.47,-165.58 197.16,-144.04 180.5,-124.5 157.61,-97.65 132.87,-65.56 116.51,-43.87\"/>\n",
       "<polygon fill=\"black\" stroke=\"black\" points=\"119.34,-41.81 110.53,-35.91 113.74,-46.01 119.34,-41.81\"/>\n",
       "<text text-anchor=\"middle\" x=\"194.75\" y=\"-101.45\" font-family=\"Times,serif\" font-size=\"14.00\">&#45;0.73</text>\n",
       "</g>\n",
       "<!-- x4&#45;&gt;x5 -->\n",
       "<g id=\"edge13\" class=\"edge\">\n",
       "<title>x4&#45;&gt;x5</title>\n",
       "<path fill=\"none\" stroke=\"black\" d=\"M230.77,-90.91C219.24,-79.69 202.13,-64.41 185,-54 168.83,-44.18 149.42,-36.06 133.04,-30.13\"/>\n",
       "<polygon fill=\"black\" stroke=\"black\" points=\"134.28,-26.85 123.69,-26.87 131.98,-33.47 134.28,-26.85\"/>\n",
       "<text text-anchor=\"middle\" x=\"222.14\" y=\"-57.2\" font-family=\"Times,serif\" font-size=\"14.00\">&#45;0.95</text>\n",
       "</g>\n",
       "</g>\n",
       "</svg>\n"
      ],
      "text/plain": [
       "<graphviz.graphs.Digraph at 0x143d2f700>"
      ]
     },
     "execution_count": 64,
     "metadata": {},
     "output_type": "execute_result"
    }
   ],
   "source": [
    "make_dot(Bs_true[0])"
   ]
  },
  {
   "cell_type": "code",
   "execution_count": 65,
   "id": "3867c826",
   "metadata": {},
   "outputs": [
    {
     "data": {
      "image/svg+xml": [
       "<?xml version=\"1.0\" encoding=\"UTF-8\" standalone=\"no\"?>\n",
       "<!DOCTYPE svg PUBLIC \"-//W3C//DTD SVG 1.1//EN\"\n",
       " \"http://www.w3.org/Graphics/SVG/1.1/DTD/svg11.dtd\">\n",
       "<!-- Generated by graphviz version 12.2.1 (20241206.2353)\n",
       " -->\n",
       "<!-- Pages: 1 -->\n",
       "<svg width=\"309pt\" height=\"398pt\"\n",
       " viewBox=\"0.00 0.00 309.00 398.00\" xmlns=\"http://www.w3.org/2000/svg\" xmlns:xlink=\"http://www.w3.org/1999/xlink\">\n",
       "<g id=\"graph0\" class=\"graph\" transform=\"scale(1 1) rotate(0) translate(4 394)\">\n",
       "<polygon fill=\"white\" stroke=\"none\" points=\"-4,4 -4,-394 305,-394 305,4 -4,4\"/>\n",
       "<!-- x0 -->\n",
       "<g id=\"node1\" class=\"node\">\n",
       "<title>x0</title>\n",
       "<ellipse fill=\"none\" stroke=\"black\" cx=\"174\" cy=\"-372\" rx=\"27\" ry=\"18\"/>\n",
       "<text text-anchor=\"middle\" x=\"174\" y=\"-366.95\" font-family=\"Times,serif\" font-size=\"14.00\">x0</text>\n",
       "</g>\n",
       "<!-- x1 -->\n",
       "<g id=\"node2\" class=\"node\">\n",
       "<title>x1</title>\n",
       "<ellipse fill=\"none\" stroke=\"black\" cx=\"103\" cy=\"-283.5\" rx=\"27\" ry=\"18\"/>\n",
       "<text text-anchor=\"middle\" x=\"103\" y=\"-278.45\" font-family=\"Times,serif\" font-size=\"14.00\">x1</text>\n",
       "</g>\n",
       "<!-- x0&#45;&gt;x1 -->\n",
       "<g id=\"edge1\" class=\"edge\">\n",
       "<title>x0&#45;&gt;x1</title>\n",
       "<path fill=\"none\" stroke=\"black\" d=\"M155.71,-358.37C147.66,-352.24 138.47,-344.38 131.5,-336 125.34,-328.6 119.86,-319.67 115.39,-311.34\"/>\n",
       "<polygon fill=\"black\" stroke=\"black\" points=\"118.61,-309.96 110.97,-302.62 112.36,-313.12 118.61,-309.96\"/>\n",
       "<text text-anchor=\"middle\" x=\"145.75\" y=\"-322.7\" font-family=\"Times,serif\" font-size=\"14.00\">&#45;0.84</text>\n",
       "</g>\n",
       "<!-- x2 -->\n",
       "<g id=\"node3\" class=\"node\">\n",
       "<title>x2</title>\n",
       "<ellipse fill=\"none\" stroke=\"black\" cx=\"211\" cy=\"-195\" rx=\"27\" ry=\"18\"/>\n",
       "<text text-anchor=\"middle\" x=\"211\" y=\"-189.95\" font-family=\"Times,serif\" font-size=\"14.00\">x2</text>\n",
       "</g>\n",
       "<!-- x0&#45;&gt;x2 -->\n",
       "<g id=\"edge2\" class=\"edge\">\n",
       "<title>x0&#45;&gt;x2</title>\n",
       "<path fill=\"none\" stroke=\"black\" d=\"M181.32,-354.48C183.68,-348.71 186.16,-342.14 188,-336 199.5,-297.54 200.05,-287.2 206,-247.5 207.1,-240.13 208.02,-232.12 208.75,-224.67\"/>\n",
       "<polygon fill=\"black\" stroke=\"black\" points=\"212.23,-225 209.64,-214.73 205.26,-224.38 212.23,-225\"/>\n",
       "<text text-anchor=\"middle\" x=\"215.25\" y=\"-278.45\" font-family=\"Times,serif\" font-size=\"14.00\">1.30</text>\n",
       "</g>\n",
       "<!-- x3 -->\n",
       "<g id=\"node4\" class=\"node\">\n",
       "<title>x3</title>\n",
       "<ellipse fill=\"none\" stroke=\"black\" cx=\"27\" cy=\"-195\" rx=\"27\" ry=\"18\"/>\n",
       "<text text-anchor=\"middle\" x=\"27\" y=\"-189.95\" font-family=\"Times,serif\" font-size=\"14.00\">x3</text>\n",
       "</g>\n",
       "<!-- x0&#45;&gt;x3 -->\n",
       "<g id=\"edge4\" class=\"edge\">\n",
       "<title>x0&#45;&gt;x3</title>\n",
       "<path fill=\"none\" stroke=\"black\" d=\"M148.69,-364.98C118.36,-356.36 68.46,-337.41 43,-301.5 27.2,-279.21 24.29,-247.59 24.67,-224.78\"/>\n",
       "<polygon fill=\"black\" stroke=\"black\" points=\"28.16,-225.09 25.07,-214.96 21.16,-224.81 28.16,-225.09\"/>\n",
       "<text text-anchor=\"middle\" x=\"55\" y=\"-278.45\" font-family=\"Times,serif\" font-size=\"14.00\">0.94</text>\n",
       "</g>\n",
       "<!-- x4 -->\n",
       "<g id=\"node5\" class=\"node\">\n",
       "<title>x4</title>\n",
       "<ellipse fill=\"none\" stroke=\"black\" cx=\"143\" cy=\"-106.5\" rx=\"27\" ry=\"18\"/>\n",
       "<text text-anchor=\"middle\" x=\"143\" y=\"-101.45\" font-family=\"Times,serif\" font-size=\"14.00\">x4</text>\n",
       "</g>\n",
       "<!-- x0&#45;&gt;x4 -->\n",
       "<g id=\"edge6\" class=\"edge\">\n",
       "<title>x0&#45;&gt;x4</title>\n",
       "<path fill=\"none\" stroke=\"black\" d=\"M171.97,-353.71C166.74,-309.32 152.82,-190.99 146.37,-136.15\"/>\n",
       "<polygon fill=\"black\" stroke=\"black\" points=\"149.86,-135.88 145.22,-126.36 142.91,-136.7 149.86,-135.88\"/>\n",
       "<text text-anchor=\"middle\" x=\"173.47\" y=\"-234.2\" font-family=\"Times,serif\" font-size=\"14.00\">&#45;1.48</text>\n",
       "</g>\n",
       "<!-- x5 -->\n",
       "<g id=\"node6\" class=\"node\">\n",
       "<title>x5</title>\n",
       "<ellipse fill=\"none\" stroke=\"black\" cx=\"197\" cy=\"-18\" rx=\"27\" ry=\"18\"/>\n",
       "<text text-anchor=\"middle\" x=\"197\" y=\"-12.95\" font-family=\"Times,serif\" font-size=\"14.00\">x5</text>\n",
       "</g>\n",
       "<!-- x0&#45;&gt;x5 -->\n",
       "<g id=\"edge10\" class=\"edge\">\n",
       "<title>x0&#45;&gt;x5</title>\n",
       "<path fill=\"none\" stroke=\"black\" d=\"M197.89,-362.98C228.32,-351.07 277,-325.6 277,-284.5 277,-284.5 277,-284.5 277,-105.5 277,-75.03 249.91,-50.73 227.26,-35.74\"/>\n",
       "<polygon fill=\"black\" stroke=\"black\" points=\"229.22,-32.84 218.89,-30.51 225.51,-38.77 229.22,-32.84\"/>\n",
       "<text text-anchor=\"middle\" x=\"289\" y=\"-189.95\" font-family=\"Times,serif\" font-size=\"14.00\">0.51</text>\n",
       "</g>\n",
       "<!-- x1&#45;&gt;x2 -->\n",
       "<g id=\"edge3\" class=\"edge\">\n",
       "<title>x1&#45;&gt;x2</title>\n",
       "<path fill=\"none\" stroke=\"black\" d=\"M107.87,-265.29C111.75,-254.26 118.19,-240.3 128,-231 141,-218.67 158.99,-210.37 174.89,-204.96\"/>\n",
       "<polygon fill=\"black\" stroke=\"black\" points=\"175.53,-208.42 184.04,-202.11 173.45,-201.74 175.53,-208.42\"/>\n",
       "<text text-anchor=\"middle\" x=\"140\" y=\"-234.2\" font-family=\"Times,serif\" font-size=\"14.00\">1.08</text>\n",
       "</g>\n",
       "<!-- x1&#45;&gt;x3 -->\n",
       "<g id=\"edge5\" class=\"edge\">\n",
       "<title>x1&#45;&gt;x3</title>\n",
       "<path fill=\"none\" stroke=\"black\" d=\"M81.99,-271.7C71.79,-265.65 59.95,-257.35 51.5,-247.5 45.49,-240.5 40.61,-231.77 36.84,-223.5\"/>\n",
       "<polygon fill=\"black\" stroke=\"black\" points=\"40.16,-222.37 33.09,-214.48 33.69,-225.05 40.16,-222.37\"/>\n",
       "<text text-anchor=\"middle\" x=\"65.75\" y=\"-234.2\" font-family=\"Times,serif\" font-size=\"14.00\">&#45;0.52</text>\n",
       "</g>\n",
       "<!-- x1&#45;&gt;x4 -->\n",
       "<g id=\"edge7\" class=\"edge\">\n",
       "<title>x1&#45;&gt;x4</title>\n",
       "<path fill=\"none\" stroke=\"black\" d=\"M102.72,-265.03C102.79,-243.85 104.2,-207.26 112,-177 115.84,-162.11 122.6,-146.39 128.82,-133.67\"/>\n",
       "<polygon fill=\"black\" stroke=\"black\" points=\"131.75,-135.63 133.17,-125.13 125.52,-132.46 131.75,-135.63\"/>\n",
       "<text text-anchor=\"middle\" x=\"124\" y=\"-189.95\" font-family=\"Times,serif\" font-size=\"14.00\">1.19</text>\n",
       "</g>\n",
       "<!-- x2&#45;&gt;x4 -->\n",
       "<g id=\"edge8\" class=\"edge\">\n",
       "<title>x2&#45;&gt;x4</title>\n",
       "<path fill=\"none\" stroke=\"black\" d=\"M196.06,-179.53C190.04,-173.42 183.19,-166.08 177.5,-159 170.91,-150.8 164.32,-141.35 158.7,-132.81\"/>\n",
       "<polygon fill=\"black\" stroke=\"black\" points=\"161.77,-131.11 153.41,-124.59 155.88,-134.89 161.77,-131.11\"/>\n",
       "<text text-anchor=\"middle\" x=\"191.75\" y=\"-145.7\" font-family=\"Times,serif\" font-size=\"14.00\">&#45;1.39</text>\n",
       "</g>\n",
       "<!-- x2&#45;&gt;x5 -->\n",
       "<g id=\"edge11\" class=\"edge\">\n",
       "<title>x2&#45;&gt;x5</title>\n",
       "<path fill=\"none\" stroke=\"black\" d=\"M211.58,-176.65C212.19,-150.09 212.34,-97.81 206,-54 205.66,-51.67 205.23,-49.27 204.74,-46.88\"/>\n",
       "<polygon fill=\"black\" stroke=\"black\" points=\"208.21,-46.33 202.49,-37.41 201.4,-47.95 208.21,-46.33\"/>\n",
       "<text text-anchor=\"middle\" x=\"225.71\" y=\"-101.45\" font-family=\"Times,serif\" font-size=\"14.00\">&#45;1.20</text>\n",
       "</g>\n",
       "<!-- x3&#45;&gt;x4 -->\n",
       "<g id=\"edge9\" class=\"edge\">\n",
       "<title>x3&#45;&gt;x4</title>\n",
       "<path fill=\"none\" stroke=\"black\" d=\"M33.02,-177.21C37.76,-166.08 45.36,-151.84 56,-142.5 70.36,-129.9 89.82,-121.5 106.7,-116.1\"/>\n",
       "<polygon fill=\"black\" stroke=\"black\" points=\"107.29,-119.57 115.89,-113.39 105.31,-112.86 107.29,-119.57\"/>\n",
       "<text text-anchor=\"middle\" x=\"68\" y=\"-145.7\" font-family=\"Times,serif\" font-size=\"14.00\">1.04</text>\n",
       "</g>\n",
       "<!-- x3&#45;&gt;x5 -->\n",
       "<g id=\"edge12\" class=\"edge\">\n",
       "<title>x3&#45;&gt;x5</title>\n",
       "<path fill=\"none\" stroke=\"black\" d=\"M29.24,-176.74C31.01,-166.46 34.02,-153.35 39,-142.5 51.4,-115.47 56.44,-108.44 78.5,-88.5 104.36,-65.13 139.3,-45.8 164.54,-33.51\"/>\n",
       "<polygon fill=\"black\" stroke=\"black\" points=\"165.81,-36.78 173.34,-29.33 162.8,-30.45 165.81,-36.78\"/>\n",
       "<text text-anchor=\"middle\" x=\"92.75\" y=\"-101.45\" font-family=\"Times,serif\" font-size=\"14.00\">&#45;0.53</text>\n",
       "</g>\n",
       "<!-- x4&#45;&gt;x5 -->\n",
       "<g id=\"edge13\" class=\"edge\">\n",
       "<title>x4&#45;&gt;x5</title>\n",
       "<path fill=\"none\" stroke=\"black\" d=\"M152.9,-89.63C160.77,-77.03 171.93,-59.16 181.05,-44.55\"/>\n",
       "<polygon fill=\"black\" stroke=\"black\" points=\"183.85,-46.68 186.17,-36.34 177.91,-42.97 183.85,-46.68\"/>\n",
       "<text text-anchor=\"middle\" x=\"189.09\" y=\"-57.2\" font-family=\"Times,serif\" font-size=\"14.00\">&#45;0.95</text>\n",
       "</g>\n",
       "</g>\n",
       "</svg>\n"
      ],
      "text/plain": [
       "<graphviz.graphs.Digraph at 0x144155de0>"
      ]
     },
     "execution_count": 65,
     "metadata": {},
     "output_type": "execute_result"
    }
   ],
   "source": [
    "make_dot(Bs_true[1])"
   ]
  },
  {
   "cell_type": "code",
   "execution_count": 66,
   "id": "14394439",
   "metadata": {},
   "outputs": [
    {
     "data": {
      "text/plain": [
       "<lingam.multi_group_direct_lingam.MultiGroupDirectLiNGAM at 0x144155960>"
      ]
     },
     "execution_count": 66,
     "metadata": {},
     "output_type": "execute_result"
    }
   ],
   "source": [
    "model = lingam.MultiGroupDirectLiNGAM()\n",
    "model.fit(X)\n"
   ]
  },
  {
   "cell_type": "code",
   "execution_count": 67,
   "id": "00a31521",
   "metadata": {},
   "outputs": [],
   "source": [
    "inverse_perm = np.argsort(perms)\n",
    "B_group1_original_order = model.adjacency_matrices_[0][inverse_perm, :][:, inverse_perm]\n",
    "B_group2_original_order = model.adjacency_matrices_[1][inverse_perm, :][:, inverse_perm]\n"
   ]
  },
  {
   "cell_type": "code",
   "execution_count": 81,
   "id": "036cc531",
   "metadata": {},
   "outputs": [],
   "source": [
    "import cdt\n",
    "from cdt.metrics import SHD"
   ]
  },
  {
   "cell_type": "code",
   "execution_count": null,
   "id": "1605cd03",
   "metadata": {},
   "outputs": [
    {
     "data": {
      "text/plain": [
       "0"
      ]
     },
     "execution_count": 84,
     "metadata": {},
     "output_type": "execute_result"
    }
   ],
   "source": [
    "SHD((Bs_true[0] != 0).astype(int), ( B_group1_original_order != 0).astype(int), True) #double_for_anticausal (bool) – Count the badly oriented edges as two mistakes. Default: True"
   ]
  },
  {
   "cell_type": "code",
   "execution_count": 76,
   "id": "d7d321d3",
   "metadata": {},
   "outputs": [
    {
     "data": {
      "text/plain": [
       "0.00012938243116907656"
      ]
     },
     "execution_count": 76,
     "metadata": {},
     "output_type": "execute_result"
    }
   ],
   "source": [
    "mean_squared_error(B_group1_original_order, Bs_true[0])"
   ]
  },
  {
   "cell_type": "code",
   "execution_count": 77,
   "id": "1a56dbad",
   "metadata": {},
   "outputs": [
    {
     "data": {
      "text/plain": [
       "7.581761685986649e-05"
      ]
     },
     "execution_count": 77,
     "metadata": {},
     "output_type": "execute_result"
    }
   ],
   "source": [
    "mean_squared_error(B_group2_original_order, Bs_true[1])"
   ]
  },
  {
   "cell_type": "code",
   "execution_count": 68,
   "id": "55b32c5b",
   "metadata": {},
   "outputs": [
    {
     "data": {
      "image/svg+xml": [
       "<?xml version=\"1.0\" encoding=\"UTF-8\" standalone=\"no\"?>\n",
       "<!DOCTYPE svg PUBLIC \"-//W3C//DTD SVG 1.1//EN\"\n",
       " \"http://www.w3.org/Graphics/SVG/1.1/DTD/svg11.dtd\">\n",
       "<!-- Generated by graphviz version 12.2.1 (20241206.2353)\n",
       " -->\n",
       "<!-- Pages: 1 -->\n",
       "<svg width=\"322pt\" height=\"398pt\"\n",
       " viewBox=\"0.00 0.00 321.71 398.00\" xmlns=\"http://www.w3.org/2000/svg\" xmlns:xlink=\"http://www.w3.org/1999/xlink\">\n",
       "<g id=\"graph0\" class=\"graph\" transform=\"scale(1 1) rotate(0) translate(4 394)\">\n",
       "<polygon fill=\"white\" stroke=\"none\" points=\"-4,4 -4,-394 317.71,-394 317.71,4 -4,4\"/>\n",
       "<!-- x0 -->\n",
       "<g id=\"node1\" class=\"node\">\n",
       "<title>x0</title>\n",
       "<ellipse fill=\"none\" stroke=\"black\" cx=\"227\" cy=\"-372\" rx=\"27\" ry=\"18\"/>\n",
       "<text text-anchor=\"middle\" x=\"227\" y=\"-366.95\" font-family=\"Times,serif\" font-size=\"14.00\">x0</text>\n",
       "</g>\n",
       "<!-- x1 -->\n",
       "<g id=\"node2\" class=\"node\">\n",
       "<title>x1</title>\n",
       "<ellipse fill=\"none\" stroke=\"black\" cx=\"173\" cy=\"-283.5\" rx=\"27\" ry=\"18\"/>\n",
       "<text text-anchor=\"middle\" x=\"173\" y=\"-278.45\" font-family=\"Times,serif\" font-size=\"14.00\">x1</text>\n",
       "</g>\n",
       "<!-- x0&#45;&gt;x1 -->\n",
       "<g id=\"edge1\" class=\"edge\">\n",
       "<title>x0&#45;&gt;x1</title>\n",
       "<path fill=\"none\" stroke=\"black\" d=\"M217.1,-355.13C209.23,-342.53 198.07,-324.66 188.95,-310.05\"/>\n",
       "<polygon fill=\"black\" stroke=\"black\" points=\"192.09,-308.47 183.83,-301.84 186.15,-312.18 192.09,-308.47\"/>\n",
       "<text text-anchor=\"middle\" x=\"219.09\" y=\"-322.7\" font-family=\"Times,serif\" font-size=\"14.00\">&#45;0.84</text>\n",
       "</g>\n",
       "<!-- x3 -->\n",
       "<g id=\"node4\" class=\"node\">\n",
       "<title>x3</title>\n",
       "<ellipse fill=\"none\" stroke=\"black\" cx=\"245\" cy=\"-195\" rx=\"27\" ry=\"18\"/>\n",
       "<text text-anchor=\"middle\" x=\"245\" y=\"-189.95\" font-family=\"Times,serif\" font-size=\"14.00\">x3</text>\n",
       "</g>\n",
       "<!-- x0&#45;&gt;x3 -->\n",
       "<g id=\"edge3\" class=\"edge\">\n",
       "<title>x0&#45;&gt;x3</title>\n",
       "<path fill=\"none\" stroke=\"black\" d=\"M232.04,-354.04C233.55,-348.36 235.05,-341.95 236,-336 242.07,-297.87 244.08,-253.27 244.72,-224.84\"/>\n",
       "<polygon fill=\"black\" stroke=\"black\" points=\"248.22,-224.93 244.9,-214.87 241.22,-224.81 248.22,-224.93\"/>\n",
       "<text text-anchor=\"middle\" x=\"255.07\" y=\"-278.45\" font-family=\"Times,serif\" font-size=\"14.00\">0.95</text>\n",
       "</g>\n",
       "<!-- x4 -->\n",
       "<g id=\"node5\" class=\"node\">\n",
       "<title>x4</title>\n",
       "<ellipse fill=\"none\" stroke=\"black\" cx=\"245\" cy=\"-106.5\" rx=\"27\" ry=\"18\"/>\n",
       "<text text-anchor=\"middle\" x=\"245\" y=\"-101.45\" font-family=\"Times,serif\" font-size=\"14.00\">x4</text>\n",
       "</g>\n",
       "<!-- x0&#45;&gt;x4 -->\n",
       "<g id=\"edge5\" class=\"edge\">\n",
       "<title>x0&#45;&gt;x4</title>\n",
       "<path fill=\"none\" stroke=\"black\" d=\"M239.72,-355.85C250.15,-342.48 264.24,-321.98 271,-301.5 288.41,-248.79 287.31,-232.15 281,-177 279.21,-161.36 279.86,-156.66 273,-142.5 271.12,-138.63 268.76,-134.8 266.19,-131.18\"/>\n",
       "<polygon fill=\"black\" stroke=\"black\" points=\"269,-129.09 260.09,-123.36 263.48,-133.39 269,-129.09\"/>\n",
       "<text text-anchor=\"middle\" x=\"299.46\" y=\"-234.2\" font-family=\"Times,serif\" font-size=\"14.00\">&#45;1.48</text>\n",
       "</g>\n",
       "<!-- x5 -->\n",
       "<g id=\"node6\" class=\"node\">\n",
       "<title>x5</title>\n",
       "<ellipse fill=\"none\" stroke=\"black\" cx=\"98\" cy=\"-18\" rx=\"27\" ry=\"18\"/>\n",
       "<text text-anchor=\"middle\" x=\"98\" y=\"-12.95\" font-family=\"Times,serif\" font-size=\"14.00\">x5</text>\n",
       "</g>\n",
       "<!-- x0&#45;&gt;x5 -->\n",
       "<g id=\"edge9\" class=\"edge\">\n",
       "<title>x0&#45;&gt;x5</title>\n",
       "<path fill=\"none\" stroke=\"black\" d=\"M200.96,-366.76C141.33,-356.33 0,-327.1 0,-284.5 0,-284.5 0,-284.5 0,-105.5 0,-70.29 36.01,-45.98 64.37,-32.3\"/>\n",
       "<polygon fill=\"black\" stroke=\"black\" points=\"65.74,-35.52 73.4,-28.2 62.84,-29.15 65.74,-35.52\"/>\n",
       "<text text-anchor=\"middle\" x=\"12\" y=\"-189.95\" font-family=\"Times,serif\" font-size=\"14.00\">0.49</text>\n",
       "</g>\n",
       "<!-- x2 -->\n",
       "<g id=\"node3\" class=\"node\">\n",
       "<title>x2</title>\n",
       "<ellipse fill=\"none\" stroke=\"black\" cx=\"113\" cy=\"-195\" rx=\"27\" ry=\"18\"/>\n",
       "<text text-anchor=\"middle\" x=\"113\" y=\"-189.95\" font-family=\"Times,serif\" font-size=\"14.00\">x2</text>\n",
       "</g>\n",
       "<!-- x1&#45;&gt;x2 -->\n",
       "<g id=\"edge2\" class=\"edge\">\n",
       "<title>x1&#45;&gt;x2</title>\n",
       "<path fill=\"none\" stroke=\"black\" d=\"M155.57,-269.2C148.51,-263.15 140.69,-255.56 135,-247.5 129.83,-240.18 125.53,-231.47 122.15,-223.3\"/>\n",
       "<polygon fill=\"black\" stroke=\"black\" points=\"125.48,-222.2 118.64,-214.11 118.94,-224.7 125.48,-222.2\"/>\n",
       "<text text-anchor=\"middle\" x=\"147\" y=\"-234.2\" font-family=\"Times,serif\" font-size=\"14.00\">1.07</text>\n",
       "</g>\n",
       "<!-- x1&#45;&gt;x3 -->\n",
       "<g id=\"edge4\" class=\"edge\">\n",
       "<title>x1&#45;&gt;x3</title>\n",
       "<path fill=\"none\" stroke=\"black\" d=\"M182.38,-266.51C188.87,-255.98 198.01,-242.15 207.5,-231 211.54,-226.25 216.17,-221.48 220.78,-217.06\"/>\n",
       "<polygon fill=\"black\" stroke=\"black\" points=\"222.82,-219.94 227.78,-210.58 218.06,-214.81 222.82,-219.94\"/>\n",
       "<text text-anchor=\"middle\" x=\"221.75\" y=\"-234.2\" font-family=\"Times,serif\" font-size=\"14.00\">&#45;0.50</text>\n",
       "</g>\n",
       "<!-- x1&#45;&gt;x4 -->\n",
       "<g id=\"edge6\" class=\"edge\">\n",
       "<title>x1&#45;&gt;x4</title>\n",
       "<path fill=\"none\" stroke=\"black\" d=\"M171.92,-265.26C171.24,-243.68 172.28,-206.04 185,-177 193.08,-158.55 207.79,-141.39 220.63,-128.73\"/>\n",
       "<polygon fill=\"black\" stroke=\"black\" points=\"222.74,-131.55 227.6,-122.14 217.93,-126.46 222.74,-131.55\"/>\n",
       "<text text-anchor=\"middle\" x=\"197\" y=\"-189.95\" font-family=\"Times,serif\" font-size=\"14.00\">1.18</text>\n",
       "</g>\n",
       "<!-- x1&#45;&gt;x5 -->\n",
       "<g id=\"edge10\" class=\"edge\">\n",
       "<title>x1&#45;&gt;x5</title>\n",
       "<path fill=\"none\" stroke=\"black\" d=\"M150.07,-273.56C126.7,-263.03 91.84,-243.08 77,-213 50.12,-158.53 71.2,-85.19 86.24,-46.14\"/>\n",
       "<polygon fill=\"black\" stroke=\"black\" points=\"89.42,-47.61 89.9,-37.03 82.92,-45 89.42,-47.61\"/>\n",
       "<text text-anchor=\"middle\" x=\"76.27\" y=\"-145.7\" font-family=\"Times,serif\" font-size=\"14.00\">1.16</text>\n",
       "</g>\n",
       "<!-- x2&#45;&gt;x4 -->\n",
       "<g id=\"edge7\" class=\"edge\">\n",
       "<title>x2&#45;&gt;x4</title>\n",
       "<path fill=\"none\" stroke=\"black\" d=\"M122.14,-178.07C129.36,-166.74 140.39,-151.93 153.5,-142.5 172.85,-128.59 181.77,-133.07 204,-124.5 206.64,-123.48 209.37,-122.41 212.11,-121.31\"/>\n",
       "<polygon fill=\"black\" stroke=\"black\" points=\"213.19,-124.65 221.12,-117.63 210.54,-118.17 213.19,-124.65\"/>\n",
       "<text text-anchor=\"middle\" x=\"167.75\" y=\"-145.7\" font-family=\"Times,serif\" font-size=\"14.00\">&#45;1.38</text>\n",
       "</g>\n",
       "<!-- x2&#45;&gt;x5 -->\n",
       "<g id=\"edge11\" class=\"edge\">\n",
       "<title>x2&#45;&gt;x5</title>\n",
       "<path fill=\"none\" stroke=\"black\" d=\"M111.51,-176.58C108.92,-146.44 103.6,-84.3 100.46,-47.7\"/>\n",
       "<polygon fill=\"black\" stroke=\"black\" points=\"103.96,-47.52 99.62,-37.86 96.98,-48.12 103.96,-47.52\"/>\n",
       "<text text-anchor=\"middle\" x=\"121.24\" y=\"-101.45\" font-family=\"Times,serif\" font-size=\"14.00\">&#45;1.23</text>\n",
       "</g>\n",
       "<!-- x3&#45;&gt;x4 -->\n",
       "<g id=\"edge8\" class=\"edge\">\n",
       "<title>x3&#45;&gt;x4</title>\n",
       "<path fill=\"none\" stroke=\"black\" d=\"M245,-176.91C245,-165.26 245,-149.55 245,-136.02\"/>\n",
       "<polygon fill=\"black\" stroke=\"black\" points=\"248.5,-136.36 245,-126.36 241.5,-136.36 248.5,-136.36\"/>\n",
       "<text text-anchor=\"middle\" x=\"257\" y=\"-145.7\" font-family=\"Times,serif\" font-size=\"14.00\">1.04</text>\n",
       "</g>\n",
       "<!-- x3&#45;&gt;x5 -->\n",
       "<g id=\"edge12\" class=\"edge\">\n",
       "<title>x3&#45;&gt;x5</title>\n",
       "<path fill=\"none\" stroke=\"black\" d=\"M230.79,-179.42C217.47,-165.58 197.16,-144.04 180.5,-124.5 157.61,-97.65 132.87,-65.56 116.51,-43.87\"/>\n",
       "<polygon fill=\"black\" stroke=\"black\" points=\"119.34,-41.81 110.53,-35.91 113.74,-46.01 119.34,-41.81\"/>\n",
       "<text text-anchor=\"middle\" x=\"194.75\" y=\"-101.45\" font-family=\"Times,serif\" font-size=\"14.00\">&#45;0.71</text>\n",
       "</g>\n",
       "<!-- x4&#45;&gt;x5 -->\n",
       "<g id=\"edge13\" class=\"edge\">\n",
       "<title>x4&#45;&gt;x5</title>\n",
       "<path fill=\"none\" stroke=\"black\" d=\"M230.77,-90.91C219.24,-79.69 202.13,-64.41 185,-54 168.83,-44.18 149.42,-36.06 133.04,-30.13\"/>\n",
       "<polygon fill=\"black\" stroke=\"black\" points=\"134.28,-26.85 123.69,-26.87 131.98,-33.47 134.28,-26.85\"/>\n",
       "<text text-anchor=\"middle\" x=\"222.14\" y=\"-57.2\" font-family=\"Times,serif\" font-size=\"14.00\">&#45;0.96</text>\n",
       "</g>\n",
       "</g>\n",
       "</svg>\n"
      ],
      "text/plain": [
       "<graphviz.graphs.Digraph at 0x143798820>"
      ]
     },
     "execution_count": 68,
     "metadata": {},
     "output_type": "execute_result"
    }
   ],
   "source": [
    "make_dot(B_group1_original_order)"
   ]
  },
  {
   "cell_type": "code",
   "execution_count": 69,
   "id": "f883f9d4",
   "metadata": {},
   "outputs": [
    {
     "data": {
      "image/svg+xml": [
       "<?xml version=\"1.0\" encoding=\"UTF-8\" standalone=\"no\"?>\n",
       "<!DOCTYPE svg PUBLIC \"-//W3C//DTD SVG 1.1//EN\"\n",
       " \"http://www.w3.org/Graphics/SVG/1.1/DTD/svg11.dtd\">\n",
       "<!-- Generated by graphviz version 12.2.1 (20241206.2353)\n",
       " -->\n",
       "<!-- Pages: 1 -->\n",
       "<svg width=\"322pt\" height=\"398pt\"\n",
       " viewBox=\"0.00 0.00 321.71 398.00\" xmlns=\"http://www.w3.org/2000/svg\" xmlns:xlink=\"http://www.w3.org/1999/xlink\">\n",
       "<g id=\"graph0\" class=\"graph\" transform=\"scale(1 1) rotate(0) translate(4 394)\">\n",
       "<polygon fill=\"white\" stroke=\"none\" points=\"-4,4 -4,-394 317.71,-394 317.71,4 -4,4\"/>\n",
       "<!-- x0 -->\n",
       "<g id=\"node1\" class=\"node\">\n",
       "<title>x0</title>\n",
       "<ellipse fill=\"none\" stroke=\"black\" cx=\"227\" cy=\"-372\" rx=\"27\" ry=\"18\"/>\n",
       "<text text-anchor=\"middle\" x=\"227\" y=\"-366.95\" font-family=\"Times,serif\" font-size=\"14.00\">x0</text>\n",
       "</g>\n",
       "<!-- x1 -->\n",
       "<g id=\"node2\" class=\"node\">\n",
       "<title>x1</title>\n",
       "<ellipse fill=\"none\" stroke=\"black\" cx=\"173\" cy=\"-283.5\" rx=\"27\" ry=\"18\"/>\n",
       "<text text-anchor=\"middle\" x=\"173\" y=\"-278.45\" font-family=\"Times,serif\" font-size=\"14.00\">x1</text>\n",
       "</g>\n",
       "<!-- x0&#45;&gt;x1 -->\n",
       "<g id=\"edge1\" class=\"edge\">\n",
       "<title>x0&#45;&gt;x1</title>\n",
       "<path fill=\"none\" stroke=\"black\" d=\"M217.1,-355.13C209.23,-342.53 198.07,-324.66 188.95,-310.05\"/>\n",
       "<polygon fill=\"black\" stroke=\"black\" points=\"192.09,-308.47 183.83,-301.84 186.15,-312.18 192.09,-308.47\"/>\n",
       "<text text-anchor=\"middle\" x=\"219.09\" y=\"-322.7\" font-family=\"Times,serif\" font-size=\"14.00\">&#45;0.84</text>\n",
       "</g>\n",
       "<!-- x3 -->\n",
       "<g id=\"node4\" class=\"node\">\n",
       "<title>x3</title>\n",
       "<ellipse fill=\"none\" stroke=\"black\" cx=\"245\" cy=\"-195\" rx=\"27\" ry=\"18\"/>\n",
       "<text text-anchor=\"middle\" x=\"245\" y=\"-189.95\" font-family=\"Times,serif\" font-size=\"14.00\">x3</text>\n",
       "</g>\n",
       "<!-- x0&#45;&gt;x3 -->\n",
       "<g id=\"edge3\" class=\"edge\">\n",
       "<title>x0&#45;&gt;x3</title>\n",
       "<path fill=\"none\" stroke=\"black\" d=\"M232.04,-354.04C233.55,-348.36 235.05,-341.95 236,-336 242.07,-297.87 244.08,-253.27 244.72,-224.84\"/>\n",
       "<polygon fill=\"black\" stroke=\"black\" points=\"248.22,-224.93 244.9,-214.87 241.22,-224.81 248.22,-224.93\"/>\n",
       "<text text-anchor=\"middle\" x=\"255.07\" y=\"-278.45\" font-family=\"Times,serif\" font-size=\"14.00\">0.94</text>\n",
       "</g>\n",
       "<!-- x4 -->\n",
       "<g id=\"node5\" class=\"node\">\n",
       "<title>x4</title>\n",
       "<ellipse fill=\"none\" stroke=\"black\" cx=\"245\" cy=\"-106.5\" rx=\"27\" ry=\"18\"/>\n",
       "<text text-anchor=\"middle\" x=\"245\" y=\"-101.45\" font-family=\"Times,serif\" font-size=\"14.00\">x4</text>\n",
       "</g>\n",
       "<!-- x0&#45;&gt;x4 -->\n",
       "<g id=\"edge5\" class=\"edge\">\n",
       "<title>x0&#45;&gt;x4</title>\n",
       "<path fill=\"none\" stroke=\"black\" d=\"M239.72,-355.85C250.15,-342.48 264.24,-321.98 271,-301.5 288.41,-248.79 287.31,-232.15 281,-177 279.21,-161.36 279.86,-156.66 273,-142.5 271.12,-138.63 268.76,-134.8 266.19,-131.18\"/>\n",
       "<polygon fill=\"black\" stroke=\"black\" points=\"269,-129.09 260.09,-123.36 263.48,-133.39 269,-129.09\"/>\n",
       "<text text-anchor=\"middle\" x=\"299.46\" y=\"-234.2\" font-family=\"Times,serif\" font-size=\"14.00\">&#45;1.48</text>\n",
       "</g>\n",
       "<!-- x5 -->\n",
       "<g id=\"node6\" class=\"node\">\n",
       "<title>x5</title>\n",
       "<ellipse fill=\"none\" stroke=\"black\" cx=\"98\" cy=\"-18\" rx=\"27\" ry=\"18\"/>\n",
       "<text text-anchor=\"middle\" x=\"98\" y=\"-12.95\" font-family=\"Times,serif\" font-size=\"14.00\">x5</text>\n",
       "</g>\n",
       "<!-- x0&#45;&gt;x5 -->\n",
       "<g id=\"edge9\" class=\"edge\">\n",
       "<title>x0&#45;&gt;x5</title>\n",
       "<path fill=\"none\" stroke=\"black\" d=\"M200.96,-366.76C141.33,-356.33 0,-327.1 0,-284.5 0,-284.5 0,-284.5 0,-105.5 0,-70.29 36.01,-45.98 64.37,-32.3\"/>\n",
       "<polygon fill=\"black\" stroke=\"black\" points=\"65.74,-35.52 73.4,-28.2 62.84,-29.15 65.74,-35.52\"/>\n",
       "<text text-anchor=\"middle\" x=\"12\" y=\"-189.95\" font-family=\"Times,serif\" font-size=\"14.00\">0.51</text>\n",
       "</g>\n",
       "<!-- x2 -->\n",
       "<g id=\"node3\" class=\"node\">\n",
       "<title>x2</title>\n",
       "<ellipse fill=\"none\" stroke=\"black\" cx=\"113\" cy=\"-195\" rx=\"27\" ry=\"18\"/>\n",
       "<text text-anchor=\"middle\" x=\"113\" y=\"-189.95\" font-family=\"Times,serif\" font-size=\"14.00\">x2</text>\n",
       "</g>\n",
       "<!-- x1&#45;&gt;x2 -->\n",
       "<g id=\"edge2\" class=\"edge\">\n",
       "<title>x1&#45;&gt;x2</title>\n",
       "<path fill=\"none\" stroke=\"black\" d=\"M155.57,-269.2C148.51,-263.15 140.69,-255.56 135,-247.5 129.83,-240.18 125.53,-231.47 122.15,-223.3\"/>\n",
       "<polygon fill=\"black\" stroke=\"black\" points=\"125.48,-222.2 118.64,-214.11 118.94,-224.7 125.48,-222.2\"/>\n",
       "<text text-anchor=\"middle\" x=\"147\" y=\"-234.2\" font-family=\"Times,serif\" font-size=\"14.00\">1.08</text>\n",
       "</g>\n",
       "<!-- x1&#45;&gt;x3 -->\n",
       "<g id=\"edge4\" class=\"edge\">\n",
       "<title>x1&#45;&gt;x3</title>\n",
       "<path fill=\"none\" stroke=\"black\" d=\"M182.38,-266.51C188.87,-255.98 198.01,-242.15 207.5,-231 211.54,-226.25 216.17,-221.48 220.78,-217.06\"/>\n",
       "<polygon fill=\"black\" stroke=\"black\" points=\"222.82,-219.94 227.78,-210.58 218.06,-214.81 222.82,-219.94\"/>\n",
       "<text text-anchor=\"middle\" x=\"221.75\" y=\"-234.2\" font-family=\"Times,serif\" font-size=\"14.00\">&#45;0.52</text>\n",
       "</g>\n",
       "<!-- x1&#45;&gt;x4 -->\n",
       "<g id=\"edge6\" class=\"edge\">\n",
       "<title>x1&#45;&gt;x4</title>\n",
       "<path fill=\"none\" stroke=\"black\" d=\"M171.92,-265.26C171.24,-243.68 172.28,-206.04 185,-177 193.08,-158.55 207.79,-141.39 220.63,-128.73\"/>\n",
       "<polygon fill=\"black\" stroke=\"black\" points=\"222.74,-131.55 227.6,-122.14 217.93,-126.46 222.74,-131.55\"/>\n",
       "<text text-anchor=\"middle\" x=\"197\" y=\"-189.95\" font-family=\"Times,serif\" font-size=\"14.00\">1.19</text>\n",
       "</g>\n",
       "<!-- x1&#45;&gt;x5 -->\n",
       "<g id=\"edge10\" class=\"edge\">\n",
       "<title>x1&#45;&gt;x5</title>\n",
       "<path fill=\"none\" stroke=\"black\" d=\"M150.07,-273.56C126.7,-263.03 91.84,-243.08 77,-213 50.12,-158.53 71.2,-85.19 86.24,-46.14\"/>\n",
       "<polygon fill=\"black\" stroke=\"black\" points=\"89.42,-47.61 89.9,-37.03 82.92,-45 89.42,-47.61\"/>\n",
       "<text text-anchor=\"middle\" x=\"76.27\" y=\"-145.7\" font-family=\"Times,serif\" font-size=\"14.00\">1.12</text>\n",
       "</g>\n",
       "<!-- x2&#45;&gt;x4 -->\n",
       "<g id=\"edge7\" class=\"edge\">\n",
       "<title>x2&#45;&gt;x4</title>\n",
       "<path fill=\"none\" stroke=\"black\" d=\"M122.14,-178.07C129.36,-166.74 140.39,-151.93 153.5,-142.5 172.85,-128.59 181.77,-133.07 204,-124.5 206.64,-123.48 209.37,-122.41 212.11,-121.31\"/>\n",
       "<polygon fill=\"black\" stroke=\"black\" points=\"213.19,-124.65 221.12,-117.63 210.54,-118.17 213.19,-124.65\"/>\n",
       "<text text-anchor=\"middle\" x=\"167.75\" y=\"-145.7\" font-family=\"Times,serif\" font-size=\"14.00\">&#45;1.39</text>\n",
       "</g>\n",
       "<!-- x2&#45;&gt;x5 -->\n",
       "<g id=\"edge11\" class=\"edge\">\n",
       "<title>x2&#45;&gt;x5</title>\n",
       "<path fill=\"none\" stroke=\"black\" d=\"M111.51,-176.58C108.92,-146.44 103.6,-84.3 100.46,-47.7\"/>\n",
       "<polygon fill=\"black\" stroke=\"black\" points=\"103.96,-47.52 99.62,-37.86 96.98,-48.12 103.96,-47.52\"/>\n",
       "<text text-anchor=\"middle\" x=\"121.24\" y=\"-101.45\" font-family=\"Times,serif\" font-size=\"14.00\">&#45;1.20</text>\n",
       "</g>\n",
       "<!-- x3&#45;&gt;x4 -->\n",
       "<g id=\"edge8\" class=\"edge\">\n",
       "<title>x3&#45;&gt;x4</title>\n",
       "<path fill=\"none\" stroke=\"black\" d=\"M245,-176.91C245,-165.26 245,-149.55 245,-136.02\"/>\n",
       "<polygon fill=\"black\" stroke=\"black\" points=\"248.5,-136.36 245,-126.36 241.5,-136.36 248.5,-136.36\"/>\n",
       "<text text-anchor=\"middle\" x=\"257\" y=\"-145.7\" font-family=\"Times,serif\" font-size=\"14.00\">1.04</text>\n",
       "</g>\n",
       "<!-- x3&#45;&gt;x5 -->\n",
       "<g id=\"edge12\" class=\"edge\">\n",
       "<title>x3&#45;&gt;x5</title>\n",
       "<path fill=\"none\" stroke=\"black\" d=\"M230.79,-179.42C217.47,-165.58 197.16,-144.04 180.5,-124.5 157.61,-97.65 132.87,-65.56 116.51,-43.87\"/>\n",
       "<polygon fill=\"black\" stroke=\"black\" points=\"119.34,-41.81 110.53,-35.91 113.74,-46.01 119.34,-41.81\"/>\n",
       "<text text-anchor=\"middle\" x=\"194.75\" y=\"-101.45\" font-family=\"Times,serif\" font-size=\"14.00\">&#45;0.73</text>\n",
       "</g>\n",
       "<!-- x4&#45;&gt;x5 -->\n",
       "<g id=\"edge13\" class=\"edge\">\n",
       "<title>x4&#45;&gt;x5</title>\n",
       "<path fill=\"none\" stroke=\"black\" d=\"M230.77,-90.91C219.24,-79.69 202.13,-64.41 185,-54 168.83,-44.18 149.42,-36.06 133.04,-30.13\"/>\n",
       "<polygon fill=\"black\" stroke=\"black\" points=\"134.28,-26.85 123.69,-26.87 131.98,-33.47 134.28,-26.85\"/>\n",
       "<text text-anchor=\"middle\" x=\"222.14\" y=\"-57.2\" font-family=\"Times,serif\" font-size=\"14.00\">&#45;0.95</text>\n",
       "</g>\n",
       "</g>\n",
       "</svg>\n"
      ],
      "text/plain": [
       "<graphviz.graphs.Digraph at 0x144156e60>"
      ]
     },
     "execution_count": 69,
     "metadata": {},
     "output_type": "execute_result"
    }
   ],
   "source": [
    "make_dot(Bs_true[0])"
   ]
  },
  {
   "cell_type": "code",
   "execution_count": 70,
   "id": "11296e5d",
   "metadata": {},
   "outputs": [
    {
     "data": {
      "image/svg+xml": [
       "<?xml version=\"1.0\" encoding=\"UTF-8\" standalone=\"no\"?>\n",
       "<!DOCTYPE svg PUBLIC \"-//W3C//DTD SVG 1.1//EN\"\n",
       " \"http://www.w3.org/Graphics/SVG/1.1/DTD/svg11.dtd\">\n",
       "<!-- Generated by graphviz version 12.2.1 (20241206.2353)\n",
       " -->\n",
       "<!-- Pages: 1 -->\n",
       "<svg width=\"309pt\" height=\"398pt\"\n",
       " viewBox=\"0.00 0.00 309.00 398.00\" xmlns=\"http://www.w3.org/2000/svg\" xmlns:xlink=\"http://www.w3.org/1999/xlink\">\n",
       "<g id=\"graph0\" class=\"graph\" transform=\"scale(1 1) rotate(0) translate(4 394)\">\n",
       "<polygon fill=\"white\" stroke=\"none\" points=\"-4,4 -4,-394 305,-394 305,4 -4,4\"/>\n",
       "<!-- x0 -->\n",
       "<g id=\"node1\" class=\"node\">\n",
       "<title>x0</title>\n",
       "<ellipse fill=\"none\" stroke=\"black\" cx=\"174\" cy=\"-372\" rx=\"27\" ry=\"18\"/>\n",
       "<text text-anchor=\"middle\" x=\"174\" y=\"-366.95\" font-family=\"Times,serif\" font-size=\"14.00\">x0</text>\n",
       "</g>\n",
       "<!-- x1 -->\n",
       "<g id=\"node2\" class=\"node\">\n",
       "<title>x1</title>\n",
       "<ellipse fill=\"none\" stroke=\"black\" cx=\"103\" cy=\"-283.5\" rx=\"27\" ry=\"18\"/>\n",
       "<text text-anchor=\"middle\" x=\"103\" y=\"-278.45\" font-family=\"Times,serif\" font-size=\"14.00\">x1</text>\n",
       "</g>\n",
       "<!-- x0&#45;&gt;x1 -->\n",
       "<g id=\"edge1\" class=\"edge\">\n",
       "<title>x0&#45;&gt;x1</title>\n",
       "<path fill=\"none\" stroke=\"black\" d=\"M155.71,-358.37C147.66,-352.24 138.47,-344.38 131.5,-336 125.34,-328.6 119.86,-319.67 115.39,-311.34\"/>\n",
       "<polygon fill=\"black\" stroke=\"black\" points=\"118.61,-309.96 110.97,-302.62 112.36,-313.12 118.61,-309.96\"/>\n",
       "<text text-anchor=\"middle\" x=\"145.75\" y=\"-322.7\" font-family=\"Times,serif\" font-size=\"14.00\">&#45;0.84</text>\n",
       "</g>\n",
       "<!-- x2 -->\n",
       "<g id=\"node3\" class=\"node\">\n",
       "<title>x2</title>\n",
       "<ellipse fill=\"none\" stroke=\"black\" cx=\"211\" cy=\"-195\" rx=\"27\" ry=\"18\"/>\n",
       "<text text-anchor=\"middle\" x=\"211\" y=\"-189.95\" font-family=\"Times,serif\" font-size=\"14.00\">x2</text>\n",
       "</g>\n",
       "<!-- x0&#45;&gt;x2 -->\n",
       "<g id=\"edge2\" class=\"edge\">\n",
       "<title>x0&#45;&gt;x2</title>\n",
       "<path fill=\"none\" stroke=\"black\" d=\"M181.32,-354.48C183.68,-348.71 186.16,-342.14 188,-336 199.5,-297.54 200.05,-287.2 206,-247.5 207.1,-240.13 208.02,-232.12 208.75,-224.67\"/>\n",
       "<polygon fill=\"black\" stroke=\"black\" points=\"212.23,-225 209.64,-214.73 205.26,-224.38 212.23,-225\"/>\n",
       "<text text-anchor=\"middle\" x=\"215.25\" y=\"-278.45\" font-family=\"Times,serif\" font-size=\"14.00\">1.29</text>\n",
       "</g>\n",
       "<!-- x3 -->\n",
       "<g id=\"node4\" class=\"node\">\n",
       "<title>x3</title>\n",
       "<ellipse fill=\"none\" stroke=\"black\" cx=\"27\" cy=\"-195\" rx=\"27\" ry=\"18\"/>\n",
       "<text text-anchor=\"middle\" x=\"27\" y=\"-189.95\" font-family=\"Times,serif\" font-size=\"14.00\">x3</text>\n",
       "</g>\n",
       "<!-- x0&#45;&gt;x3 -->\n",
       "<g id=\"edge4\" class=\"edge\">\n",
       "<title>x0&#45;&gt;x3</title>\n",
       "<path fill=\"none\" stroke=\"black\" d=\"M148.69,-364.98C118.36,-356.36 68.46,-337.41 43,-301.5 27.2,-279.21 24.29,-247.59 24.67,-224.78\"/>\n",
       "<polygon fill=\"black\" stroke=\"black\" points=\"28.16,-225.09 25.07,-214.96 21.16,-224.81 28.16,-225.09\"/>\n",
       "<text text-anchor=\"middle\" x=\"55\" y=\"-278.45\" font-family=\"Times,serif\" font-size=\"14.00\">0.94</text>\n",
       "</g>\n",
       "<!-- x4 -->\n",
       "<g id=\"node5\" class=\"node\">\n",
       "<title>x4</title>\n",
       "<ellipse fill=\"none\" stroke=\"black\" cx=\"143\" cy=\"-106.5\" rx=\"27\" ry=\"18\"/>\n",
       "<text text-anchor=\"middle\" x=\"143\" y=\"-101.45\" font-family=\"Times,serif\" font-size=\"14.00\">x4</text>\n",
       "</g>\n",
       "<!-- x0&#45;&gt;x4 -->\n",
       "<g id=\"edge6\" class=\"edge\">\n",
       "<title>x0&#45;&gt;x4</title>\n",
       "<path fill=\"none\" stroke=\"black\" d=\"M171.97,-353.71C166.74,-309.32 152.82,-190.99 146.37,-136.15\"/>\n",
       "<polygon fill=\"black\" stroke=\"black\" points=\"149.86,-135.88 145.22,-126.36 142.91,-136.7 149.86,-135.88\"/>\n",
       "<text text-anchor=\"middle\" x=\"173.47\" y=\"-234.2\" font-family=\"Times,serif\" font-size=\"14.00\">&#45;1.50</text>\n",
       "</g>\n",
       "<!-- x5 -->\n",
       "<g id=\"node6\" class=\"node\">\n",
       "<title>x5</title>\n",
       "<ellipse fill=\"none\" stroke=\"black\" cx=\"197\" cy=\"-18\" rx=\"27\" ry=\"18\"/>\n",
       "<text text-anchor=\"middle\" x=\"197\" y=\"-12.95\" font-family=\"Times,serif\" font-size=\"14.00\">x5</text>\n",
       "</g>\n",
       "<!-- x0&#45;&gt;x5 -->\n",
       "<g id=\"edge10\" class=\"edge\">\n",
       "<title>x0&#45;&gt;x5</title>\n",
       "<path fill=\"none\" stroke=\"black\" d=\"M197.89,-362.98C228.32,-351.07 277,-325.6 277,-284.5 277,-284.5 277,-284.5 277,-105.5 277,-75.03 249.91,-50.73 227.26,-35.74\"/>\n",
       "<polygon fill=\"black\" stroke=\"black\" points=\"229.22,-32.84 218.89,-30.51 225.51,-38.77 229.22,-32.84\"/>\n",
       "<text text-anchor=\"middle\" x=\"289\" y=\"-189.95\" font-family=\"Times,serif\" font-size=\"14.00\">0.46</text>\n",
       "</g>\n",
       "<!-- x1&#45;&gt;x2 -->\n",
       "<g id=\"edge3\" class=\"edge\">\n",
       "<title>x1&#45;&gt;x2</title>\n",
       "<path fill=\"none\" stroke=\"black\" d=\"M107.87,-265.29C111.75,-254.26 118.19,-240.3 128,-231 141,-218.67 158.99,-210.37 174.89,-204.96\"/>\n",
       "<polygon fill=\"black\" stroke=\"black\" points=\"175.53,-208.42 184.04,-202.11 173.45,-201.74 175.53,-208.42\"/>\n",
       "<text text-anchor=\"middle\" x=\"140\" y=\"-234.2\" font-family=\"Times,serif\" font-size=\"14.00\">1.08</text>\n",
       "</g>\n",
       "<!-- x1&#45;&gt;x3 -->\n",
       "<g id=\"edge5\" class=\"edge\">\n",
       "<title>x1&#45;&gt;x3</title>\n",
       "<path fill=\"none\" stroke=\"black\" d=\"M81.99,-271.7C71.79,-265.65 59.95,-257.35 51.5,-247.5 45.49,-240.5 40.61,-231.77 36.84,-223.5\"/>\n",
       "<polygon fill=\"black\" stroke=\"black\" points=\"40.16,-222.37 33.09,-214.48 33.69,-225.05 40.16,-222.37\"/>\n",
       "<text text-anchor=\"middle\" x=\"65.75\" y=\"-234.2\" font-family=\"Times,serif\" font-size=\"14.00\">&#45;0.52</text>\n",
       "</g>\n",
       "<!-- x1&#45;&gt;x4 -->\n",
       "<g id=\"edge7\" class=\"edge\">\n",
       "<title>x1&#45;&gt;x4</title>\n",
       "<path fill=\"none\" stroke=\"black\" d=\"M102.72,-265.03C102.79,-243.85 104.2,-207.26 112,-177 115.84,-162.11 122.6,-146.39 128.82,-133.67\"/>\n",
       "<polygon fill=\"black\" stroke=\"black\" points=\"131.75,-135.63 133.17,-125.13 125.52,-132.46 131.75,-135.63\"/>\n",
       "<text text-anchor=\"middle\" x=\"124\" y=\"-189.95\" font-family=\"Times,serif\" font-size=\"14.00\">1.18</text>\n",
       "</g>\n",
       "<!-- x2&#45;&gt;x4 -->\n",
       "<g id=\"edge8\" class=\"edge\">\n",
       "<title>x2&#45;&gt;x4</title>\n",
       "<path fill=\"none\" stroke=\"black\" d=\"M196.06,-179.53C190.04,-173.42 183.19,-166.08 177.5,-159 170.91,-150.8 164.32,-141.35 158.7,-132.81\"/>\n",
       "<polygon fill=\"black\" stroke=\"black\" points=\"161.77,-131.11 153.41,-124.59 155.88,-134.89 161.77,-131.11\"/>\n",
       "<text text-anchor=\"middle\" x=\"191.75\" y=\"-145.7\" font-family=\"Times,serif\" font-size=\"14.00\">&#45;1.38</text>\n",
       "</g>\n",
       "<!-- x2&#45;&gt;x5 -->\n",
       "<g id=\"edge11\" class=\"edge\">\n",
       "<title>x2&#45;&gt;x5</title>\n",
       "<path fill=\"none\" stroke=\"black\" d=\"M211.58,-176.65C212.19,-150.09 212.34,-97.81 206,-54 205.66,-51.67 205.23,-49.27 204.74,-46.88\"/>\n",
       "<polygon fill=\"black\" stroke=\"black\" points=\"208.21,-46.33 202.49,-37.41 201.4,-47.95 208.21,-46.33\"/>\n",
       "<text text-anchor=\"middle\" x=\"225.71\" y=\"-101.45\" font-family=\"Times,serif\" font-size=\"14.00\">&#45;1.21</text>\n",
       "</g>\n",
       "<!-- x3&#45;&gt;x4 -->\n",
       "<g id=\"edge9\" class=\"edge\">\n",
       "<title>x3&#45;&gt;x4</title>\n",
       "<path fill=\"none\" stroke=\"black\" d=\"M33.02,-177.21C37.76,-166.08 45.36,-151.84 56,-142.5 70.36,-129.9 89.82,-121.5 106.7,-116.1\"/>\n",
       "<polygon fill=\"black\" stroke=\"black\" points=\"107.29,-119.57 115.89,-113.39 105.31,-112.86 107.29,-119.57\"/>\n",
       "<text text-anchor=\"middle\" x=\"68\" y=\"-145.7\" font-family=\"Times,serif\" font-size=\"14.00\">1.04</text>\n",
       "</g>\n",
       "<!-- x3&#45;&gt;x5 -->\n",
       "<g id=\"edge12\" class=\"edge\">\n",
       "<title>x3&#45;&gt;x5</title>\n",
       "<path fill=\"none\" stroke=\"black\" d=\"M29.24,-176.74C31.01,-166.46 34.02,-153.35 39,-142.5 51.4,-115.47 56.44,-108.44 78.5,-88.5 104.36,-65.13 139.3,-45.8 164.54,-33.51\"/>\n",
       "<polygon fill=\"black\" stroke=\"black\" points=\"165.81,-36.78 173.34,-29.33 162.8,-30.45 165.81,-36.78\"/>\n",
       "<text text-anchor=\"middle\" x=\"92.75\" y=\"-101.45\" font-family=\"Times,serif\" font-size=\"14.00\">&#45;0.52</text>\n",
       "</g>\n",
       "<!-- x4&#45;&gt;x5 -->\n",
       "<g id=\"edge13\" class=\"edge\">\n",
       "<title>x4&#45;&gt;x5</title>\n",
       "<path fill=\"none\" stroke=\"black\" d=\"M152.9,-89.63C160.77,-77.03 171.93,-59.16 181.05,-44.55\"/>\n",
       "<polygon fill=\"black\" stroke=\"black\" points=\"183.85,-46.68 186.17,-36.34 177.91,-42.97 183.85,-46.68\"/>\n",
       "<text text-anchor=\"middle\" x=\"189.09\" y=\"-57.2\" font-family=\"Times,serif\" font-size=\"14.00\">&#45;0.96</text>\n",
       "</g>\n",
       "</g>\n",
       "</svg>\n"
      ],
      "text/plain": [
       "<graphviz.graphs.Digraph at 0x143798ac0>"
      ]
     },
     "execution_count": 70,
     "metadata": {},
     "output_type": "execute_result"
    }
   ],
   "source": [
    "make_dot(B_group2_original_order)"
   ]
  },
  {
   "cell_type": "code",
   "execution_count": 71,
   "id": "87ffab9b",
   "metadata": {},
   "outputs": [
    {
     "data": {
      "image/svg+xml": [
       "<?xml version=\"1.0\" encoding=\"UTF-8\" standalone=\"no\"?>\n",
       "<!DOCTYPE svg PUBLIC \"-//W3C//DTD SVG 1.1//EN\"\n",
       " \"http://www.w3.org/Graphics/SVG/1.1/DTD/svg11.dtd\">\n",
       "<!-- Generated by graphviz version 12.2.1 (20241206.2353)\n",
       " -->\n",
       "<!-- Pages: 1 -->\n",
       "<svg width=\"309pt\" height=\"398pt\"\n",
       " viewBox=\"0.00 0.00 309.00 398.00\" xmlns=\"http://www.w3.org/2000/svg\" xmlns:xlink=\"http://www.w3.org/1999/xlink\">\n",
       "<g id=\"graph0\" class=\"graph\" transform=\"scale(1 1) rotate(0) translate(4 394)\">\n",
       "<polygon fill=\"white\" stroke=\"none\" points=\"-4,4 -4,-394 305,-394 305,4 -4,4\"/>\n",
       "<!-- x0 -->\n",
       "<g id=\"node1\" class=\"node\">\n",
       "<title>x0</title>\n",
       "<ellipse fill=\"none\" stroke=\"black\" cx=\"174\" cy=\"-372\" rx=\"27\" ry=\"18\"/>\n",
       "<text text-anchor=\"middle\" x=\"174\" y=\"-366.95\" font-family=\"Times,serif\" font-size=\"14.00\">x0</text>\n",
       "</g>\n",
       "<!-- x1 -->\n",
       "<g id=\"node2\" class=\"node\">\n",
       "<title>x1</title>\n",
       "<ellipse fill=\"none\" stroke=\"black\" cx=\"103\" cy=\"-283.5\" rx=\"27\" ry=\"18\"/>\n",
       "<text text-anchor=\"middle\" x=\"103\" y=\"-278.45\" font-family=\"Times,serif\" font-size=\"14.00\">x1</text>\n",
       "</g>\n",
       "<!-- x0&#45;&gt;x1 -->\n",
       "<g id=\"edge1\" class=\"edge\">\n",
       "<title>x0&#45;&gt;x1</title>\n",
       "<path fill=\"none\" stroke=\"black\" d=\"M155.71,-358.37C147.66,-352.24 138.47,-344.38 131.5,-336 125.34,-328.6 119.86,-319.67 115.39,-311.34\"/>\n",
       "<polygon fill=\"black\" stroke=\"black\" points=\"118.61,-309.96 110.97,-302.62 112.36,-313.12 118.61,-309.96\"/>\n",
       "<text text-anchor=\"middle\" x=\"145.75\" y=\"-322.7\" font-family=\"Times,serif\" font-size=\"14.00\">&#45;0.84</text>\n",
       "</g>\n",
       "<!-- x2 -->\n",
       "<g id=\"node3\" class=\"node\">\n",
       "<title>x2</title>\n",
       "<ellipse fill=\"none\" stroke=\"black\" cx=\"211\" cy=\"-195\" rx=\"27\" ry=\"18\"/>\n",
       "<text text-anchor=\"middle\" x=\"211\" y=\"-189.95\" font-family=\"Times,serif\" font-size=\"14.00\">x2</text>\n",
       "</g>\n",
       "<!-- x0&#45;&gt;x2 -->\n",
       "<g id=\"edge2\" class=\"edge\">\n",
       "<title>x0&#45;&gt;x2</title>\n",
       "<path fill=\"none\" stroke=\"black\" d=\"M181.32,-354.48C183.68,-348.71 186.16,-342.14 188,-336 199.5,-297.54 200.05,-287.2 206,-247.5 207.1,-240.13 208.02,-232.12 208.75,-224.67\"/>\n",
       "<polygon fill=\"black\" stroke=\"black\" points=\"212.23,-225 209.64,-214.73 205.26,-224.38 212.23,-225\"/>\n",
       "<text text-anchor=\"middle\" x=\"215.25\" y=\"-278.45\" font-family=\"Times,serif\" font-size=\"14.00\">1.30</text>\n",
       "</g>\n",
       "<!-- x3 -->\n",
       "<g id=\"node4\" class=\"node\">\n",
       "<title>x3</title>\n",
       "<ellipse fill=\"none\" stroke=\"black\" cx=\"27\" cy=\"-195\" rx=\"27\" ry=\"18\"/>\n",
       "<text text-anchor=\"middle\" x=\"27\" y=\"-189.95\" font-family=\"Times,serif\" font-size=\"14.00\">x3</text>\n",
       "</g>\n",
       "<!-- x0&#45;&gt;x3 -->\n",
       "<g id=\"edge4\" class=\"edge\">\n",
       "<title>x0&#45;&gt;x3</title>\n",
       "<path fill=\"none\" stroke=\"black\" d=\"M148.69,-364.98C118.36,-356.36 68.46,-337.41 43,-301.5 27.2,-279.21 24.29,-247.59 24.67,-224.78\"/>\n",
       "<polygon fill=\"black\" stroke=\"black\" points=\"28.16,-225.09 25.07,-214.96 21.16,-224.81 28.16,-225.09\"/>\n",
       "<text text-anchor=\"middle\" x=\"55\" y=\"-278.45\" font-family=\"Times,serif\" font-size=\"14.00\">0.94</text>\n",
       "</g>\n",
       "<!-- x4 -->\n",
       "<g id=\"node5\" class=\"node\">\n",
       "<title>x4</title>\n",
       "<ellipse fill=\"none\" stroke=\"black\" cx=\"143\" cy=\"-106.5\" rx=\"27\" ry=\"18\"/>\n",
       "<text text-anchor=\"middle\" x=\"143\" y=\"-101.45\" font-family=\"Times,serif\" font-size=\"14.00\">x4</text>\n",
       "</g>\n",
       "<!-- x0&#45;&gt;x4 -->\n",
       "<g id=\"edge6\" class=\"edge\">\n",
       "<title>x0&#45;&gt;x4</title>\n",
       "<path fill=\"none\" stroke=\"black\" d=\"M171.97,-353.71C166.74,-309.32 152.82,-190.99 146.37,-136.15\"/>\n",
       "<polygon fill=\"black\" stroke=\"black\" points=\"149.86,-135.88 145.22,-126.36 142.91,-136.7 149.86,-135.88\"/>\n",
       "<text text-anchor=\"middle\" x=\"173.47\" y=\"-234.2\" font-family=\"Times,serif\" font-size=\"14.00\">&#45;1.48</text>\n",
       "</g>\n",
       "<!-- x5 -->\n",
       "<g id=\"node6\" class=\"node\">\n",
       "<title>x5</title>\n",
       "<ellipse fill=\"none\" stroke=\"black\" cx=\"197\" cy=\"-18\" rx=\"27\" ry=\"18\"/>\n",
       "<text text-anchor=\"middle\" x=\"197\" y=\"-12.95\" font-family=\"Times,serif\" font-size=\"14.00\">x5</text>\n",
       "</g>\n",
       "<!-- x0&#45;&gt;x5 -->\n",
       "<g id=\"edge10\" class=\"edge\">\n",
       "<title>x0&#45;&gt;x5</title>\n",
       "<path fill=\"none\" stroke=\"black\" d=\"M197.89,-362.98C228.32,-351.07 277,-325.6 277,-284.5 277,-284.5 277,-284.5 277,-105.5 277,-75.03 249.91,-50.73 227.26,-35.74\"/>\n",
       "<polygon fill=\"black\" stroke=\"black\" points=\"229.22,-32.84 218.89,-30.51 225.51,-38.77 229.22,-32.84\"/>\n",
       "<text text-anchor=\"middle\" x=\"289\" y=\"-189.95\" font-family=\"Times,serif\" font-size=\"14.00\">0.51</text>\n",
       "</g>\n",
       "<!-- x1&#45;&gt;x2 -->\n",
       "<g id=\"edge3\" class=\"edge\">\n",
       "<title>x1&#45;&gt;x2</title>\n",
       "<path fill=\"none\" stroke=\"black\" d=\"M107.87,-265.29C111.75,-254.26 118.19,-240.3 128,-231 141,-218.67 158.99,-210.37 174.89,-204.96\"/>\n",
       "<polygon fill=\"black\" stroke=\"black\" points=\"175.53,-208.42 184.04,-202.11 173.45,-201.74 175.53,-208.42\"/>\n",
       "<text text-anchor=\"middle\" x=\"140\" y=\"-234.2\" font-family=\"Times,serif\" font-size=\"14.00\">1.08</text>\n",
       "</g>\n",
       "<!-- x1&#45;&gt;x3 -->\n",
       "<g id=\"edge5\" class=\"edge\">\n",
       "<title>x1&#45;&gt;x3</title>\n",
       "<path fill=\"none\" stroke=\"black\" d=\"M81.99,-271.7C71.79,-265.65 59.95,-257.35 51.5,-247.5 45.49,-240.5 40.61,-231.77 36.84,-223.5\"/>\n",
       "<polygon fill=\"black\" stroke=\"black\" points=\"40.16,-222.37 33.09,-214.48 33.69,-225.05 40.16,-222.37\"/>\n",
       "<text text-anchor=\"middle\" x=\"65.75\" y=\"-234.2\" font-family=\"Times,serif\" font-size=\"14.00\">&#45;0.52</text>\n",
       "</g>\n",
       "<!-- x1&#45;&gt;x4 -->\n",
       "<g id=\"edge7\" class=\"edge\">\n",
       "<title>x1&#45;&gt;x4</title>\n",
       "<path fill=\"none\" stroke=\"black\" d=\"M102.72,-265.03C102.79,-243.85 104.2,-207.26 112,-177 115.84,-162.11 122.6,-146.39 128.82,-133.67\"/>\n",
       "<polygon fill=\"black\" stroke=\"black\" points=\"131.75,-135.63 133.17,-125.13 125.52,-132.46 131.75,-135.63\"/>\n",
       "<text text-anchor=\"middle\" x=\"124\" y=\"-189.95\" font-family=\"Times,serif\" font-size=\"14.00\">1.19</text>\n",
       "</g>\n",
       "<!-- x2&#45;&gt;x4 -->\n",
       "<g id=\"edge8\" class=\"edge\">\n",
       "<title>x2&#45;&gt;x4</title>\n",
       "<path fill=\"none\" stroke=\"black\" d=\"M196.06,-179.53C190.04,-173.42 183.19,-166.08 177.5,-159 170.91,-150.8 164.32,-141.35 158.7,-132.81\"/>\n",
       "<polygon fill=\"black\" stroke=\"black\" points=\"161.77,-131.11 153.41,-124.59 155.88,-134.89 161.77,-131.11\"/>\n",
       "<text text-anchor=\"middle\" x=\"191.75\" y=\"-145.7\" font-family=\"Times,serif\" font-size=\"14.00\">&#45;1.39</text>\n",
       "</g>\n",
       "<!-- x2&#45;&gt;x5 -->\n",
       "<g id=\"edge11\" class=\"edge\">\n",
       "<title>x2&#45;&gt;x5</title>\n",
       "<path fill=\"none\" stroke=\"black\" d=\"M211.58,-176.65C212.19,-150.09 212.34,-97.81 206,-54 205.66,-51.67 205.23,-49.27 204.74,-46.88\"/>\n",
       "<polygon fill=\"black\" stroke=\"black\" points=\"208.21,-46.33 202.49,-37.41 201.4,-47.95 208.21,-46.33\"/>\n",
       "<text text-anchor=\"middle\" x=\"225.71\" y=\"-101.45\" font-family=\"Times,serif\" font-size=\"14.00\">&#45;1.20</text>\n",
       "</g>\n",
       "<!-- x3&#45;&gt;x4 -->\n",
       "<g id=\"edge9\" class=\"edge\">\n",
       "<title>x3&#45;&gt;x4</title>\n",
       "<path fill=\"none\" stroke=\"black\" d=\"M33.02,-177.21C37.76,-166.08 45.36,-151.84 56,-142.5 70.36,-129.9 89.82,-121.5 106.7,-116.1\"/>\n",
       "<polygon fill=\"black\" stroke=\"black\" points=\"107.29,-119.57 115.89,-113.39 105.31,-112.86 107.29,-119.57\"/>\n",
       "<text text-anchor=\"middle\" x=\"68\" y=\"-145.7\" font-family=\"Times,serif\" font-size=\"14.00\">1.04</text>\n",
       "</g>\n",
       "<!-- x3&#45;&gt;x5 -->\n",
       "<g id=\"edge12\" class=\"edge\">\n",
       "<title>x3&#45;&gt;x5</title>\n",
       "<path fill=\"none\" stroke=\"black\" d=\"M29.24,-176.74C31.01,-166.46 34.02,-153.35 39,-142.5 51.4,-115.47 56.44,-108.44 78.5,-88.5 104.36,-65.13 139.3,-45.8 164.54,-33.51\"/>\n",
       "<polygon fill=\"black\" stroke=\"black\" points=\"165.81,-36.78 173.34,-29.33 162.8,-30.45 165.81,-36.78\"/>\n",
       "<text text-anchor=\"middle\" x=\"92.75\" y=\"-101.45\" font-family=\"Times,serif\" font-size=\"14.00\">&#45;0.53</text>\n",
       "</g>\n",
       "<!-- x4&#45;&gt;x5 -->\n",
       "<g id=\"edge13\" class=\"edge\">\n",
       "<title>x4&#45;&gt;x5</title>\n",
       "<path fill=\"none\" stroke=\"black\" d=\"M152.9,-89.63C160.77,-77.03 171.93,-59.16 181.05,-44.55\"/>\n",
       "<polygon fill=\"black\" stroke=\"black\" points=\"183.85,-46.68 186.17,-36.34 177.91,-42.97 183.85,-46.68\"/>\n",
       "<text text-anchor=\"middle\" x=\"189.09\" y=\"-57.2\" font-family=\"Times,serif\" font-size=\"14.00\">&#45;0.95</text>\n",
       "</g>\n",
       "</g>\n",
       "</svg>\n"
      ],
      "text/plain": [
       "<graphviz.graphs.Digraph at 0x144154640>"
      ]
     },
     "execution_count": 71,
     "metadata": {},
     "output_type": "execute_result"
    }
   ],
   "source": [
    "make_dot(Bs_true[1])"
   ]
  },
  {
   "cell_type": "code",
   "execution_count": 199,
   "id": "f423d4d7",
   "metadata": {},
   "outputs": [],
   "source": [
    "variances = np.random.uniform(low=1,high=3,size=p)"
   ]
  },
  {
   "cell_type": "code",
   "execution_count": 200,
   "id": "3edcdbe0",
   "metadata": {},
   "outputs": [],
   "source": [
    "E = sample_uniform_noise(n, 5, variances)"
   ]
  },
  {
   "cell_type": "code",
   "execution_count": 201,
   "id": "6587624d",
   "metadata": {},
   "outputs": [],
   "source": [
    "X, m, perm_ = generate_dataset(E, B, permutation=None)"
   ]
  },
  {
   "cell_type": "code",
   "execution_count": 203,
   "id": "11bc98cf",
   "metadata": {},
   "outputs": [
    {
     "data": {
      "text/plain": [
       "array([ 0.492608  , -0.4916362 , -0.05906891,  1.63714322,  2.03941558])"
      ]
     },
     "execution_count": 203,
     "metadata": {},
     "output_type": "execute_result"
    }
   ],
   "source": [
    "m"
   ]
  },
  {
   "cell_type": "code",
   "execution_count": 204,
   "id": "20c94be9",
   "metadata": {},
   "outputs": [
    {
     "data": {
      "text/plain": [
       "array([4, 2, 0, 1, 3])"
      ]
     },
     "execution_count": 204,
     "metadata": {},
     "output_type": "execute_result"
    }
   ],
   "source": [
    "perm_"
   ]
  },
  {
   "cell_type": "markdown",
   "id": "996eb34a",
   "metadata": {},
   "source": [
    "## Estimating back"
   ]
  },
  {
   "cell_type": "code",
   "execution_count": 1,
   "id": "5ea0ac95",
   "metadata": {},
   "outputs": [],
   "source": [
    "import numpy as np\n",
    "import pandas as pd\n",
    "import graphviz\n",
    "import lingam\n",
    "from lingam.utils import print_causal_directions, print_dagc, make_dot"
   ]
  },
  {
   "cell_type": "code",
   "execution_count": 205,
   "id": "1e1b50d5",
   "metadata": {},
   "outputs": [
    {
     "data": {
      "text/plain": [
       "<lingam.direct_lingam.DirectLiNGAM at 0x13e318be0>"
      ]
     },
     "execution_count": 205,
     "metadata": {},
     "output_type": "execute_result"
    }
   ],
   "source": [
    "#now we can retrieve the causal graph given the generated dataset.\n",
    "model = lingam.DirectLiNGAM()\n",
    "model.fit(X)"
   ]
  },
  {
   "cell_type": "code",
   "execution_count": 217,
   "id": "53c831e9",
   "metadata": {},
   "outputs": [],
   "source": [
    "inverse_perm = np.argsort(perm_)\n",
    "B_est_original_order = model.adjacency_matrix_[inverse_perm, :][:, inverse_perm]"
   ]
  },
  {
   "cell_type": "code",
   "execution_count": 218,
   "id": "5db714c3",
   "metadata": {},
   "outputs": [
    {
     "data": {
      "image/svg+xml": [
       "<?xml version=\"1.0\" encoding=\"UTF-8\" standalone=\"no\"?>\n",
       "<!DOCTYPE svg PUBLIC \"-//W3C//DTD SVG 1.1//EN\"\n",
       " \"http://www.w3.org/Graphics/SVG/1.1/DTD/svg11.dtd\">\n",
       "<!-- Generated by graphviz version 12.2.1 (20241206.2353)\n",
       " -->\n",
       "<!-- Pages: 1 -->\n",
       "<svg width=\"182pt\" height=\"221pt\"\n",
       " viewBox=\"0.00 0.00 182.00 221.00\" xmlns=\"http://www.w3.org/2000/svg\" xmlns:xlink=\"http://www.w3.org/1999/xlink\">\n",
       "<g id=\"graph0\" class=\"graph\" transform=\"scale(1 1) rotate(0) translate(4 217)\">\n",
       "<polygon fill=\"white\" stroke=\"none\" points=\"-4,4 -4,-217 178,-217 178,4 -4,4\"/>\n",
       "<!-- x0 -->\n",
       "<g id=\"node1\" class=\"node\">\n",
       "<title>x0</title>\n",
       "<ellipse fill=\"none\" stroke=\"black\" cx=\"75\" cy=\"-195\" rx=\"27\" ry=\"18\"/>\n",
       "<text text-anchor=\"middle\" x=\"75\" y=\"-189.95\" font-family=\"Times,serif\" font-size=\"14.00\">x0</text>\n",
       "</g>\n",
       "<!-- x1 -->\n",
       "<g id=\"node2\" class=\"node\">\n",
       "<title>x1</title>\n",
       "<ellipse fill=\"none\" stroke=\"black\" cx=\"75\" cy=\"-106.5\" rx=\"27\" ry=\"18\"/>\n",
       "<text text-anchor=\"middle\" x=\"75\" y=\"-101.45\" font-family=\"Times,serif\" font-size=\"14.00\">x1</text>\n",
       "</g>\n",
       "<!-- x0&#45;&gt;x1 -->\n",
       "<g id=\"edge1\" class=\"edge\">\n",
       "<title>x0&#45;&gt;x1</title>\n",
       "<path fill=\"none\" stroke=\"black\" d=\"M75,-176.91C75,-165.26 75,-149.55 75,-136.02\"/>\n",
       "<polygon fill=\"black\" stroke=\"black\" points=\"78.5,-136.36 75,-126.36 71.5,-136.36 78.5,-136.36\"/>\n",
       "<text text-anchor=\"middle\" x=\"89.25\" y=\"-145.7\" font-family=\"Times,serif\" font-size=\"14.00\">&#45;1.03</text>\n",
       "</g>\n",
       "<!-- x2 -->\n",
       "<g id=\"node3\" class=\"node\">\n",
       "<title>x2</title>\n",
       "<ellipse fill=\"none\" stroke=\"black\" cx=\"27\" cy=\"-18\" rx=\"27\" ry=\"18\"/>\n",
       "<text text-anchor=\"middle\" x=\"27\" y=\"-12.95\" font-family=\"Times,serif\" font-size=\"14.00\">x2</text>\n",
       "</g>\n",
       "<!-- x0&#45;&gt;x2 -->\n",
       "<g id=\"edge2\" class=\"edge\">\n",
       "<title>x0&#45;&gt;x2</title>\n",
       "<path fill=\"none\" stroke=\"black\" d=\"M58.09,-180.65C43.53,-167.99 23.56,-147.51 15,-124.5 5.58,-99.16 10.89,-68.24 17.14,-46.44\"/>\n",
       "<polygon fill=\"black\" stroke=\"black\" points=\"20.42,-47.69 20.07,-37.1 13.74,-45.59 20.42,-47.69\"/>\n",
       "<text text-anchor=\"middle\" x=\"27\" y=\"-101.45\" font-family=\"Times,serif\" font-size=\"14.00\">0.48</text>\n",
       "</g>\n",
       "<!-- x3 -->\n",
       "<g id=\"node4\" class=\"node\">\n",
       "<title>x3</title>\n",
       "<ellipse fill=\"none\" stroke=\"black\" cx=\"105\" cy=\"-18\" rx=\"27\" ry=\"18\"/>\n",
       "<text text-anchor=\"middle\" x=\"105\" y=\"-12.95\" font-family=\"Times,serif\" font-size=\"14.00\">x3</text>\n",
       "</g>\n",
       "<!-- x0&#45;&gt;x3 -->\n",
       "<g id=\"edge4\" class=\"edge\">\n",
       "<title>x0&#45;&gt;x3</title>\n",
       "<path fill=\"none\" stroke=\"black\" d=\"M91.26,-180.51C97.43,-174.54 103.94,-167.05 108,-159 126.01,-123.32 120.43,-110.31 124,-70.5 124.65,-63.2 125.8,-61.11 124,-54 123.23,-50.96 122.14,-47.91 120.86,-44.93\"/>\n",
       "<polygon fill=\"black\" stroke=\"black\" points=\"124,-43.38 116.36,-36.04 117.75,-46.54 124,-43.38\"/>\n",
       "<text text-anchor=\"middle\" x=\"134.78\" y=\"-101.45\" font-family=\"Times,serif\" font-size=\"14.00\">1.19</text>\n",
       "</g>\n",
       "<!-- x1&#45;&gt;x2 -->\n",
       "<g id=\"edge3\" class=\"edge\">\n",
       "<title>x1&#45;&gt;x2</title>\n",
       "<path fill=\"none\" stroke=\"black\" d=\"M65.48,-89.55C61.97,-83.6 58.01,-76.77 54.5,-70.5 49.96,-62.38 45.14,-53.46 40.82,-45.37\"/>\n",
       "<polygon fill=\"black\" stroke=\"black\" points=\"43.99,-43.86 36.22,-36.66 37.8,-47.14 43.99,-43.86\"/>\n",
       "<text text-anchor=\"middle\" x=\"68.75\" y=\"-57.2\" font-family=\"Times,serif\" font-size=\"14.00\">&#45;0.60</text>\n",
       "</g>\n",
       "<!-- x1&#45;&gt;x3 -->\n",
       "<g id=\"edge5\" class=\"edge\">\n",
       "<title>x1&#45;&gt;x3</title>\n",
       "<path fill=\"none\" stroke=\"black\" d=\"M80.78,-88.82C84.95,-76.81 90.66,-60.34 95.49,-46.41\"/>\n",
       "<polygon fill=\"black\" stroke=\"black\" points=\"98.67,-47.95 98.64,-37.35 92.05,-45.65 98.67,-47.95\"/>\n",
       "<text text-anchor=\"middle\" x=\"106.94\" y=\"-57.2\" font-family=\"Times,serif\" font-size=\"14.00\">&#45;1.49</text>\n",
       "</g>\n",
       "<!-- x4 -->\n",
       "<g id=\"node5\" class=\"node\">\n",
       "<title>x4</title>\n",
       "<ellipse fill=\"none\" stroke=\"black\" cx=\"147\" cy=\"-195\" rx=\"27\" ry=\"18\"/>\n",
       "<text text-anchor=\"middle\" x=\"147\" y=\"-189.95\" font-family=\"Times,serif\" font-size=\"14.00\">x4</text>\n",
       "</g>\n",
       "</g>\n",
       "</svg>\n"
      ],
      "text/plain": [
       "<graphviz.graphs.Digraph at 0x1405b24d0>"
      ]
     },
     "execution_count": 218,
     "metadata": {},
     "output_type": "execute_result"
    }
   ],
   "source": [
    "make_dot(B_est_original_order)"
   ]
  },
  {
   "cell_type": "code",
   "execution_count": 208,
   "id": "f4508609",
   "metadata": {},
   "outputs": [
    {
     "data": {
      "image/svg+xml": [
       "<?xml version=\"1.0\" encoding=\"UTF-8\" standalone=\"no\"?>\n",
       "<!DOCTYPE svg PUBLIC \"-//W3C//DTD SVG 1.1//EN\"\n",
       " \"http://www.w3.org/Graphics/SVG/1.1/DTD/svg11.dtd\">\n",
       "<!-- Generated by graphviz version 12.2.1 (20241206.2353)\n",
       " -->\n",
       "<!-- Pages: 1 -->\n",
       "<svg width=\"182pt\" height=\"221pt\"\n",
       " viewBox=\"0.00 0.00 182.00 221.00\" xmlns=\"http://www.w3.org/2000/svg\" xmlns:xlink=\"http://www.w3.org/1999/xlink\">\n",
       "<g id=\"graph0\" class=\"graph\" transform=\"scale(1 1) rotate(0) translate(4 217)\">\n",
       "<polygon fill=\"white\" stroke=\"none\" points=\"-4,4 -4,-217 178,-217 178,4 -4,4\"/>\n",
       "<!-- x0 -->\n",
       "<g id=\"node1\" class=\"node\">\n",
       "<title>x0</title>\n",
       "<ellipse fill=\"none\" stroke=\"black\" cx=\"75\" cy=\"-195\" rx=\"27\" ry=\"18\"/>\n",
       "<text text-anchor=\"middle\" x=\"75\" y=\"-189.95\" font-family=\"Times,serif\" font-size=\"14.00\">x0</text>\n",
       "</g>\n",
       "<!-- x1 -->\n",
       "<g id=\"node2\" class=\"node\">\n",
       "<title>x1</title>\n",
       "<ellipse fill=\"none\" stroke=\"black\" cx=\"75\" cy=\"-106.5\" rx=\"27\" ry=\"18\"/>\n",
       "<text text-anchor=\"middle\" x=\"75\" y=\"-101.45\" font-family=\"Times,serif\" font-size=\"14.00\">x1</text>\n",
       "</g>\n",
       "<!-- x0&#45;&gt;x1 -->\n",
       "<g id=\"edge1\" class=\"edge\">\n",
       "<title>x0&#45;&gt;x1</title>\n",
       "<path fill=\"none\" stroke=\"black\" d=\"M75,-176.91C75,-165.26 75,-149.55 75,-136.02\"/>\n",
       "<polygon fill=\"black\" stroke=\"black\" points=\"78.5,-136.36 75,-126.36 71.5,-136.36 78.5,-136.36\"/>\n",
       "<text text-anchor=\"middle\" x=\"89.25\" y=\"-145.7\" font-family=\"Times,serif\" font-size=\"14.00\">&#45;1.02</text>\n",
       "</g>\n",
       "<!-- x2 -->\n",
       "<g id=\"node3\" class=\"node\">\n",
       "<title>x2</title>\n",
       "<ellipse fill=\"none\" stroke=\"black\" cx=\"27\" cy=\"-18\" rx=\"27\" ry=\"18\"/>\n",
       "<text text-anchor=\"middle\" x=\"27\" y=\"-12.95\" font-family=\"Times,serif\" font-size=\"14.00\">x2</text>\n",
       "</g>\n",
       "<!-- x0&#45;&gt;x2 -->\n",
       "<g id=\"edge2\" class=\"edge\">\n",
       "<title>x0&#45;&gt;x2</title>\n",
       "<path fill=\"none\" stroke=\"black\" d=\"M58.09,-180.65C43.53,-167.99 23.56,-147.51 15,-124.5 5.58,-99.16 10.89,-68.24 17.14,-46.44\"/>\n",
       "<polygon fill=\"black\" stroke=\"black\" points=\"20.42,-47.69 20.07,-37.1 13.74,-45.59 20.42,-47.69\"/>\n",
       "<text text-anchor=\"middle\" x=\"27\" y=\"-101.45\" font-family=\"Times,serif\" font-size=\"14.00\">0.50</text>\n",
       "</g>\n",
       "<!-- x3 -->\n",
       "<g id=\"node4\" class=\"node\">\n",
       "<title>x3</title>\n",
       "<ellipse fill=\"none\" stroke=\"black\" cx=\"105\" cy=\"-18\" rx=\"27\" ry=\"18\"/>\n",
       "<text text-anchor=\"middle\" x=\"105\" y=\"-12.95\" font-family=\"Times,serif\" font-size=\"14.00\">x3</text>\n",
       "</g>\n",
       "<!-- x0&#45;&gt;x3 -->\n",
       "<g id=\"edge4\" class=\"edge\">\n",
       "<title>x0&#45;&gt;x3</title>\n",
       "<path fill=\"none\" stroke=\"black\" d=\"M91.26,-180.51C97.43,-174.54 103.94,-167.05 108,-159 126.01,-123.32 120.43,-110.31 124,-70.5 124.65,-63.2 125.8,-61.11 124,-54 123.23,-50.96 122.14,-47.91 120.86,-44.93\"/>\n",
       "<polygon fill=\"black\" stroke=\"black\" points=\"124,-43.38 116.36,-36.04 117.75,-46.54 124,-43.38\"/>\n",
       "<text text-anchor=\"middle\" x=\"134.78\" y=\"-101.45\" font-family=\"Times,serif\" font-size=\"14.00\">1.18</text>\n",
       "</g>\n",
       "<!-- x1&#45;&gt;x2 -->\n",
       "<g id=\"edge3\" class=\"edge\">\n",
       "<title>x1&#45;&gt;x2</title>\n",
       "<path fill=\"none\" stroke=\"black\" d=\"M65.48,-89.55C61.97,-83.6 58.01,-76.77 54.5,-70.5 49.96,-62.38 45.14,-53.46 40.82,-45.37\"/>\n",
       "<polygon fill=\"black\" stroke=\"black\" points=\"43.99,-43.86 36.22,-36.66 37.8,-47.14 43.99,-43.86\"/>\n",
       "<text text-anchor=\"middle\" x=\"68.75\" y=\"-57.2\" font-family=\"Times,serif\" font-size=\"14.00\">&#45;0.59</text>\n",
       "</g>\n",
       "<!-- x1&#45;&gt;x3 -->\n",
       "<g id=\"edge5\" class=\"edge\">\n",
       "<title>x1&#45;&gt;x3</title>\n",
       "<path fill=\"none\" stroke=\"black\" d=\"M80.78,-88.82C84.95,-76.81 90.66,-60.34 95.49,-46.41\"/>\n",
       "<polygon fill=\"black\" stroke=\"black\" points=\"98.67,-47.95 98.64,-37.35 92.05,-45.65 98.67,-47.95\"/>\n",
       "<text text-anchor=\"middle\" x=\"106.94\" y=\"-57.2\" font-family=\"Times,serif\" font-size=\"14.00\">&#45;1.49</text>\n",
       "</g>\n",
       "<!-- x4 -->\n",
       "<g id=\"node5\" class=\"node\">\n",
       "<title>x4</title>\n",
       "<ellipse fill=\"none\" stroke=\"black\" cx=\"147\" cy=\"-195\" rx=\"27\" ry=\"18\"/>\n",
       "<text text-anchor=\"middle\" x=\"147\" y=\"-189.95\" font-family=\"Times,serif\" font-size=\"14.00\">x4</text>\n",
       "</g>\n",
       "</g>\n",
       "</svg>\n"
      ],
      "text/plain": [
       "<graphviz.graphs.Digraph at 0x13e31ac20>"
      ]
     },
     "execution_count": 208,
     "metadata": {},
     "output_type": "execute_result"
    }
   ],
   "source": [
    "make_dot(B)"
   ]
  },
  {
   "cell_type": "code",
   "execution_count": 209,
   "id": "b89f9b6c",
   "metadata": {},
   "outputs": [
    {
     "data": {
      "text/plain": [
       "array([[ 0.        ,  0.        ,  0.        ,  0.        ,  0.        ],\n",
       "       [-1.01544738,  0.        ,  0.        ,  0.        ,  0.        ],\n",
       "       [ 0.50055843, -0.58787966,  0.        ,  0.        ,  0.        ],\n",
       "       [ 1.18449243, -1.49077568,  0.        ,  0.        ,  0.        ],\n",
       "       [ 0.        ,  0.        ,  0.        ,  0.        ,  0.        ]])"
      ]
     },
     "execution_count": 209,
     "metadata": {},
     "output_type": "execute_result"
    }
   ],
   "source": [
    "B"
   ]
  },
  {
   "cell_type": "markdown",
   "id": "d2e6dddc",
   "metadata": {},
   "source": [
    "## Matrix Perturbation\n"
   ]
  },
  {
   "cell_type": "code",
   "execution_count": null,
   "id": "04ec440c",
   "metadata": {},
   "outputs": [],
   "source": [
    "\n",
    "\n",
    "\n",
    "\n",
    "import networkx as nx\n",
    "\n",
    "def get_causal_order(matrix):\n",
    "    G = nx.DiGraph()\n",
    "    num_nodes = matrix.shape[0]\n",
    "\n",
    "    # Add edges from matrix\n",
    "    for i in range(num_nodes):\n",
    "        for j in range(num_nodes):\n",
    "            if matrix[i, j] != 0:\n",
    "                G.add_edge(j, i)  # edge from parent j to child i\n",
    "\n",
    "    # Compute topological sort\n",
    "    try:\n",
    "        causal_order = list(nx.topological_sort(G))\n",
    "        return causal_order\n",
    "    except nx.NetworkXUnfeasible:\n",
    "        raise ValueError(\"The graph contains cycles and is not a DAG.\")\n",
    "\n"
   ]
  },
  {
   "cell_type": "code",
   "execution_count": null,
   "id": "467d3dbd",
   "metadata": {},
   "outputs": [],
   "source": [
    "p=5\n",
    "s=0.5\n",
    "n=10000\n",
    "B=generate_connection_matrix(p, s)"
   ]
  },
  {
   "cell_type": "code",
   "execution_count": 82,
   "id": "4d52a696",
   "metadata": {},
   "outputs": [
    {
     "data": {
      "text/plain": [
       "[0, 1, 2, 3, 4]"
      ]
     },
     "execution_count": 82,
     "metadata": {},
     "output_type": "execute_result"
    }
   ],
   "source": [
    "get_causal_order(B)"
   ]
  },
  {
   "cell_type": "code",
   "execution_count": 83,
   "id": "d4c9a189",
   "metadata": {},
   "outputs": [],
   "source": [
    "B_perturbed=perturb_adjacency_matrix(B, 1, 'both')"
   ]
  },
  {
   "cell_type": "code",
   "execution_count": 84,
   "id": "20d53e3e",
   "metadata": {},
   "outputs": [
    {
     "data": {
      "text/plain": [
       "array([[ 0.        ,  0.        ,  0.        ,  0.        ,  0.        ],\n",
       "       [ 0.        ,  0.        ,  0.        ,  0.        ,  0.        ],\n",
       "       [-1.45478585,  1.28817014,  0.        ,  0.        ,  0.        ],\n",
       "       [-1.33463094, -0.98243411,  1.19673024,  0.        ,  0.        ],\n",
       "       [-0.77373517, -1.3578666 ,  1.21407613,  0.57633197,  0.        ]])"
      ]
     },
     "execution_count": 84,
     "metadata": {},
     "output_type": "execute_result"
    }
   ],
   "source": [
    "B_perturbed"
   ]
  },
  {
   "cell_type": "code",
   "execution_count": 87,
   "id": "d01b3cd9",
   "metadata": {},
   "outputs": [
    {
     "data": {
      "text/plain": [
       "[0, 1, 2, 3, 4]"
      ]
     },
     "execution_count": 87,
     "metadata": {},
     "output_type": "execute_result"
    }
   ],
   "source": [
    "get_causal_order(B_perturbed)"
   ]
  },
  {
   "cell_type": "code",
   "execution_count": 88,
   "id": "15e0b29d",
   "metadata": {},
   "outputs": [
    {
     "data": {
      "text/plain": [
       "[0, 1, 2, 3, 4]"
      ]
     },
     "execution_count": 88,
     "metadata": {},
     "output_type": "execute_result"
    }
   ],
   "source": [
    "get_causal_order(B)"
   ]
  },
  {
   "cell_type": "code",
   "execution_count": 86,
   "id": "d475ffd2",
   "metadata": {},
   "outputs": [
    {
     "data": {
      "text/plain": [
       "array([[ 0.        ,  0.        ,  0.        ,  0.        ,  0.        ],\n",
       "       [ 0.82685909,  0.        ,  0.        ,  0.        ,  0.        ],\n",
       "       [-1.45478585,  1.28817014,  0.        ,  0.        ,  0.        ],\n",
       "       [-1.33463094, -0.98243411,  1.19673024,  0.        ,  0.        ],\n",
       "       [-0.77373517, -1.3578666 ,  1.21407613,  0.57633197,  0.        ]])"
      ]
     },
     "execution_count": 86,
     "metadata": {},
     "output_type": "execute_result"
    }
   ],
   "source": [
    "B"
   ]
  },
  {
   "cell_type": "code",
   "execution_count": 74,
   "id": "9b000a43",
   "metadata": {},
   "outputs": [
    {
     "data": {
      "image/svg+xml": [
       "<?xml version=\"1.0\" encoding=\"UTF-8\" standalone=\"no\"?>\n",
       "<!DOCTYPE svg PUBLIC \"-//W3C//DTD SVG 1.1//EN\"\n",
       " \"http://www.w3.org/Graphics/SVG/1.1/DTD/svg11.dtd\">\n",
       "<!-- Generated by graphviz version 12.2.1 (20241206.2353)\n",
       " -->\n",
       "<!-- Pages: 1 -->\n",
       "<svg width=\"205pt\" height=\"221pt\"\n",
       " viewBox=\"0.00 0.00 205.00 221.00\" xmlns=\"http://www.w3.org/2000/svg\" xmlns:xlink=\"http://www.w3.org/1999/xlink\">\n",
       "<g id=\"graph0\" class=\"graph\" transform=\"scale(1 1) rotate(0) translate(4 217)\">\n",
       "<polygon fill=\"white\" stroke=\"none\" points=\"-4,4 -4,-217 201,-217 201,4 -4,4\"/>\n",
       "<!-- x0 -->\n",
       "<g id=\"node1\" class=\"node\">\n",
       "<title>x0</title>\n",
       "<ellipse fill=\"none\" stroke=\"black\" cx=\"78\" cy=\"-195\" rx=\"27\" ry=\"18\"/>\n",
       "<text text-anchor=\"middle\" x=\"78\" y=\"-189.95\" font-family=\"Times,serif\" font-size=\"14.00\">x0</text>\n",
       "</g>\n",
       "<!-- x2 -->\n",
       "<g id=\"node3\" class=\"node\">\n",
       "<title>x2</title>\n",
       "<ellipse fill=\"none\" stroke=\"black\" cx=\"27\" cy=\"-106.5\" rx=\"27\" ry=\"18\"/>\n",
       "<text text-anchor=\"middle\" x=\"27\" y=\"-101.45\" font-family=\"Times,serif\" font-size=\"14.00\">x2</text>\n",
       "</g>\n",
       "<!-- x0&#45;&gt;x2 -->\n",
       "<g id=\"edge1\" class=\"edge\">\n",
       "<title>x0&#45;&gt;x2</title>\n",
       "<path fill=\"none\" stroke=\"black\" d=\"M63.44,-179.54C57.94,-173.55 51.95,-166.29 47.5,-159 43,-151.63 39.14,-143.1 36.02,-135.13\"/>\n",
       "<polygon fill=\"black\" stroke=\"black\" points=\"39.34,-134.03 32.63,-125.83 32.77,-136.43 39.34,-134.03\"/>\n",
       "<text text-anchor=\"middle\" x=\"61.75\" y=\"-145.7\" font-family=\"Times,serif\" font-size=\"14.00\">&#45;1.42</text>\n",
       "</g>\n",
       "<!-- x3 -->\n",
       "<g id=\"node4\" class=\"node\">\n",
       "<title>x3</title>\n",
       "<ellipse fill=\"none\" stroke=\"black\" cx=\"59\" cy=\"-18\" rx=\"27\" ry=\"18\"/>\n",
       "<text text-anchor=\"middle\" x=\"59\" y=\"-12.95\" font-family=\"Times,serif\" font-size=\"14.00\">x3</text>\n",
       "</g>\n",
       "<!-- x0&#45;&gt;x3 -->\n",
       "<g id=\"edge2\" class=\"edge\">\n",
       "<title>x0&#45;&gt;x3</title>\n",
       "<path fill=\"none\" stroke=\"black\" d=\"M80.11,-176.9C82.89,-150.22 86.28,-97.28 76,-54 75.33,-51.18 74.41,-48.33 73.34,-45.52\"/>\n",
       "<polygon fill=\"black\" stroke=\"black\" points=\"76.6,-44.24 69.31,-36.56 70.22,-47.12 76.6,-44.24\"/>\n",
       "<text text-anchor=\"middle\" x=\"94.96\" y=\"-101.45\" font-family=\"Times,serif\" font-size=\"14.00\">0.92</text>\n",
       "</g>\n",
       "<!-- x1 -->\n",
       "<g id=\"node2\" class=\"node\">\n",
       "<title>x1</title>\n",
       "<ellipse fill=\"none\" stroke=\"black\" cx=\"170\" cy=\"-195\" rx=\"27\" ry=\"18\"/>\n",
       "<text text-anchor=\"middle\" x=\"170\" y=\"-189.95\" font-family=\"Times,serif\" font-size=\"14.00\">x1</text>\n",
       "</g>\n",
       "<!-- x4 -->\n",
       "<g id=\"node5\" class=\"node\">\n",
       "<title>x4</title>\n",
       "<ellipse fill=\"none\" stroke=\"black\" cx=\"170\" cy=\"-106.5\" rx=\"27\" ry=\"18\"/>\n",
       "<text text-anchor=\"middle\" x=\"170\" y=\"-101.45\" font-family=\"Times,serif\" font-size=\"14.00\">x4</text>\n",
       "</g>\n",
       "<!-- x1&#45;&gt;x4 -->\n",
       "<g id=\"edge4\" class=\"edge\">\n",
       "<title>x1&#45;&gt;x4</title>\n",
       "<path fill=\"none\" stroke=\"black\" d=\"M170,-176.91C170,-165.26 170,-149.55 170,-136.02\"/>\n",
       "<polygon fill=\"black\" stroke=\"black\" points=\"173.5,-136.36 170,-126.36 166.5,-136.36 173.5,-136.36\"/>\n",
       "<text text-anchor=\"middle\" x=\"182\" y=\"-145.7\" font-family=\"Times,serif\" font-size=\"14.00\">1.48</text>\n",
       "</g>\n",
       "<!-- x2&#45;&gt;x3 -->\n",
       "<g id=\"edge3\" class=\"edge\">\n",
       "<title>x2&#45;&gt;x3</title>\n",
       "<path fill=\"none\" stroke=\"black\" d=\"M33.17,-88.82C37.61,-76.81 43.71,-60.34 48.86,-46.41\"/>\n",
       "<polygon fill=\"black\" stroke=\"black\" points=\"52.03,-47.93 52.21,-37.34 45.46,-45.51 52.03,-47.93\"/>\n",
       "<text text-anchor=\"middle\" x=\"60.12\" y=\"-57.2\" font-family=\"Times,serif\" font-size=\"14.00\">&#45;0.65</text>\n",
       "</g>\n",
       "</g>\n",
       "</svg>\n"
      ],
      "text/plain": [
       "<graphviz.graphs.Digraph at 0x139b9abc0>"
      ]
     },
     "execution_count": 74,
     "metadata": {},
     "output_type": "execute_result"
    }
   ],
   "source": [
    "make_dot(B)"
   ]
  },
  {
   "cell_type": "code",
   "execution_count": 75,
   "id": "621f0a25",
   "metadata": {},
   "outputs": [
    {
     "data": {
      "image/svg+xml": [
       "<?xml version=\"1.0\" encoding=\"UTF-8\" standalone=\"no\"?>\n",
       "<!DOCTYPE svg PUBLIC \"-//W3C//DTD SVG 1.1//EN\"\n",
       " \"http://www.w3.org/Graphics/SVG/1.1/DTD/svg11.dtd\">\n",
       "<!-- Generated by graphviz version 12.2.1 (20241206.2353)\n",
       " -->\n",
       "<!-- Pages: 1 -->\n",
       "<svg width=\"212pt\" height=\"221pt\"\n",
       " viewBox=\"0.00 0.00 212.00 221.00\" xmlns=\"http://www.w3.org/2000/svg\" xmlns:xlink=\"http://www.w3.org/1999/xlink\">\n",
       "<g id=\"graph0\" class=\"graph\" transform=\"scale(1 1) rotate(0) translate(4 217)\">\n",
       "<polygon fill=\"white\" stroke=\"none\" points=\"-4,4 -4,-217 208,-217 208,4 -4,4\"/>\n",
       "<!-- x0 -->\n",
       "<g id=\"node1\" class=\"node\">\n",
       "<title>x0</title>\n",
       "<ellipse fill=\"none\" stroke=\"black\" cx=\"27\" cy=\"-195\" rx=\"27\" ry=\"18\"/>\n",
       "<text text-anchor=\"middle\" x=\"27\" y=\"-189.95\" font-family=\"Times,serif\" font-size=\"14.00\">x0</text>\n",
       "</g>\n",
       "<!-- x2 -->\n",
       "<g id=\"node3\" class=\"node\">\n",
       "<title>x2</title>\n",
       "<ellipse fill=\"none\" stroke=\"black\" cx=\"89\" cy=\"-106.5\" rx=\"27\" ry=\"18\"/>\n",
       "<text text-anchor=\"middle\" x=\"89\" y=\"-101.45\" font-family=\"Times,serif\" font-size=\"14.00\">x2</text>\n",
       "</g>\n",
       "<!-- x0&#45;&gt;x2 -->\n",
       "<g id=\"edge1\" class=\"edge\">\n",
       "<title>x0&#45;&gt;x2</title>\n",
       "<path fill=\"none\" stroke=\"black\" d=\"M38.13,-178.18C45.33,-167.98 54.93,-154.43 63.5,-142.5 65.85,-139.23 68.34,-135.79 70.8,-132.4\"/>\n",
       "<polygon fill=\"black\" stroke=\"black\" points=\"73.59,-134.52 76.64,-124.37 67.93,-130.4 73.59,-134.52\"/>\n",
       "<text text-anchor=\"middle\" x=\"77.75\" y=\"-145.7\" font-family=\"Times,serif\" font-size=\"14.00\">&#45;1.42</text>\n",
       "</g>\n",
       "<!-- x3 -->\n",
       "<g id=\"node4\" class=\"node\">\n",
       "<title>x3</title>\n",
       "<ellipse fill=\"none\" stroke=\"black\" cx=\"36\" cy=\"-18\" rx=\"27\" ry=\"18\"/>\n",
       "<text text-anchor=\"middle\" x=\"36\" y=\"-12.95\" font-family=\"Times,serif\" font-size=\"14.00\">x3</text>\n",
       "</g>\n",
       "<!-- x0&#45;&gt;x3 -->\n",
       "<g id=\"edge3\" class=\"edge\">\n",
       "<title>x0&#45;&gt;x3</title>\n",
       "<path fill=\"none\" stroke=\"black\" d=\"M26.9,-176.81C26.87,-155.91 27.14,-119.59 29,-88.5 29.81,-75.01 31.24,-60.11 32.59,-47.57\"/>\n",
       "<polygon fill=\"black\" stroke=\"black\" points=\"36.04,-48.22 33.68,-37.9 29.09,-47.44 36.04,-48.22\"/>\n",
       "<text text-anchor=\"middle\" x=\"41\" y=\"-101.45\" font-family=\"Times,serif\" font-size=\"14.00\">0.92</text>\n",
       "</g>\n",
       "<!-- x1 -->\n",
       "<g id=\"node2\" class=\"node\">\n",
       "<title>x1</title>\n",
       "<ellipse fill=\"none\" stroke=\"black\" cx=\"105\" cy=\"-195\" rx=\"27\" ry=\"18\"/>\n",
       "<text text-anchor=\"middle\" x=\"105\" y=\"-189.95\" font-family=\"Times,serif\" font-size=\"14.00\">x1</text>\n",
       "</g>\n",
       "<!-- x1&#45;&gt;x2 -->\n",
       "<g id=\"edge2\" class=\"edge\">\n",
       "<title>x1&#45;&gt;x2</title>\n",
       "<path fill=\"none\" stroke=\"black\" d=\"M101.84,-176.91C99.68,-165.26 96.78,-149.55 94.28,-136.02\"/>\n",
       "<polygon fill=\"black\" stroke=\"black\" points=\"97.75,-135.54 92.48,-126.34 90.86,-136.81 97.75,-135.54\"/>\n",
       "<text text-anchor=\"middle\" x=\"112.68\" y=\"-145.7\" font-family=\"Times,serif\" font-size=\"14.00\">&#45;1.19</text>\n",
       "</g>\n",
       "<!-- x2&#45;&gt;x3 -->\n",
       "<g id=\"edge4\" class=\"edge\">\n",
       "<title>x2&#45;&gt;x3</title>\n",
       "<path fill=\"none\" stroke=\"black\" d=\"M79.28,-89.63C71.56,-77.03 60.61,-59.16 51.65,-44.55\"/>\n",
       "<polygon fill=\"black\" stroke=\"black\" points=\"54.84,-43.05 46.63,-36.35 48.87,-46.7 54.84,-43.05\"/>\n",
       "<text text-anchor=\"middle\" x=\"81.5\" y=\"-57.2\" font-family=\"Times,serif\" font-size=\"14.00\">&#45;0.65</text>\n",
       "</g>\n",
       "<!-- x4 -->\n",
       "<g id=\"node5\" class=\"node\">\n",
       "<title>x4</title>\n",
       "<ellipse fill=\"none\" stroke=\"black\" cx=\"177\" cy=\"-195\" rx=\"27\" ry=\"18\"/>\n",
       "<text text-anchor=\"middle\" x=\"177\" y=\"-189.95\" font-family=\"Times,serif\" font-size=\"14.00\">x4</text>\n",
       "</g>\n",
       "</g>\n",
       "</svg>\n"
      ],
      "text/plain": [
       "<graphviz.graphs.Digraph at 0x139ab2890>"
      ]
     },
     "execution_count": 75,
     "metadata": {},
     "output_type": "execute_result"
    }
   ],
   "source": [
    "make_dot(B_perturbed)"
   ]
  },
  {
   "cell_type": "code",
   "execution_count": null,
   "id": "0f42f07a",
   "metadata": {},
   "outputs": [],
   "source": []
  }
 ],
 "metadata": {
  "kernelspec": {
   "display_name": "ment_venv",
   "language": "python",
   "name": "python3"
  },
  "language_info": {
   "codemirror_mode": {
    "name": "ipython",
    "version": 3
   },
   "file_extension": ".py",
   "mimetype": "text/x-python",
   "name": "python",
   "nbconvert_exporter": "python",
   "pygments_lexer": "ipython3",
   "version": "3.10.1"
  }
 },
 "nbformat": 4,
 "nbformat_minor": 5
}
