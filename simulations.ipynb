{
 "cells": [
  {
   "cell_type": "code",
   "execution_count": null,
   "id": "2280ab5a",
   "metadata": {},
   "outputs": [],
   "source": [
    "import numpy as np\n",
    "import pandas as pd\n",
    "import graphviz\n",
    "import lingam\n",
    "from lingam.utils import print_causal_directions, print_dagc, make_dot\n",
    "from utilities import generate_connection_matrix, sample_uniform_noise, generate_dataset, sample_from_disjoint_interval"
   ]
  },
  {
   "cell_type": "code",
   "execution_count": 112,
   "id": "af959df6",
   "metadata": {},
   "outputs": [],
   "source": [
    "import random\n",
    "\n",
    "def perturb_adjacency_matrix(matrix, n=1, mode='both'):\n",
    "    \"\"\"\n",
    "    Perturbs a weighted adjacency matrix by adding/removing edges,\n",
    "    preserving causal order (i.e., j < i for edge j → i).\n",
    "\n",
    "    Parameters:\n",
    "    - matrix: np.ndarray, square weighted adjacency matrix\n",
    "    - n: number of edges to add/remove\n",
    "    - mode: 'add', 'remove', or 'both'\n",
    "    - weight_range: tuple, range of weights to assign when adding edges\n",
    "\n",
    "    Returns:\n",
    "    - new_matrix: np.ndarray, perturbed matrix\n",
    "    \"\"\"\n",
    "\n",
    "    new_matrix = matrix.copy()\n",
    "    num_nodes = new_matrix.shape[0]\n",
    "    \n",
    "    # Collect removable and addable edges\n",
    "    removable_edges = [(i, j) for i in range(num_nodes) for j in range(i) if new_matrix[i, j] != 0]\n",
    "    addable_edges = [(i, j) for i in range(num_nodes) for j in range(i) if new_matrix[i, j] == 0]\n",
    "    \n",
    "    if mode in ['remove', 'both']:\n",
    "        to_remove = random.sample(removable_edges, min(n, len(removable_edges)))\n",
    "        for i, j in to_remove:\n",
    "            new_matrix[i, j] = 0.0\n",
    "\n",
    "    if mode in ['add', 'both']:\n",
    "        to_add = random.sample(addable_edges, min(n, len(addable_edges)))\n",
    "        for i, j in to_add:\n",
    "            weight = sample_from_disjoint_interval(1)[0]\n",
    "            new_matrix[i, j] = weight\n",
    "\n",
    "    return new_matrix"
   ]
  },
  {
   "cell_type": "code",
   "execution_count": 89,
   "id": "61fe9b49",
   "metadata": {},
   "outputs": [],
   "source": [
    "%load_ext autoreload\n",
    "%autoreload 2"
   ]
  },
  {
   "cell_type": "code",
   "execution_count": null,
   "id": "671acc7c",
   "metadata": {},
   "outputs": [],
   "source": []
  },
  {
   "cell_type": "code",
   "execution_count": 90,
   "id": "32f085ed",
   "metadata": {},
   "outputs": [],
   "source": [
    "p=5 # number of features \n",
    "s=0.5 # edge probability\n",
    "n=10000 # number of samples\n",
    "c=3 #number of groups\n",
    "B=generate_connection_matrix(p, s) # connection matrix "
   ]
  },
  {
   "cell_type": "code",
   "execution_count": 143,
   "id": "99ea3595",
   "metadata": {},
   "outputs": [],
   "source": [
    "P = [100, 150, 200] # number of variables/features\n",
    "S = [0.2, 0.25, 0.3] # edge probabilities (control the sparsity)\n",
    "C = 4 #number of groups\n",
    "PERT = 0.15 #perturbation level"
   ]
  },
  {
   "cell_type": "code",
   "execution_count": null,
   "id": "21553974",
   "metadata": {},
   "outputs": [
    {
     "data": {
      "text/plain": [
       "[403, 413, 304, 323]"
      ]
     },
     "execution_count": 137,
     "metadata": {},
     "output_type": "execute_result"
    }
   ],
   "source": []
  },
  {
   "cell_type": "code",
   "execution_count": 139,
   "id": "5a749c89",
   "metadata": {},
   "outputs": [],
   "source": [
    "p = np.random.choice(P)\n",
    "s = np.random.choice(S)\n",
    "N = [np.random.randint(int(1.2 * p), int(2.5 * p)) for _ in range(4)]\n",
    "B = generate_connection_matrix(p, s)\n",
    "groups_matrix = []\n",
    "for c in range(0,C):\n",
    "    #calculate the number of edges that we want to perturb\n",
    "    n_perturbations = int(np.count_nonzero(B)* PERT)\n",
    "    #create the matrix by perturbing the original matrix\n",
    "    group_B = perturb_adjacency_matrix(B, n_perturbations,\"both\")\n",
    "    #add the connection matrix to the list\n",
    "    groups_matrix.append(group_B)\n",
    "\n",
    "    \n",
    "\n",
    "\n",
    "\n"
   ]
  },
  {
   "cell_type": "code",
   "execution_count": null,
   "id": "da6ea063",
   "metadata": {},
   "outputs": [
    {
     "data": {
      "text/plain": [
       "4"
      ]
     },
     "execution_count": 142,
     "metadata": {},
     "output_type": "execute_result"
    }
   ],
   "source": []
  },
  {
   "cell_type": "code",
   "execution_count": 110,
   "id": "14394439",
   "metadata": {},
   "outputs": [
    {
     "data": {
      "text/plain": [
       "1257"
      ]
     },
     "execution_count": 110,
     "metadata": {},
     "output_type": "execute_result"
    }
   ],
   "source": [
    "np.count_nonzero(B)\n"
   ]
  },
  {
   "cell_type": "code",
   "execution_count": 199,
   "id": "f423d4d7",
   "metadata": {},
   "outputs": [],
   "source": [
    "variances = np.random.uniform(low=1,high=3,size=p)"
   ]
  },
  {
   "cell_type": "code",
   "execution_count": 200,
   "id": "3edcdbe0",
   "metadata": {},
   "outputs": [],
   "source": [
    "E = sample_uniform_noise(n, 5, variances)"
   ]
  },
  {
   "cell_type": "code",
   "execution_count": 201,
   "id": "6587624d",
   "metadata": {},
   "outputs": [],
   "source": [
    "X, m, perm_ = generate_dataset(E, B, permutation=None)"
   ]
  },
  {
   "cell_type": "code",
   "execution_count": 203,
   "id": "11bc98cf",
   "metadata": {},
   "outputs": [
    {
     "data": {
      "text/plain": [
       "array([ 0.492608  , -0.4916362 , -0.05906891,  1.63714322,  2.03941558])"
      ]
     },
     "execution_count": 203,
     "metadata": {},
     "output_type": "execute_result"
    }
   ],
   "source": [
    "m"
   ]
  },
  {
   "cell_type": "code",
   "execution_count": 204,
   "id": "20c94be9",
   "metadata": {},
   "outputs": [
    {
     "data": {
      "text/plain": [
       "array([4, 2, 0, 1, 3])"
      ]
     },
     "execution_count": 204,
     "metadata": {},
     "output_type": "execute_result"
    }
   ],
   "source": [
    "perm_"
   ]
  },
  {
   "cell_type": "markdown",
   "id": "996eb34a",
   "metadata": {},
   "source": [
    "## Estimating back"
   ]
  },
  {
   "cell_type": "code",
   "execution_count": 1,
   "id": "5ea0ac95",
   "metadata": {},
   "outputs": [],
   "source": [
    "import numpy as np\n",
    "import pandas as pd\n",
    "import graphviz\n",
    "import lingam\n",
    "from lingam.utils import print_causal_directions, print_dagc, make_dot"
   ]
  },
  {
   "cell_type": "code",
   "execution_count": 205,
   "id": "1e1b50d5",
   "metadata": {},
   "outputs": [
    {
     "data": {
      "text/plain": [
       "<lingam.direct_lingam.DirectLiNGAM at 0x13e318be0>"
      ]
     },
     "execution_count": 205,
     "metadata": {},
     "output_type": "execute_result"
    }
   ],
   "source": [
    "#now we can retrieve the causal graph given the generated dataset.\n",
    "model = lingam.DirectLiNGAM()\n",
    "model.fit(X)"
   ]
  },
  {
   "cell_type": "code",
   "execution_count": 217,
   "id": "53c831e9",
   "metadata": {},
   "outputs": [],
   "source": [
    "inverse_perm = np.argsort(perm_)\n",
    "B_est_original_order = model.adjacency_matrix_[inverse_perm, :][:, inverse_perm]"
   ]
  },
  {
   "cell_type": "code",
   "execution_count": 218,
   "id": "5db714c3",
   "metadata": {},
   "outputs": [
    {
     "data": {
      "image/svg+xml": [
       "<?xml version=\"1.0\" encoding=\"UTF-8\" standalone=\"no\"?>\n",
       "<!DOCTYPE svg PUBLIC \"-//W3C//DTD SVG 1.1//EN\"\n",
       " \"http://www.w3.org/Graphics/SVG/1.1/DTD/svg11.dtd\">\n",
       "<!-- Generated by graphviz version 12.2.1 (20241206.2353)\n",
       " -->\n",
       "<!-- Pages: 1 -->\n",
       "<svg width=\"182pt\" height=\"221pt\"\n",
       " viewBox=\"0.00 0.00 182.00 221.00\" xmlns=\"http://www.w3.org/2000/svg\" xmlns:xlink=\"http://www.w3.org/1999/xlink\">\n",
       "<g id=\"graph0\" class=\"graph\" transform=\"scale(1 1) rotate(0) translate(4 217)\">\n",
       "<polygon fill=\"white\" stroke=\"none\" points=\"-4,4 -4,-217 178,-217 178,4 -4,4\"/>\n",
       "<!-- x0 -->\n",
       "<g id=\"node1\" class=\"node\">\n",
       "<title>x0</title>\n",
       "<ellipse fill=\"none\" stroke=\"black\" cx=\"75\" cy=\"-195\" rx=\"27\" ry=\"18\"/>\n",
       "<text text-anchor=\"middle\" x=\"75\" y=\"-189.95\" font-family=\"Times,serif\" font-size=\"14.00\">x0</text>\n",
       "</g>\n",
       "<!-- x1 -->\n",
       "<g id=\"node2\" class=\"node\">\n",
       "<title>x1</title>\n",
       "<ellipse fill=\"none\" stroke=\"black\" cx=\"75\" cy=\"-106.5\" rx=\"27\" ry=\"18\"/>\n",
       "<text text-anchor=\"middle\" x=\"75\" y=\"-101.45\" font-family=\"Times,serif\" font-size=\"14.00\">x1</text>\n",
       "</g>\n",
       "<!-- x0&#45;&gt;x1 -->\n",
       "<g id=\"edge1\" class=\"edge\">\n",
       "<title>x0&#45;&gt;x1</title>\n",
       "<path fill=\"none\" stroke=\"black\" d=\"M75,-176.91C75,-165.26 75,-149.55 75,-136.02\"/>\n",
       "<polygon fill=\"black\" stroke=\"black\" points=\"78.5,-136.36 75,-126.36 71.5,-136.36 78.5,-136.36\"/>\n",
       "<text text-anchor=\"middle\" x=\"89.25\" y=\"-145.7\" font-family=\"Times,serif\" font-size=\"14.00\">&#45;1.03</text>\n",
       "</g>\n",
       "<!-- x2 -->\n",
       "<g id=\"node3\" class=\"node\">\n",
       "<title>x2</title>\n",
       "<ellipse fill=\"none\" stroke=\"black\" cx=\"27\" cy=\"-18\" rx=\"27\" ry=\"18\"/>\n",
       "<text text-anchor=\"middle\" x=\"27\" y=\"-12.95\" font-family=\"Times,serif\" font-size=\"14.00\">x2</text>\n",
       "</g>\n",
       "<!-- x0&#45;&gt;x2 -->\n",
       "<g id=\"edge2\" class=\"edge\">\n",
       "<title>x0&#45;&gt;x2</title>\n",
       "<path fill=\"none\" stroke=\"black\" d=\"M58.09,-180.65C43.53,-167.99 23.56,-147.51 15,-124.5 5.58,-99.16 10.89,-68.24 17.14,-46.44\"/>\n",
       "<polygon fill=\"black\" stroke=\"black\" points=\"20.42,-47.69 20.07,-37.1 13.74,-45.59 20.42,-47.69\"/>\n",
       "<text text-anchor=\"middle\" x=\"27\" y=\"-101.45\" font-family=\"Times,serif\" font-size=\"14.00\">0.48</text>\n",
       "</g>\n",
       "<!-- x3 -->\n",
       "<g id=\"node4\" class=\"node\">\n",
       "<title>x3</title>\n",
       "<ellipse fill=\"none\" stroke=\"black\" cx=\"105\" cy=\"-18\" rx=\"27\" ry=\"18\"/>\n",
       "<text text-anchor=\"middle\" x=\"105\" y=\"-12.95\" font-family=\"Times,serif\" font-size=\"14.00\">x3</text>\n",
       "</g>\n",
       "<!-- x0&#45;&gt;x3 -->\n",
       "<g id=\"edge4\" class=\"edge\">\n",
       "<title>x0&#45;&gt;x3</title>\n",
       "<path fill=\"none\" stroke=\"black\" d=\"M91.26,-180.51C97.43,-174.54 103.94,-167.05 108,-159 126.01,-123.32 120.43,-110.31 124,-70.5 124.65,-63.2 125.8,-61.11 124,-54 123.23,-50.96 122.14,-47.91 120.86,-44.93\"/>\n",
       "<polygon fill=\"black\" stroke=\"black\" points=\"124,-43.38 116.36,-36.04 117.75,-46.54 124,-43.38\"/>\n",
       "<text text-anchor=\"middle\" x=\"134.78\" y=\"-101.45\" font-family=\"Times,serif\" font-size=\"14.00\">1.19</text>\n",
       "</g>\n",
       "<!-- x1&#45;&gt;x2 -->\n",
       "<g id=\"edge3\" class=\"edge\">\n",
       "<title>x1&#45;&gt;x2</title>\n",
       "<path fill=\"none\" stroke=\"black\" d=\"M65.48,-89.55C61.97,-83.6 58.01,-76.77 54.5,-70.5 49.96,-62.38 45.14,-53.46 40.82,-45.37\"/>\n",
       "<polygon fill=\"black\" stroke=\"black\" points=\"43.99,-43.86 36.22,-36.66 37.8,-47.14 43.99,-43.86\"/>\n",
       "<text text-anchor=\"middle\" x=\"68.75\" y=\"-57.2\" font-family=\"Times,serif\" font-size=\"14.00\">&#45;0.60</text>\n",
       "</g>\n",
       "<!-- x1&#45;&gt;x3 -->\n",
       "<g id=\"edge5\" class=\"edge\">\n",
       "<title>x1&#45;&gt;x3</title>\n",
       "<path fill=\"none\" stroke=\"black\" d=\"M80.78,-88.82C84.95,-76.81 90.66,-60.34 95.49,-46.41\"/>\n",
       "<polygon fill=\"black\" stroke=\"black\" points=\"98.67,-47.95 98.64,-37.35 92.05,-45.65 98.67,-47.95\"/>\n",
       "<text text-anchor=\"middle\" x=\"106.94\" y=\"-57.2\" font-family=\"Times,serif\" font-size=\"14.00\">&#45;1.49</text>\n",
       "</g>\n",
       "<!-- x4 -->\n",
       "<g id=\"node5\" class=\"node\">\n",
       "<title>x4</title>\n",
       "<ellipse fill=\"none\" stroke=\"black\" cx=\"147\" cy=\"-195\" rx=\"27\" ry=\"18\"/>\n",
       "<text text-anchor=\"middle\" x=\"147\" y=\"-189.95\" font-family=\"Times,serif\" font-size=\"14.00\">x4</text>\n",
       "</g>\n",
       "</g>\n",
       "</svg>\n"
      ],
      "text/plain": [
       "<graphviz.graphs.Digraph at 0x1405b24d0>"
      ]
     },
     "execution_count": 218,
     "metadata": {},
     "output_type": "execute_result"
    }
   ],
   "source": [
    "make_dot(B_est_original_order)"
   ]
  },
  {
   "cell_type": "code",
   "execution_count": 208,
   "id": "f4508609",
   "metadata": {},
   "outputs": [
    {
     "data": {
      "image/svg+xml": [
       "<?xml version=\"1.0\" encoding=\"UTF-8\" standalone=\"no\"?>\n",
       "<!DOCTYPE svg PUBLIC \"-//W3C//DTD SVG 1.1//EN\"\n",
       " \"http://www.w3.org/Graphics/SVG/1.1/DTD/svg11.dtd\">\n",
       "<!-- Generated by graphviz version 12.2.1 (20241206.2353)\n",
       " -->\n",
       "<!-- Pages: 1 -->\n",
       "<svg width=\"182pt\" height=\"221pt\"\n",
       " viewBox=\"0.00 0.00 182.00 221.00\" xmlns=\"http://www.w3.org/2000/svg\" xmlns:xlink=\"http://www.w3.org/1999/xlink\">\n",
       "<g id=\"graph0\" class=\"graph\" transform=\"scale(1 1) rotate(0) translate(4 217)\">\n",
       "<polygon fill=\"white\" stroke=\"none\" points=\"-4,4 -4,-217 178,-217 178,4 -4,4\"/>\n",
       "<!-- x0 -->\n",
       "<g id=\"node1\" class=\"node\">\n",
       "<title>x0</title>\n",
       "<ellipse fill=\"none\" stroke=\"black\" cx=\"75\" cy=\"-195\" rx=\"27\" ry=\"18\"/>\n",
       "<text text-anchor=\"middle\" x=\"75\" y=\"-189.95\" font-family=\"Times,serif\" font-size=\"14.00\">x0</text>\n",
       "</g>\n",
       "<!-- x1 -->\n",
       "<g id=\"node2\" class=\"node\">\n",
       "<title>x1</title>\n",
       "<ellipse fill=\"none\" stroke=\"black\" cx=\"75\" cy=\"-106.5\" rx=\"27\" ry=\"18\"/>\n",
       "<text text-anchor=\"middle\" x=\"75\" y=\"-101.45\" font-family=\"Times,serif\" font-size=\"14.00\">x1</text>\n",
       "</g>\n",
       "<!-- x0&#45;&gt;x1 -->\n",
       "<g id=\"edge1\" class=\"edge\">\n",
       "<title>x0&#45;&gt;x1</title>\n",
       "<path fill=\"none\" stroke=\"black\" d=\"M75,-176.91C75,-165.26 75,-149.55 75,-136.02\"/>\n",
       "<polygon fill=\"black\" stroke=\"black\" points=\"78.5,-136.36 75,-126.36 71.5,-136.36 78.5,-136.36\"/>\n",
       "<text text-anchor=\"middle\" x=\"89.25\" y=\"-145.7\" font-family=\"Times,serif\" font-size=\"14.00\">&#45;1.02</text>\n",
       "</g>\n",
       "<!-- x2 -->\n",
       "<g id=\"node3\" class=\"node\">\n",
       "<title>x2</title>\n",
       "<ellipse fill=\"none\" stroke=\"black\" cx=\"27\" cy=\"-18\" rx=\"27\" ry=\"18\"/>\n",
       "<text text-anchor=\"middle\" x=\"27\" y=\"-12.95\" font-family=\"Times,serif\" font-size=\"14.00\">x2</text>\n",
       "</g>\n",
       "<!-- x0&#45;&gt;x2 -->\n",
       "<g id=\"edge2\" class=\"edge\">\n",
       "<title>x0&#45;&gt;x2</title>\n",
       "<path fill=\"none\" stroke=\"black\" d=\"M58.09,-180.65C43.53,-167.99 23.56,-147.51 15,-124.5 5.58,-99.16 10.89,-68.24 17.14,-46.44\"/>\n",
       "<polygon fill=\"black\" stroke=\"black\" points=\"20.42,-47.69 20.07,-37.1 13.74,-45.59 20.42,-47.69\"/>\n",
       "<text text-anchor=\"middle\" x=\"27\" y=\"-101.45\" font-family=\"Times,serif\" font-size=\"14.00\">0.50</text>\n",
       "</g>\n",
       "<!-- x3 -->\n",
       "<g id=\"node4\" class=\"node\">\n",
       "<title>x3</title>\n",
       "<ellipse fill=\"none\" stroke=\"black\" cx=\"105\" cy=\"-18\" rx=\"27\" ry=\"18\"/>\n",
       "<text text-anchor=\"middle\" x=\"105\" y=\"-12.95\" font-family=\"Times,serif\" font-size=\"14.00\">x3</text>\n",
       "</g>\n",
       "<!-- x0&#45;&gt;x3 -->\n",
       "<g id=\"edge4\" class=\"edge\">\n",
       "<title>x0&#45;&gt;x3</title>\n",
       "<path fill=\"none\" stroke=\"black\" d=\"M91.26,-180.51C97.43,-174.54 103.94,-167.05 108,-159 126.01,-123.32 120.43,-110.31 124,-70.5 124.65,-63.2 125.8,-61.11 124,-54 123.23,-50.96 122.14,-47.91 120.86,-44.93\"/>\n",
       "<polygon fill=\"black\" stroke=\"black\" points=\"124,-43.38 116.36,-36.04 117.75,-46.54 124,-43.38\"/>\n",
       "<text text-anchor=\"middle\" x=\"134.78\" y=\"-101.45\" font-family=\"Times,serif\" font-size=\"14.00\">1.18</text>\n",
       "</g>\n",
       "<!-- x1&#45;&gt;x2 -->\n",
       "<g id=\"edge3\" class=\"edge\">\n",
       "<title>x1&#45;&gt;x2</title>\n",
       "<path fill=\"none\" stroke=\"black\" d=\"M65.48,-89.55C61.97,-83.6 58.01,-76.77 54.5,-70.5 49.96,-62.38 45.14,-53.46 40.82,-45.37\"/>\n",
       "<polygon fill=\"black\" stroke=\"black\" points=\"43.99,-43.86 36.22,-36.66 37.8,-47.14 43.99,-43.86\"/>\n",
       "<text text-anchor=\"middle\" x=\"68.75\" y=\"-57.2\" font-family=\"Times,serif\" font-size=\"14.00\">&#45;0.59</text>\n",
       "</g>\n",
       "<!-- x1&#45;&gt;x3 -->\n",
       "<g id=\"edge5\" class=\"edge\">\n",
       "<title>x1&#45;&gt;x3</title>\n",
       "<path fill=\"none\" stroke=\"black\" d=\"M80.78,-88.82C84.95,-76.81 90.66,-60.34 95.49,-46.41\"/>\n",
       "<polygon fill=\"black\" stroke=\"black\" points=\"98.67,-47.95 98.64,-37.35 92.05,-45.65 98.67,-47.95\"/>\n",
       "<text text-anchor=\"middle\" x=\"106.94\" y=\"-57.2\" font-family=\"Times,serif\" font-size=\"14.00\">&#45;1.49</text>\n",
       "</g>\n",
       "<!-- x4 -->\n",
       "<g id=\"node5\" class=\"node\">\n",
       "<title>x4</title>\n",
       "<ellipse fill=\"none\" stroke=\"black\" cx=\"147\" cy=\"-195\" rx=\"27\" ry=\"18\"/>\n",
       "<text text-anchor=\"middle\" x=\"147\" y=\"-189.95\" font-family=\"Times,serif\" font-size=\"14.00\">x4</text>\n",
       "</g>\n",
       "</g>\n",
       "</svg>\n"
      ],
      "text/plain": [
       "<graphviz.graphs.Digraph at 0x13e31ac20>"
      ]
     },
     "execution_count": 208,
     "metadata": {},
     "output_type": "execute_result"
    }
   ],
   "source": [
    "make_dot(B)"
   ]
  },
  {
   "cell_type": "code",
   "execution_count": 209,
   "id": "b89f9b6c",
   "metadata": {},
   "outputs": [
    {
     "data": {
      "text/plain": [
       "array([[ 0.        ,  0.        ,  0.        ,  0.        ,  0.        ],\n",
       "       [-1.01544738,  0.        ,  0.        ,  0.        ,  0.        ],\n",
       "       [ 0.50055843, -0.58787966,  0.        ,  0.        ,  0.        ],\n",
       "       [ 1.18449243, -1.49077568,  0.        ,  0.        ,  0.        ],\n",
       "       [ 0.        ,  0.        ,  0.        ,  0.        ,  0.        ]])"
      ]
     },
     "execution_count": 209,
     "metadata": {},
     "output_type": "execute_result"
    }
   ],
   "source": [
    "B"
   ]
  },
  {
   "cell_type": "markdown",
   "id": "d2e6dddc",
   "metadata": {},
   "source": [
    "## Matrix Perturbation\n"
   ]
  },
  {
   "cell_type": "code",
   "execution_count": null,
   "id": "04ec440c",
   "metadata": {},
   "outputs": [],
   "source": [
    "\n",
    "\n",
    "\n",
    "\n",
    "import networkx as nx\n",
    "\n",
    "def get_causal_order(matrix):\n",
    "    G = nx.DiGraph()\n",
    "    num_nodes = matrix.shape[0]\n",
    "\n",
    "    # Add edges from matrix\n",
    "    for i in range(num_nodes):\n",
    "        for j in range(num_nodes):\n",
    "            if matrix[i, j] != 0:\n",
    "                G.add_edge(j, i)  # edge from parent j to child i\n",
    "\n",
    "    # Compute topological sort\n",
    "    try:\n",
    "        causal_order = list(nx.topological_sort(G))\n",
    "        return causal_order\n",
    "    except nx.NetworkXUnfeasible:\n",
    "        raise ValueError(\"The graph contains cycles and is not a DAG.\")\n",
    "\n"
   ]
  },
  {
   "cell_type": "code",
   "execution_count": null,
   "id": "467d3dbd",
   "metadata": {},
   "outputs": [],
   "source": [
    "p=5\n",
    "s=0.5\n",
    "n=10000\n",
    "B=generate_connection_matrix(p, s)"
   ]
  },
  {
   "cell_type": "code",
   "execution_count": 82,
   "id": "4d52a696",
   "metadata": {},
   "outputs": [
    {
     "data": {
      "text/plain": [
       "[0, 1, 2, 3, 4]"
      ]
     },
     "execution_count": 82,
     "metadata": {},
     "output_type": "execute_result"
    }
   ],
   "source": [
    "get_causal_order(B)"
   ]
  },
  {
   "cell_type": "code",
   "execution_count": 83,
   "id": "d4c9a189",
   "metadata": {},
   "outputs": [],
   "source": [
    "B_perturbed=perturb_adjacency_matrix(B, 1, 'both')"
   ]
  },
  {
   "cell_type": "code",
   "execution_count": 84,
   "id": "20d53e3e",
   "metadata": {},
   "outputs": [
    {
     "data": {
      "text/plain": [
       "array([[ 0.        ,  0.        ,  0.        ,  0.        ,  0.        ],\n",
       "       [ 0.        ,  0.        ,  0.        ,  0.        ,  0.        ],\n",
       "       [-1.45478585,  1.28817014,  0.        ,  0.        ,  0.        ],\n",
       "       [-1.33463094, -0.98243411,  1.19673024,  0.        ,  0.        ],\n",
       "       [-0.77373517, -1.3578666 ,  1.21407613,  0.57633197,  0.        ]])"
      ]
     },
     "execution_count": 84,
     "metadata": {},
     "output_type": "execute_result"
    }
   ],
   "source": [
    "B_perturbed"
   ]
  },
  {
   "cell_type": "code",
   "execution_count": 87,
   "id": "d01b3cd9",
   "metadata": {},
   "outputs": [
    {
     "data": {
      "text/plain": [
       "[0, 1, 2, 3, 4]"
      ]
     },
     "execution_count": 87,
     "metadata": {},
     "output_type": "execute_result"
    }
   ],
   "source": [
    "get_causal_order(B_perturbed)"
   ]
  },
  {
   "cell_type": "code",
   "execution_count": 88,
   "id": "15e0b29d",
   "metadata": {},
   "outputs": [
    {
     "data": {
      "text/plain": [
       "[0, 1, 2, 3, 4]"
      ]
     },
     "execution_count": 88,
     "metadata": {},
     "output_type": "execute_result"
    }
   ],
   "source": [
    "get_causal_order(B)"
   ]
  },
  {
   "cell_type": "code",
   "execution_count": 86,
   "id": "d475ffd2",
   "metadata": {},
   "outputs": [
    {
     "data": {
      "text/plain": [
       "array([[ 0.        ,  0.        ,  0.        ,  0.        ,  0.        ],\n",
       "       [ 0.82685909,  0.        ,  0.        ,  0.        ,  0.        ],\n",
       "       [-1.45478585,  1.28817014,  0.        ,  0.        ,  0.        ],\n",
       "       [-1.33463094, -0.98243411,  1.19673024,  0.        ,  0.        ],\n",
       "       [-0.77373517, -1.3578666 ,  1.21407613,  0.57633197,  0.        ]])"
      ]
     },
     "execution_count": 86,
     "metadata": {},
     "output_type": "execute_result"
    }
   ],
   "source": [
    "B"
   ]
  },
  {
   "cell_type": "code",
   "execution_count": 74,
   "id": "9b000a43",
   "metadata": {},
   "outputs": [
    {
     "data": {
      "image/svg+xml": [
       "<?xml version=\"1.0\" encoding=\"UTF-8\" standalone=\"no\"?>\n",
       "<!DOCTYPE svg PUBLIC \"-//W3C//DTD SVG 1.1//EN\"\n",
       " \"http://www.w3.org/Graphics/SVG/1.1/DTD/svg11.dtd\">\n",
       "<!-- Generated by graphviz version 12.2.1 (20241206.2353)\n",
       " -->\n",
       "<!-- Pages: 1 -->\n",
       "<svg width=\"205pt\" height=\"221pt\"\n",
       " viewBox=\"0.00 0.00 205.00 221.00\" xmlns=\"http://www.w3.org/2000/svg\" xmlns:xlink=\"http://www.w3.org/1999/xlink\">\n",
       "<g id=\"graph0\" class=\"graph\" transform=\"scale(1 1) rotate(0) translate(4 217)\">\n",
       "<polygon fill=\"white\" stroke=\"none\" points=\"-4,4 -4,-217 201,-217 201,4 -4,4\"/>\n",
       "<!-- x0 -->\n",
       "<g id=\"node1\" class=\"node\">\n",
       "<title>x0</title>\n",
       "<ellipse fill=\"none\" stroke=\"black\" cx=\"78\" cy=\"-195\" rx=\"27\" ry=\"18\"/>\n",
       "<text text-anchor=\"middle\" x=\"78\" y=\"-189.95\" font-family=\"Times,serif\" font-size=\"14.00\">x0</text>\n",
       "</g>\n",
       "<!-- x2 -->\n",
       "<g id=\"node3\" class=\"node\">\n",
       "<title>x2</title>\n",
       "<ellipse fill=\"none\" stroke=\"black\" cx=\"27\" cy=\"-106.5\" rx=\"27\" ry=\"18\"/>\n",
       "<text text-anchor=\"middle\" x=\"27\" y=\"-101.45\" font-family=\"Times,serif\" font-size=\"14.00\">x2</text>\n",
       "</g>\n",
       "<!-- x0&#45;&gt;x2 -->\n",
       "<g id=\"edge1\" class=\"edge\">\n",
       "<title>x0&#45;&gt;x2</title>\n",
       "<path fill=\"none\" stroke=\"black\" d=\"M63.44,-179.54C57.94,-173.55 51.95,-166.29 47.5,-159 43,-151.63 39.14,-143.1 36.02,-135.13\"/>\n",
       "<polygon fill=\"black\" stroke=\"black\" points=\"39.34,-134.03 32.63,-125.83 32.77,-136.43 39.34,-134.03\"/>\n",
       "<text text-anchor=\"middle\" x=\"61.75\" y=\"-145.7\" font-family=\"Times,serif\" font-size=\"14.00\">&#45;1.42</text>\n",
       "</g>\n",
       "<!-- x3 -->\n",
       "<g id=\"node4\" class=\"node\">\n",
       "<title>x3</title>\n",
       "<ellipse fill=\"none\" stroke=\"black\" cx=\"59\" cy=\"-18\" rx=\"27\" ry=\"18\"/>\n",
       "<text text-anchor=\"middle\" x=\"59\" y=\"-12.95\" font-family=\"Times,serif\" font-size=\"14.00\">x3</text>\n",
       "</g>\n",
       "<!-- x0&#45;&gt;x3 -->\n",
       "<g id=\"edge2\" class=\"edge\">\n",
       "<title>x0&#45;&gt;x3</title>\n",
       "<path fill=\"none\" stroke=\"black\" d=\"M80.11,-176.9C82.89,-150.22 86.28,-97.28 76,-54 75.33,-51.18 74.41,-48.33 73.34,-45.52\"/>\n",
       "<polygon fill=\"black\" stroke=\"black\" points=\"76.6,-44.24 69.31,-36.56 70.22,-47.12 76.6,-44.24\"/>\n",
       "<text text-anchor=\"middle\" x=\"94.96\" y=\"-101.45\" font-family=\"Times,serif\" font-size=\"14.00\">0.92</text>\n",
       "</g>\n",
       "<!-- x1 -->\n",
       "<g id=\"node2\" class=\"node\">\n",
       "<title>x1</title>\n",
       "<ellipse fill=\"none\" stroke=\"black\" cx=\"170\" cy=\"-195\" rx=\"27\" ry=\"18\"/>\n",
       "<text text-anchor=\"middle\" x=\"170\" y=\"-189.95\" font-family=\"Times,serif\" font-size=\"14.00\">x1</text>\n",
       "</g>\n",
       "<!-- x4 -->\n",
       "<g id=\"node5\" class=\"node\">\n",
       "<title>x4</title>\n",
       "<ellipse fill=\"none\" stroke=\"black\" cx=\"170\" cy=\"-106.5\" rx=\"27\" ry=\"18\"/>\n",
       "<text text-anchor=\"middle\" x=\"170\" y=\"-101.45\" font-family=\"Times,serif\" font-size=\"14.00\">x4</text>\n",
       "</g>\n",
       "<!-- x1&#45;&gt;x4 -->\n",
       "<g id=\"edge4\" class=\"edge\">\n",
       "<title>x1&#45;&gt;x4</title>\n",
       "<path fill=\"none\" stroke=\"black\" d=\"M170,-176.91C170,-165.26 170,-149.55 170,-136.02\"/>\n",
       "<polygon fill=\"black\" stroke=\"black\" points=\"173.5,-136.36 170,-126.36 166.5,-136.36 173.5,-136.36\"/>\n",
       "<text text-anchor=\"middle\" x=\"182\" y=\"-145.7\" font-family=\"Times,serif\" font-size=\"14.00\">1.48</text>\n",
       "</g>\n",
       "<!-- x2&#45;&gt;x3 -->\n",
       "<g id=\"edge3\" class=\"edge\">\n",
       "<title>x2&#45;&gt;x3</title>\n",
       "<path fill=\"none\" stroke=\"black\" d=\"M33.17,-88.82C37.61,-76.81 43.71,-60.34 48.86,-46.41\"/>\n",
       "<polygon fill=\"black\" stroke=\"black\" points=\"52.03,-47.93 52.21,-37.34 45.46,-45.51 52.03,-47.93\"/>\n",
       "<text text-anchor=\"middle\" x=\"60.12\" y=\"-57.2\" font-family=\"Times,serif\" font-size=\"14.00\">&#45;0.65</text>\n",
       "</g>\n",
       "</g>\n",
       "</svg>\n"
      ],
      "text/plain": [
       "<graphviz.graphs.Digraph at 0x139b9abc0>"
      ]
     },
     "execution_count": 74,
     "metadata": {},
     "output_type": "execute_result"
    }
   ],
   "source": [
    "make_dot(B)"
   ]
  },
  {
   "cell_type": "code",
   "execution_count": 75,
   "id": "621f0a25",
   "metadata": {},
   "outputs": [
    {
     "data": {
      "image/svg+xml": [
       "<?xml version=\"1.0\" encoding=\"UTF-8\" standalone=\"no\"?>\n",
       "<!DOCTYPE svg PUBLIC \"-//W3C//DTD SVG 1.1//EN\"\n",
       " \"http://www.w3.org/Graphics/SVG/1.1/DTD/svg11.dtd\">\n",
       "<!-- Generated by graphviz version 12.2.1 (20241206.2353)\n",
       " -->\n",
       "<!-- Pages: 1 -->\n",
       "<svg width=\"212pt\" height=\"221pt\"\n",
       " viewBox=\"0.00 0.00 212.00 221.00\" xmlns=\"http://www.w3.org/2000/svg\" xmlns:xlink=\"http://www.w3.org/1999/xlink\">\n",
       "<g id=\"graph0\" class=\"graph\" transform=\"scale(1 1) rotate(0) translate(4 217)\">\n",
       "<polygon fill=\"white\" stroke=\"none\" points=\"-4,4 -4,-217 208,-217 208,4 -4,4\"/>\n",
       "<!-- x0 -->\n",
       "<g id=\"node1\" class=\"node\">\n",
       "<title>x0</title>\n",
       "<ellipse fill=\"none\" stroke=\"black\" cx=\"27\" cy=\"-195\" rx=\"27\" ry=\"18\"/>\n",
       "<text text-anchor=\"middle\" x=\"27\" y=\"-189.95\" font-family=\"Times,serif\" font-size=\"14.00\">x0</text>\n",
       "</g>\n",
       "<!-- x2 -->\n",
       "<g id=\"node3\" class=\"node\">\n",
       "<title>x2</title>\n",
       "<ellipse fill=\"none\" stroke=\"black\" cx=\"89\" cy=\"-106.5\" rx=\"27\" ry=\"18\"/>\n",
       "<text text-anchor=\"middle\" x=\"89\" y=\"-101.45\" font-family=\"Times,serif\" font-size=\"14.00\">x2</text>\n",
       "</g>\n",
       "<!-- x0&#45;&gt;x2 -->\n",
       "<g id=\"edge1\" class=\"edge\">\n",
       "<title>x0&#45;&gt;x2</title>\n",
       "<path fill=\"none\" stroke=\"black\" d=\"M38.13,-178.18C45.33,-167.98 54.93,-154.43 63.5,-142.5 65.85,-139.23 68.34,-135.79 70.8,-132.4\"/>\n",
       "<polygon fill=\"black\" stroke=\"black\" points=\"73.59,-134.52 76.64,-124.37 67.93,-130.4 73.59,-134.52\"/>\n",
       "<text text-anchor=\"middle\" x=\"77.75\" y=\"-145.7\" font-family=\"Times,serif\" font-size=\"14.00\">&#45;1.42</text>\n",
       "</g>\n",
       "<!-- x3 -->\n",
       "<g id=\"node4\" class=\"node\">\n",
       "<title>x3</title>\n",
       "<ellipse fill=\"none\" stroke=\"black\" cx=\"36\" cy=\"-18\" rx=\"27\" ry=\"18\"/>\n",
       "<text text-anchor=\"middle\" x=\"36\" y=\"-12.95\" font-family=\"Times,serif\" font-size=\"14.00\">x3</text>\n",
       "</g>\n",
       "<!-- x0&#45;&gt;x3 -->\n",
       "<g id=\"edge3\" class=\"edge\">\n",
       "<title>x0&#45;&gt;x3</title>\n",
       "<path fill=\"none\" stroke=\"black\" d=\"M26.9,-176.81C26.87,-155.91 27.14,-119.59 29,-88.5 29.81,-75.01 31.24,-60.11 32.59,-47.57\"/>\n",
       "<polygon fill=\"black\" stroke=\"black\" points=\"36.04,-48.22 33.68,-37.9 29.09,-47.44 36.04,-48.22\"/>\n",
       "<text text-anchor=\"middle\" x=\"41\" y=\"-101.45\" font-family=\"Times,serif\" font-size=\"14.00\">0.92</text>\n",
       "</g>\n",
       "<!-- x1 -->\n",
       "<g id=\"node2\" class=\"node\">\n",
       "<title>x1</title>\n",
       "<ellipse fill=\"none\" stroke=\"black\" cx=\"105\" cy=\"-195\" rx=\"27\" ry=\"18\"/>\n",
       "<text text-anchor=\"middle\" x=\"105\" y=\"-189.95\" font-family=\"Times,serif\" font-size=\"14.00\">x1</text>\n",
       "</g>\n",
       "<!-- x1&#45;&gt;x2 -->\n",
       "<g id=\"edge2\" class=\"edge\">\n",
       "<title>x1&#45;&gt;x2</title>\n",
       "<path fill=\"none\" stroke=\"black\" d=\"M101.84,-176.91C99.68,-165.26 96.78,-149.55 94.28,-136.02\"/>\n",
       "<polygon fill=\"black\" stroke=\"black\" points=\"97.75,-135.54 92.48,-126.34 90.86,-136.81 97.75,-135.54\"/>\n",
       "<text text-anchor=\"middle\" x=\"112.68\" y=\"-145.7\" font-family=\"Times,serif\" font-size=\"14.00\">&#45;1.19</text>\n",
       "</g>\n",
       "<!-- x2&#45;&gt;x3 -->\n",
       "<g id=\"edge4\" class=\"edge\">\n",
       "<title>x2&#45;&gt;x3</title>\n",
       "<path fill=\"none\" stroke=\"black\" d=\"M79.28,-89.63C71.56,-77.03 60.61,-59.16 51.65,-44.55\"/>\n",
       "<polygon fill=\"black\" stroke=\"black\" points=\"54.84,-43.05 46.63,-36.35 48.87,-46.7 54.84,-43.05\"/>\n",
       "<text text-anchor=\"middle\" x=\"81.5\" y=\"-57.2\" font-family=\"Times,serif\" font-size=\"14.00\">&#45;0.65</text>\n",
       "</g>\n",
       "<!-- x4 -->\n",
       "<g id=\"node5\" class=\"node\">\n",
       "<title>x4</title>\n",
       "<ellipse fill=\"none\" stroke=\"black\" cx=\"177\" cy=\"-195\" rx=\"27\" ry=\"18\"/>\n",
       "<text text-anchor=\"middle\" x=\"177\" y=\"-189.95\" font-family=\"Times,serif\" font-size=\"14.00\">x4</text>\n",
       "</g>\n",
       "</g>\n",
       "</svg>\n"
      ],
      "text/plain": [
       "<graphviz.graphs.Digraph at 0x139ab2890>"
      ]
     },
     "execution_count": 75,
     "metadata": {},
     "output_type": "execute_result"
    }
   ],
   "source": [
    "make_dot(B_perturbed)"
   ]
  },
  {
   "cell_type": "code",
   "execution_count": null,
   "id": "0f42f07a",
   "metadata": {},
   "outputs": [],
   "source": []
  }
 ],
 "metadata": {
  "kernelspec": {
   "display_name": "ment_venv",
   "language": "python",
   "name": "python3"
  },
  "language_info": {
   "codemirror_mode": {
    "name": "ipython",
    "version": 3
   },
   "file_extension": ".py",
   "mimetype": "text/x-python",
   "name": "python",
   "nbconvert_exporter": "python",
   "pygments_lexer": "ipython3",
   "version": "3.10.1"
  }
 },
 "nbformat": 4,
 "nbformat_minor": 5
}
