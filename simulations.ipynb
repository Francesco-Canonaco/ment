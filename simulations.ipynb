{
 "cells": [
  {
   "cell_type": "code",
   "execution_count": 2,
   "id": "2280ab5a",
   "metadata": {},
   "outputs": [],
   "source": [
    "import numpy as np\n",
    "import pandas as pd\n",
    "import graphviz\n",
    "import lingam\n",
    "from lingam.utils import print_causal_directions, print_dagc, make_dot"
   ]
  },
  {
   "cell_type": "code",
   "execution_count": 3,
   "id": "2d791083",
   "metadata": {},
   "outputs": [],
   "source": [
    "def sample_from_disjoint_interval(size):\n",
    "    coin_flip = np.random.rand(size) < 0.5\n",
    "    left = np.random.uniform(-1.5, -0.5, size)\n",
    "    right = np.random.uniform(0.5, 1.5, size)\n",
    "    return np.where(coin_flip, left, right)\n",
    "\n",
    "def generate_connection_matrix(p, s):\n",
    "    #s is the probability of a connection, if you \n",
    "    #want the sparsity to be the same as in the paper \n",
    "    #set s=1/(p-1)\n",
    "\n",
    "    # Generate binary adjacency matrix (lower triangle only)\n",
    "    rand_matrix = np.random.binomial(1, s, size=(p, p))\n",
    "    lower_triangle_mask = np.tril(np.ones((p, p)), k=-1)\n",
    "    adj_matrix = rand_matrix * lower_triangle_mask\n",
    "\n",
    "    # Count how many 1s (non-zero connections) to sample that many weights\n",
    "    num_connections = int(np.sum(adj_matrix))\n",
    "\n",
    "    # Generate random weights from the disjoint interval\n",
    "    weights = sample_from_disjoint_interval(num_connections)\n",
    "\n",
    "    # Fill the weights into the matrix (vectorized)\n",
    "    connection_matrix = np.zeros((p, p))\n",
    "    connection_matrix[adj_matrix == 1] = weights\n",
    "\n",
    "    return connection_matrix\n",
    "\n",
    "def sample_uniform_noise(n, p, variances):\n",
    "    # Uniform distribution on [-sqrt(3 * var), sqrt(3 * var)] has variance = var\n",
    "    e = np.zeros((n, p))\n",
    "    for i in range(p):\n",
    "        scale = np.sqrt(3 * variances[i])\n",
    "        e[:, i] = np.random.uniform(low=-scale, high=scale, size=n)\n",
    "    return e\n",
    "\n",
    "\n",
    "\n",
    "import numpy as np\n",
    "\n",
    "def generate_dataset(E, B, permutation=None):\n",
    "    \"\"\"\n",
    "    Generate dataset X from external influences E and connection matrix B,\n",
    "    with Gaussian shift and optional column permutation.\n",
    "    \n",
    "    Parameters:\n",
    "    - E: (n, p) matrix of external influences\n",
    "    - B: (p, p) connection strength matrix\n",
    "    - permutation: list or array of length p (optional). If None, a random permutation is generated.\n",
    "    \n",
    "    Returns:\n",
    "    - X_perm: the permuted data matrix (n, p)\n",
    "    - means: Gaussian shifts applied to each variable (p,)\n",
    "    - permutation: the permutation used (to apply consistently across groups)\n",
    "    \"\"\"\n",
    "    n, p = E.shape\n",
    "    I = np.eye(p)\n",
    "    A_inv = np.linalg.inv(I - B).T\n",
    "    X = E @ A_inv  # Step: X = E (I - B)^-1\n",
    "\n",
    "    # Step: Add Gaussian mean shift (N(0, 4) → std = 2)\n",
    "    means = np.random.normal(loc=0, scale=2.0, size=p)\n",
    "    X += means  # Broadcast to shift each variable\n",
    "\n",
    "    # Step: Apply consistent variable permutation\n",
    "    if permutation is None:\n",
    "        permutation = np.random.permutation(p)\n",
    "\n",
    "    X_perm = X[:, permutation]  # Permute columns\n",
    "    \n",
    "    return X_perm, means, permutation\n",
    "\n",
    "\n",
    "\n"
   ]
  },
  {
   "cell_type": "code",
   "execution_count": 4,
   "id": "32f085ed",
   "metadata": {},
   "outputs": [],
   "source": [
    "p=5\n",
    "s=0.5\n",
    "n=10000\n",
    "B=generate_connection_matrix(p, s)"
   ]
  },
  {
   "cell_type": "code",
   "execution_count": 5,
   "id": "99ea3595",
   "metadata": {},
   "outputs": [
    {
     "data": {
      "text/plain": [
       "array([[ 0.        ,  0.        ,  0.        ,  0.        ,  0.        ],\n",
       "       [ 0.        ,  0.        ,  0.        ,  0.        ,  0.        ],\n",
       "       [ 0.        , -1.22783452,  0.        ,  0.        ,  0.        ],\n",
       "       [-1.22093661,  0.80845321,  0.        ,  0.        ,  0.        ],\n",
       "       [ 0.        ,  0.        , -1.25755641,  0.53452325,  0.        ]])"
      ]
     },
     "execution_count": 5,
     "metadata": {},
     "output_type": "execute_result"
    }
   ],
   "source": [
    "B"
   ]
  },
  {
   "cell_type": "code",
   "execution_count": 199,
   "id": "f423d4d7",
   "metadata": {},
   "outputs": [],
   "source": [
    "variances = np.random.uniform(low=1,high=3,size=p)"
   ]
  },
  {
   "cell_type": "code",
   "execution_count": 200,
   "id": "3edcdbe0",
   "metadata": {},
   "outputs": [],
   "source": [
    "E = sample_uniform_noise(n, 5, variances)"
   ]
  },
  {
   "cell_type": "code",
   "execution_count": 201,
   "id": "6587624d",
   "metadata": {},
   "outputs": [],
   "source": [
    "X, m, perm_ = generate_dataset(E, B, permutation=None)"
   ]
  },
  {
   "cell_type": "code",
   "execution_count": 203,
   "id": "11bc98cf",
   "metadata": {},
   "outputs": [
    {
     "data": {
      "text/plain": [
       "array([ 0.492608  , -0.4916362 , -0.05906891,  1.63714322,  2.03941558])"
      ]
     },
     "execution_count": 203,
     "metadata": {},
     "output_type": "execute_result"
    }
   ],
   "source": [
    "m"
   ]
  },
  {
   "cell_type": "code",
   "execution_count": 204,
   "id": "20c94be9",
   "metadata": {},
   "outputs": [
    {
     "data": {
      "text/plain": [
       "array([4, 2, 0, 1, 3])"
      ]
     },
     "execution_count": 204,
     "metadata": {},
     "output_type": "execute_result"
    }
   ],
   "source": [
    "perm_"
   ]
  },
  {
   "cell_type": "markdown",
   "id": "996eb34a",
   "metadata": {},
   "source": [
    "## Estimating back"
   ]
  },
  {
   "cell_type": "code",
   "execution_count": 1,
   "id": "5ea0ac95",
   "metadata": {},
   "outputs": [],
   "source": [
    "import numpy as np\n",
    "import pandas as pd\n",
    "import graphviz\n",
    "import lingam\n",
    "from lingam.utils import print_causal_directions, print_dagc, make_dot"
   ]
  },
  {
   "cell_type": "code",
   "execution_count": 205,
   "id": "1e1b50d5",
   "metadata": {},
   "outputs": [
    {
     "data": {
      "text/plain": [
       "<lingam.direct_lingam.DirectLiNGAM at 0x13e318be0>"
      ]
     },
     "execution_count": 205,
     "metadata": {},
     "output_type": "execute_result"
    }
   ],
   "source": [
    "#now we can retrieve the causal graph given the generated dataset.\n",
    "model = lingam.DirectLiNGAM()\n",
    "model.fit(X)"
   ]
  },
  {
   "cell_type": "code",
   "execution_count": 217,
   "id": "53c831e9",
   "metadata": {},
   "outputs": [],
   "source": [
    "inverse_perm = np.argsort(perm_)\n",
    "B_est_original_order = model.adjacency_matrix_[inverse_perm, :][:, inverse_perm]"
   ]
  },
  {
   "cell_type": "code",
   "execution_count": 218,
   "id": "5db714c3",
   "metadata": {},
   "outputs": [
    {
     "data": {
      "image/svg+xml": [
       "<?xml version=\"1.0\" encoding=\"UTF-8\" standalone=\"no\"?>\n",
       "<!DOCTYPE svg PUBLIC \"-//W3C//DTD SVG 1.1//EN\"\n",
       " \"http://www.w3.org/Graphics/SVG/1.1/DTD/svg11.dtd\">\n",
       "<!-- Generated by graphviz version 12.2.1 (20241206.2353)\n",
       " -->\n",
       "<!-- Pages: 1 -->\n",
       "<svg width=\"182pt\" height=\"221pt\"\n",
       " viewBox=\"0.00 0.00 182.00 221.00\" xmlns=\"http://www.w3.org/2000/svg\" xmlns:xlink=\"http://www.w3.org/1999/xlink\">\n",
       "<g id=\"graph0\" class=\"graph\" transform=\"scale(1 1) rotate(0) translate(4 217)\">\n",
       "<polygon fill=\"white\" stroke=\"none\" points=\"-4,4 -4,-217 178,-217 178,4 -4,4\"/>\n",
       "<!-- x0 -->\n",
       "<g id=\"node1\" class=\"node\">\n",
       "<title>x0</title>\n",
       "<ellipse fill=\"none\" stroke=\"black\" cx=\"75\" cy=\"-195\" rx=\"27\" ry=\"18\"/>\n",
       "<text text-anchor=\"middle\" x=\"75\" y=\"-189.95\" font-family=\"Times,serif\" font-size=\"14.00\">x0</text>\n",
       "</g>\n",
       "<!-- x1 -->\n",
       "<g id=\"node2\" class=\"node\">\n",
       "<title>x1</title>\n",
       "<ellipse fill=\"none\" stroke=\"black\" cx=\"75\" cy=\"-106.5\" rx=\"27\" ry=\"18\"/>\n",
       "<text text-anchor=\"middle\" x=\"75\" y=\"-101.45\" font-family=\"Times,serif\" font-size=\"14.00\">x1</text>\n",
       "</g>\n",
       "<!-- x0&#45;&gt;x1 -->\n",
       "<g id=\"edge1\" class=\"edge\">\n",
       "<title>x0&#45;&gt;x1</title>\n",
       "<path fill=\"none\" stroke=\"black\" d=\"M75,-176.91C75,-165.26 75,-149.55 75,-136.02\"/>\n",
       "<polygon fill=\"black\" stroke=\"black\" points=\"78.5,-136.36 75,-126.36 71.5,-136.36 78.5,-136.36\"/>\n",
       "<text text-anchor=\"middle\" x=\"89.25\" y=\"-145.7\" font-family=\"Times,serif\" font-size=\"14.00\">&#45;1.03</text>\n",
       "</g>\n",
       "<!-- x2 -->\n",
       "<g id=\"node3\" class=\"node\">\n",
       "<title>x2</title>\n",
       "<ellipse fill=\"none\" stroke=\"black\" cx=\"27\" cy=\"-18\" rx=\"27\" ry=\"18\"/>\n",
       "<text text-anchor=\"middle\" x=\"27\" y=\"-12.95\" font-family=\"Times,serif\" font-size=\"14.00\">x2</text>\n",
       "</g>\n",
       "<!-- x0&#45;&gt;x2 -->\n",
       "<g id=\"edge2\" class=\"edge\">\n",
       "<title>x0&#45;&gt;x2</title>\n",
       "<path fill=\"none\" stroke=\"black\" d=\"M58.09,-180.65C43.53,-167.99 23.56,-147.51 15,-124.5 5.58,-99.16 10.89,-68.24 17.14,-46.44\"/>\n",
       "<polygon fill=\"black\" stroke=\"black\" points=\"20.42,-47.69 20.07,-37.1 13.74,-45.59 20.42,-47.69\"/>\n",
       "<text text-anchor=\"middle\" x=\"27\" y=\"-101.45\" font-family=\"Times,serif\" font-size=\"14.00\">0.48</text>\n",
       "</g>\n",
       "<!-- x3 -->\n",
       "<g id=\"node4\" class=\"node\">\n",
       "<title>x3</title>\n",
       "<ellipse fill=\"none\" stroke=\"black\" cx=\"105\" cy=\"-18\" rx=\"27\" ry=\"18\"/>\n",
       "<text text-anchor=\"middle\" x=\"105\" y=\"-12.95\" font-family=\"Times,serif\" font-size=\"14.00\">x3</text>\n",
       "</g>\n",
       "<!-- x0&#45;&gt;x3 -->\n",
       "<g id=\"edge4\" class=\"edge\">\n",
       "<title>x0&#45;&gt;x3</title>\n",
       "<path fill=\"none\" stroke=\"black\" d=\"M91.26,-180.51C97.43,-174.54 103.94,-167.05 108,-159 126.01,-123.32 120.43,-110.31 124,-70.5 124.65,-63.2 125.8,-61.11 124,-54 123.23,-50.96 122.14,-47.91 120.86,-44.93\"/>\n",
       "<polygon fill=\"black\" stroke=\"black\" points=\"124,-43.38 116.36,-36.04 117.75,-46.54 124,-43.38\"/>\n",
       "<text text-anchor=\"middle\" x=\"134.78\" y=\"-101.45\" font-family=\"Times,serif\" font-size=\"14.00\">1.19</text>\n",
       "</g>\n",
       "<!-- x1&#45;&gt;x2 -->\n",
       "<g id=\"edge3\" class=\"edge\">\n",
       "<title>x1&#45;&gt;x2</title>\n",
       "<path fill=\"none\" stroke=\"black\" d=\"M65.48,-89.55C61.97,-83.6 58.01,-76.77 54.5,-70.5 49.96,-62.38 45.14,-53.46 40.82,-45.37\"/>\n",
       "<polygon fill=\"black\" stroke=\"black\" points=\"43.99,-43.86 36.22,-36.66 37.8,-47.14 43.99,-43.86\"/>\n",
       "<text text-anchor=\"middle\" x=\"68.75\" y=\"-57.2\" font-family=\"Times,serif\" font-size=\"14.00\">&#45;0.60</text>\n",
       "</g>\n",
       "<!-- x1&#45;&gt;x3 -->\n",
       "<g id=\"edge5\" class=\"edge\">\n",
       "<title>x1&#45;&gt;x3</title>\n",
       "<path fill=\"none\" stroke=\"black\" d=\"M80.78,-88.82C84.95,-76.81 90.66,-60.34 95.49,-46.41\"/>\n",
       "<polygon fill=\"black\" stroke=\"black\" points=\"98.67,-47.95 98.64,-37.35 92.05,-45.65 98.67,-47.95\"/>\n",
       "<text text-anchor=\"middle\" x=\"106.94\" y=\"-57.2\" font-family=\"Times,serif\" font-size=\"14.00\">&#45;1.49</text>\n",
       "</g>\n",
       "<!-- x4 -->\n",
       "<g id=\"node5\" class=\"node\">\n",
       "<title>x4</title>\n",
       "<ellipse fill=\"none\" stroke=\"black\" cx=\"147\" cy=\"-195\" rx=\"27\" ry=\"18\"/>\n",
       "<text text-anchor=\"middle\" x=\"147\" y=\"-189.95\" font-family=\"Times,serif\" font-size=\"14.00\">x4</text>\n",
       "</g>\n",
       "</g>\n",
       "</svg>\n"
      ],
      "text/plain": [
       "<graphviz.graphs.Digraph at 0x1405b24d0>"
      ]
     },
     "execution_count": 218,
     "metadata": {},
     "output_type": "execute_result"
    }
   ],
   "source": [
    "make_dot(B_est_original_order)"
   ]
  },
  {
   "cell_type": "code",
   "execution_count": 208,
   "id": "f4508609",
   "metadata": {},
   "outputs": [
    {
     "data": {
      "image/svg+xml": [
       "<?xml version=\"1.0\" encoding=\"UTF-8\" standalone=\"no\"?>\n",
       "<!DOCTYPE svg PUBLIC \"-//W3C//DTD SVG 1.1//EN\"\n",
       " \"http://www.w3.org/Graphics/SVG/1.1/DTD/svg11.dtd\">\n",
       "<!-- Generated by graphviz version 12.2.1 (20241206.2353)\n",
       " -->\n",
       "<!-- Pages: 1 -->\n",
       "<svg width=\"182pt\" height=\"221pt\"\n",
       " viewBox=\"0.00 0.00 182.00 221.00\" xmlns=\"http://www.w3.org/2000/svg\" xmlns:xlink=\"http://www.w3.org/1999/xlink\">\n",
       "<g id=\"graph0\" class=\"graph\" transform=\"scale(1 1) rotate(0) translate(4 217)\">\n",
       "<polygon fill=\"white\" stroke=\"none\" points=\"-4,4 -4,-217 178,-217 178,4 -4,4\"/>\n",
       "<!-- x0 -->\n",
       "<g id=\"node1\" class=\"node\">\n",
       "<title>x0</title>\n",
       "<ellipse fill=\"none\" stroke=\"black\" cx=\"75\" cy=\"-195\" rx=\"27\" ry=\"18\"/>\n",
       "<text text-anchor=\"middle\" x=\"75\" y=\"-189.95\" font-family=\"Times,serif\" font-size=\"14.00\">x0</text>\n",
       "</g>\n",
       "<!-- x1 -->\n",
       "<g id=\"node2\" class=\"node\">\n",
       "<title>x1</title>\n",
       "<ellipse fill=\"none\" stroke=\"black\" cx=\"75\" cy=\"-106.5\" rx=\"27\" ry=\"18\"/>\n",
       "<text text-anchor=\"middle\" x=\"75\" y=\"-101.45\" font-family=\"Times,serif\" font-size=\"14.00\">x1</text>\n",
       "</g>\n",
       "<!-- x0&#45;&gt;x1 -->\n",
       "<g id=\"edge1\" class=\"edge\">\n",
       "<title>x0&#45;&gt;x1</title>\n",
       "<path fill=\"none\" stroke=\"black\" d=\"M75,-176.91C75,-165.26 75,-149.55 75,-136.02\"/>\n",
       "<polygon fill=\"black\" stroke=\"black\" points=\"78.5,-136.36 75,-126.36 71.5,-136.36 78.5,-136.36\"/>\n",
       "<text text-anchor=\"middle\" x=\"89.25\" y=\"-145.7\" font-family=\"Times,serif\" font-size=\"14.00\">&#45;1.02</text>\n",
       "</g>\n",
       "<!-- x2 -->\n",
       "<g id=\"node3\" class=\"node\">\n",
       "<title>x2</title>\n",
       "<ellipse fill=\"none\" stroke=\"black\" cx=\"27\" cy=\"-18\" rx=\"27\" ry=\"18\"/>\n",
       "<text text-anchor=\"middle\" x=\"27\" y=\"-12.95\" font-family=\"Times,serif\" font-size=\"14.00\">x2</text>\n",
       "</g>\n",
       "<!-- x0&#45;&gt;x2 -->\n",
       "<g id=\"edge2\" class=\"edge\">\n",
       "<title>x0&#45;&gt;x2</title>\n",
       "<path fill=\"none\" stroke=\"black\" d=\"M58.09,-180.65C43.53,-167.99 23.56,-147.51 15,-124.5 5.58,-99.16 10.89,-68.24 17.14,-46.44\"/>\n",
       "<polygon fill=\"black\" stroke=\"black\" points=\"20.42,-47.69 20.07,-37.1 13.74,-45.59 20.42,-47.69\"/>\n",
       "<text text-anchor=\"middle\" x=\"27\" y=\"-101.45\" font-family=\"Times,serif\" font-size=\"14.00\">0.50</text>\n",
       "</g>\n",
       "<!-- x3 -->\n",
       "<g id=\"node4\" class=\"node\">\n",
       "<title>x3</title>\n",
       "<ellipse fill=\"none\" stroke=\"black\" cx=\"105\" cy=\"-18\" rx=\"27\" ry=\"18\"/>\n",
       "<text text-anchor=\"middle\" x=\"105\" y=\"-12.95\" font-family=\"Times,serif\" font-size=\"14.00\">x3</text>\n",
       "</g>\n",
       "<!-- x0&#45;&gt;x3 -->\n",
       "<g id=\"edge4\" class=\"edge\">\n",
       "<title>x0&#45;&gt;x3</title>\n",
       "<path fill=\"none\" stroke=\"black\" d=\"M91.26,-180.51C97.43,-174.54 103.94,-167.05 108,-159 126.01,-123.32 120.43,-110.31 124,-70.5 124.65,-63.2 125.8,-61.11 124,-54 123.23,-50.96 122.14,-47.91 120.86,-44.93\"/>\n",
       "<polygon fill=\"black\" stroke=\"black\" points=\"124,-43.38 116.36,-36.04 117.75,-46.54 124,-43.38\"/>\n",
       "<text text-anchor=\"middle\" x=\"134.78\" y=\"-101.45\" font-family=\"Times,serif\" font-size=\"14.00\">1.18</text>\n",
       "</g>\n",
       "<!-- x1&#45;&gt;x2 -->\n",
       "<g id=\"edge3\" class=\"edge\">\n",
       "<title>x1&#45;&gt;x2</title>\n",
       "<path fill=\"none\" stroke=\"black\" d=\"M65.48,-89.55C61.97,-83.6 58.01,-76.77 54.5,-70.5 49.96,-62.38 45.14,-53.46 40.82,-45.37\"/>\n",
       "<polygon fill=\"black\" stroke=\"black\" points=\"43.99,-43.86 36.22,-36.66 37.8,-47.14 43.99,-43.86\"/>\n",
       "<text text-anchor=\"middle\" x=\"68.75\" y=\"-57.2\" font-family=\"Times,serif\" font-size=\"14.00\">&#45;0.59</text>\n",
       "</g>\n",
       "<!-- x1&#45;&gt;x3 -->\n",
       "<g id=\"edge5\" class=\"edge\">\n",
       "<title>x1&#45;&gt;x3</title>\n",
       "<path fill=\"none\" stroke=\"black\" d=\"M80.78,-88.82C84.95,-76.81 90.66,-60.34 95.49,-46.41\"/>\n",
       "<polygon fill=\"black\" stroke=\"black\" points=\"98.67,-47.95 98.64,-37.35 92.05,-45.65 98.67,-47.95\"/>\n",
       "<text text-anchor=\"middle\" x=\"106.94\" y=\"-57.2\" font-family=\"Times,serif\" font-size=\"14.00\">&#45;1.49</text>\n",
       "</g>\n",
       "<!-- x4 -->\n",
       "<g id=\"node5\" class=\"node\">\n",
       "<title>x4</title>\n",
       "<ellipse fill=\"none\" stroke=\"black\" cx=\"147\" cy=\"-195\" rx=\"27\" ry=\"18\"/>\n",
       "<text text-anchor=\"middle\" x=\"147\" y=\"-189.95\" font-family=\"Times,serif\" font-size=\"14.00\">x4</text>\n",
       "</g>\n",
       "</g>\n",
       "</svg>\n"
      ],
      "text/plain": [
       "<graphviz.graphs.Digraph at 0x13e31ac20>"
      ]
     },
     "execution_count": 208,
     "metadata": {},
     "output_type": "execute_result"
    }
   ],
   "source": [
    "make_dot(B)"
   ]
  },
  {
   "cell_type": "code",
   "execution_count": 209,
   "id": "b89f9b6c",
   "metadata": {},
   "outputs": [
    {
     "data": {
      "text/plain": [
       "array([[ 0.        ,  0.        ,  0.        ,  0.        ,  0.        ],\n",
       "       [-1.01544738,  0.        ,  0.        ,  0.        ,  0.        ],\n",
       "       [ 0.50055843, -0.58787966,  0.        ,  0.        ,  0.        ],\n",
       "       [ 1.18449243, -1.49077568,  0.        ,  0.        ,  0.        ],\n",
       "       [ 0.        ,  0.        ,  0.        ,  0.        ,  0.        ]])"
      ]
     },
     "execution_count": 209,
     "metadata": {},
     "output_type": "execute_result"
    }
   ],
   "source": [
    "B"
   ]
  },
  {
   "cell_type": "markdown",
   "id": "d2e6dddc",
   "metadata": {},
   "source": [
    "## Matrix Perturbation\n"
   ]
  },
  {
   "cell_type": "code",
   "execution_count": 17,
   "id": "04ec440c",
   "metadata": {},
   "outputs": [],
   "source": [
    "\n",
    "import random\n",
    "\n",
    "def perturb_adjacency_matrix(matrix, n=1, mode='both', weight_range=(-1.5, -0.5)):\n",
    "    \"\"\"\n",
    "    Perturbs a weighted adjacency matrix by adding/removing edges,\n",
    "    preserving causal order (i.e., j < i for edge j → i).\n",
    "\n",
    "    Parameters:\n",
    "    - matrix: np.ndarray, square weighted adjacency matrix\n",
    "    - n: number of edges to add/remove\n",
    "    - mode: 'add', 'remove', or 'both'\n",
    "    - weight_range: tuple, range of weights to assign when adding edges\n",
    "\n",
    "    Returns:\n",
    "    - new_matrix: np.ndarray, perturbed matrix\n",
    "    \"\"\"\n",
    "\n",
    "    new_matrix = matrix.copy()\n",
    "    num_nodes = new_matrix.shape[0]\n",
    "    \n",
    "    # Collect removable and addable edges\n",
    "    removable_edges = [(i, j) for i in range(num_nodes) for j in range(i) if new_matrix[i, j] != 0]\n",
    "    addable_edges = [(i, j) for i in range(num_nodes) for j in range(i) if new_matrix[i, j] == 0]\n",
    "    \n",
    "    if mode in ['remove', 'both']:\n",
    "        to_remove = random.sample(removable_edges, min(n, len(removable_edges)))\n",
    "        for i, j in to_remove:\n",
    "            new_matrix[i, j] = 0.0\n",
    "\n",
    "    if mode in ['add', 'both']:\n",
    "        to_add = random.sample(addable_edges, min(n, len(addable_edges)))\n",
    "        for i, j in to_add:\n",
    "            weight = random.uniform(*weight_range)\n",
    "            new_matrix[i, j] = weight\n",
    "\n",
    "    return new_matrix\n",
    "\n",
    "\n",
    "import networkx as nx\n",
    "\n",
    "def get_causal_order(matrix):\n",
    "    G = nx.DiGraph()\n",
    "    num_nodes = matrix.shape[0]\n",
    "\n",
    "    # Add edges from matrix\n",
    "    for i in range(num_nodes):\n",
    "        for j in range(num_nodes):\n",
    "            if matrix[i, j] != 0:\n",
    "                G.add_edge(j, i)  # edge from parent j to child i\n",
    "\n",
    "    # Compute topological sort\n",
    "    try:\n",
    "        causal_order = list(nx.topological_sort(G))\n",
    "        return causal_order\n",
    "    except nx.NetworkXUnfeasible:\n",
    "        raise ValueError(\"The graph contains cycles and is not a DAG.\")\n",
    "\n"
   ]
  },
  {
   "cell_type": "code",
   "execution_count": 7,
   "id": "467d3dbd",
   "metadata": {},
   "outputs": [],
   "source": [
    "p=5\n",
    "s=0.5\n",
    "n=10000\n",
    "B=generate_connection_matrix(p, s)"
   ]
  },
  {
   "cell_type": "code",
   "execution_count": 8,
   "id": "9dd1e59e",
   "metadata": {},
   "outputs": [],
   "source": [
    "model = lingam.DirectLiNGAM()\n",
    "model._adjacency_matrix=B"
   ]
  },
  {
   "cell_type": "code",
   "execution_count": 12,
   "id": "17e5ad63",
   "metadata": {},
   "outputs": [],
   "source": [
    "model._causal_order"
   ]
  },
  {
   "cell_type": "code",
   "execution_count": 18,
   "id": "4d52a696",
   "metadata": {},
   "outputs": [
    {
     "data": {
      "text/plain": [
       "[0, 1, 2, 3, 4]"
      ]
     },
     "execution_count": 18,
     "metadata": {},
     "output_type": "execute_result"
    }
   ],
   "source": [
    "get_causal_order(B)"
   ]
  },
  {
   "cell_type": "code",
   "execution_count": 20,
   "id": "d4c9a189",
   "metadata": {},
   "outputs": [],
   "source": [
    "B_perturbed=perturb_adjacency_matrix(B, 1, 'remove')"
   ]
  },
  {
   "cell_type": "code",
   "execution_count": 22,
   "id": "20d53e3e",
   "metadata": {},
   "outputs": [
    {
     "data": {
      "text/plain": [
       "array([[ 0.        ,  0.        ,  0.        ,  0.        ,  0.        ],\n",
       "       [ 0.        ,  0.        ,  0.        ,  0.        ,  0.        ],\n",
       "       [ 0.        ,  0.        ,  0.        ,  0.        ,  0.        ],\n",
       "       [ 1.35493197,  0.        ,  0.        ,  0.        ,  0.        ],\n",
       "       [-1.12777073,  0.        ,  0.71115245,  0.        ,  0.        ]])"
      ]
     },
     "execution_count": 22,
     "metadata": {},
     "output_type": "execute_result"
    }
   ],
   "source": [
    "B_perturbed"
   ]
  },
  {
   "cell_type": "code",
   "execution_count": 21,
   "id": "2fba20e2",
   "metadata": {},
   "outputs": [
    {
     "data": {
      "text/plain": [
       "[0, 2, 3, 4]"
      ]
     },
     "execution_count": 21,
     "metadata": {},
     "output_type": "execute_result"
    }
   ],
   "source": [
    "get_causal_order(B_perturbed)"
   ]
  },
  {
   "cell_type": "code",
   "execution_count": null,
   "id": "8ec03b88",
   "metadata": {},
   "outputs": [],
   "source": []
  },
  {
   "cell_type": "markdown",
   "id": "e8b152df",
   "metadata": {},
   "source": []
  }
 ],
 "metadata": {
  "kernelspec": {
   "display_name": "ment_venv",
   "language": "python",
   "name": "python3"
  },
  "language_info": {
   "codemirror_mode": {
    "name": "ipython",
    "version": 3
   },
   "file_extension": ".py",
   "mimetype": "text/x-python",
   "name": "python",
   "nbconvert_exporter": "python",
   "pygments_lexer": "ipython3",
   "version": "3.10.1"
  }
 },
 "nbformat": 4,
 "nbformat_minor": 5
}
